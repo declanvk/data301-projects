{
 "cells": [
  {
   "cell_type": "markdown",
   "metadata": {},
   "source": [
    "# Basic Rich Display"
   ]
  },
  {
   "cell_type": "markdown",
   "metadata": {},
   "source": [
    "## Imports"
   ]
  },
  {
   "cell_type": "markdown",
   "metadata": {},
   "source": [
    "Put any needed imports needed to display rich output the following cell:"
   ]
  },
  {
   "cell_type": "code",
   "execution_count": 1,
   "metadata": {
    "collapsed": true,
    "deletable": false,
    "nbgrader": {
     "checksum": "fea781959ae345f8e7d4ac7d7dee3bd7",
     "grade": true,
     "grade_id": "basic-rich-display-a",
     "locked": false,
     "points": 2,
     "schema_version": 1,
     "solution": true
    }
   },
   "outputs": [],
   "source": [
    "from IPython.display import HTML, Image"
   ]
  },
  {
   "cell_type": "markdown",
   "metadata": {},
   "source": [
    "# Basic rich display"
   ]
  },
  {
   "cell_type": "markdown",
   "metadata": {},
   "source": [
    "Find a Physics related image on the internet and display it in this notebook using the `Image` object.\n",
    "\n",
    "* Load it using the `url` argument to `Image` (don't upload the image to this server).\n",
    "* Make sure the set the `embed` flag so the image is embedded in the notebook data.\n",
    "* Set the width and height to `600px`."
   ]
  },
  {
   "cell_type": "code",
   "execution_count": 2,
   "metadata": {
    "collapsed": false,
    "deletable": false,
    "nbgrader": {
     "checksum": "0f5d7a601b2e2320f03748c282992c5c",
     "grade": true,
     "grade_id": "basic-rich-display-b",
     "locked": false,
     "points": 2,
     "schema_version": 1,
     "solution": true
    }
   },
   "outputs": [
    {
     "data": {
      "text/html": [
       "<img src=\"https://upload.wikimedia.org/wikipedia/commons/7/71/Lorenz_system_r28_s10_b2-6666.png\"/>"
      ],
      "text/plain": [
       "<IPython.core.display.Image object>"
      ]
     },
     "execution_count": 2,
     "metadata": {},
     "output_type": "execute_result"
    }
   ],
   "source": [
    "i = Image(url='https://upload.wikimedia.org/wikipedia/commons/7/71/Lorenz_system_r28_s10_b2-6666.png')\n",
    "i"
   ]
  },
  {
   "cell_type": "markdown",
   "metadata": {},
   "source": [
    "Use the `HTML` object to display HTML in the notebook that reproduces the table of Quarks on [this page](http://en.wikipedia.org/wiki/List_of_particles). This will require you to learn about how to create HTML tables and then pass that to the HTML object for display. Use the default HTML table styling, and use LaTeX where appropriate."
   ]
  },
  {
   "cell_type": "code",
   "execution_count": 3,
   "metadata": {
    "collapsed": false,
    "deletable": false,
    "nbgrader": {
     "checksum": "25215713a7d9f9794600f245a1608853",
     "grade": true,
     "grade_id": "basic-rich-display-c",
     "locked": false,
     "points": 4,
     "schema_version": 1,
     "solution": true
    }
   },
   "outputs": [],
   "source": [
    "s = \"\"\"\n",
    "<table>\n",
    "    <caption>Quarks</caption>\n",
    "    <thead>\n",
    "        <tr>\n",
    "            <th>Name</th>\n",
    "            <th>Symbol</th>\n",
    "            <th>Antiparticle</th>\n",
    "            <th>Charge</th>\n",
    "            <th>Mass</th>\n",
    "        </tr>\n",
    "    </thead>\n",
    "    <tbody>\n",
    "        <tr>\n",
    "            <td>up</td>\n",
    "            <td>u</td>\n",
    "            <td><span style=\"white-space:nowrap;\"><span style=\"display:inline-block;margin-bottom:-0.3em;vertical-align:0.8em;line-height:1.0em;font-size:80%;text-align:right\"><br></span><span style=\"text-decoration:overline;\">u</span><span style=\"display:inline-block;margin-bottom:-0.3em;vertical-align:0.8em;line-height:1.0em;font-size:80%;text-align:left\"><br></span></span></td>\n",
    "            <td>+<span class=\"nowrap\"> </span><span class=\"frac nowrap\"><sup>2</sup>⁄<sub>3</sub></span></td>\n",
    "            <td>1.5–3.3</td>\n",
    "        </tr>\n",
    "        <tr>\n",
    "            <td>down</td>\n",
    "            <td>d</td>\n",
    "            <td><span style=\"white-space:nowrap;\"><span style=\"display:inline-block;margin-bottom:-0.3em;vertical-align:0.8em;line-height:1.0em;font-size:80%;text-align:right\"><br></span><span style=\"text-decoration:overline;\">d</span><span style=\"display:inline-block;margin-bottom:-0.3em;vertical-align:0.8em;line-height:1.0em;font-size:80%;text-align:left\"><br></span></span></td>\n",
    "            <td>−<span class=\"nowrap\"> </span><span class=\"frac nowrap\"><sup>1</sup>⁄<sub>3</sub></span></td>\n",
    "            <td>3.5–6.0</td>\n",
    "        </tr>\n",
    "        <tr>\n",
    "            <td>charm</td>\n",
    "            <td>c</td>\n",
    "            <td><span style=\"white-space:nowrap;\"><span style=\"display:inline-block;margin-bottom:-0.3em;vertical-align:0.8em;line-height:1.0em;font-size:80%;text-align:right\"><br></span><span style=\"text-decoration:overline;\">c</span><span style=\"display:inline-block;margin-bottom:-0.3em;vertical-align:0.8em;line-height:1.0em;font-size:80%;text-align:left\"><br></span></span></td>\n",
    "            <td>+<span class=\"nowrap\"> </span><span class=\"frac nowrap\"><sup>2</sup>⁄<sub>3</sub></span></td>\n",
    "            <td>1,160–1,340</td>\n",
    "        </tr>\n",
    "        <tr>\n",
    "            <td>strange</td>\n",
    "            <td>s</td>\n",
    "            <td><span style=\"white-space:nowrap;\"><span style=\"display:inline-block;margin-bottom:-0.3em;vertical-align:0.8em;line-height:1.0em;font-size:80%;text-align:right\"><br></span><span style=\"text-decoration:overline;\">s</span><span style=\"display:inline-block;margin-bottom:-0.3em;vertical-align:0.8em;line-height:1.0em;font-size:80%;text-align:left\"><br></span></span></td>\n",
    "            <td>−<span class=\"nowrap\"> </span><span class=\"frac nowrap\"><sup>1</sup>⁄<sub>3</sub></span></td>\n",
    "            <td>70–130</td>\n",
    "        </tr>\n",
    "        <tr>\n",
    "            <td>top</td>\n",
    "            <td>t</td>\n",
    "            <td><span style=\"white-space:nowrap;\"><span style=\"display:inline-block;margin-bottom:-0.3em;vertical-align:0.8em;line-height:1.0em;font-size:80%;text-align:right\"><br></span><span style=\"text-decoration:overline;\">t</span><span style=\"display:inline-block;margin-bottom:-0.3em;vertical-align:0.8em;line-height:1.0em;font-size:80%;text-align:left\"><br></span></span></td>\n",
    "            <td>+<span class=\"nowrap\"> </span><span class=\"frac nowrap\"><sup>2</sup>⁄<sub>3</sub></span></td>\n",
    "            <td>169,100–173,300</td>\n",
    "        </tr>\n",
    "        <tr>\n",
    "            <td>bottom</td>\n",
    "            <td>b</td>\n",
    "            <td><span style=\"white-space:nowrap;\"><span style=\"display:inline-block;margin-bottom:-0.3em;vertical-align:0.8em;line-height:1.0em;font-size:80%;text-align:right\"><br></span><span style=\"text-decoration:overline;\">b</span><span style=\"display:inline-block;margin-bottom:-0.3em;vertical-align:0.8em;line-height:1.0em;font-size:80%;text-align:left\"><br></span></span></td>\n",
    "            <td>−<span class=\"nowrap\"> </span><span class=\"frac nowrap\"><sup>1</sup>⁄<sub>3</sub></span></td>\n",
    "            <td>4,130–4,370</td>\n",
    "        </tr>\n",
    "    </tbody>\n",
    "</table>\n",
    "\"\"\"\n",
    "\n",
    "h = HTML(s)"
   ]
  },
  {
   "cell_type": "code",
   "execution_count": 4,
   "metadata": {
    "collapsed": false
   },
   "outputs": [
    {
     "data": {
      "text/html": [
       "\n",
       "<table>\n",
       "    <caption>Quarks</caption>\n",
       "    <thead>\n",
       "        <tr>\n",
       "            <th>Name</th>\n",
       "            <th>Symbol</th>\n",
       "            <th>Antiparticle</th>\n",
       "            <th>Charge</th>\n",
       "            <th>Mass</th>\n",
       "        </tr>\n",
       "    </thead>\n",
       "    <tbody>\n",
       "        <tr>\n",
       "            <td>up</td>\n",
       "            <td>u</td>\n",
       "            <td><span style=\"white-space:nowrap;\"><span style=\"display:inline-block;margin-bottom:-0.3em;vertical-align:0.8em;line-height:1.0em;font-size:80%;text-align:right\"><br></span><span style=\"text-decoration:overline;\">u</span><span style=\"display:inline-block;margin-bottom:-0.3em;vertical-align:0.8em;line-height:1.0em;font-size:80%;text-align:left\"><br></span></span></td>\n",
       "            <td>+<span class=\"nowrap\"> </span><span class=\"frac nowrap\"><sup>2</sup>⁄<sub>3</sub></span></td>\n",
       "            <td>1.5–3.3</td>\n",
       "        </tr>\n",
       "        <tr>\n",
       "            <td>down</td>\n",
       "            <td>d</td>\n",
       "            <td><span style=\"white-space:nowrap;\"><span style=\"display:inline-block;margin-bottom:-0.3em;vertical-align:0.8em;line-height:1.0em;font-size:80%;text-align:right\"><br></span><span style=\"text-decoration:overline;\">d</span><span style=\"display:inline-block;margin-bottom:-0.3em;vertical-align:0.8em;line-height:1.0em;font-size:80%;text-align:left\"><br></span></span></td>\n",
       "            <td>−<span class=\"nowrap\"> </span><span class=\"frac nowrap\"><sup>1</sup>⁄<sub>3</sub></span></td>\n",
       "            <td>3.5–6.0</td>\n",
       "        </tr>\n",
       "        <tr>\n",
       "            <td>charm</td>\n",
       "            <td>c</td>\n",
       "            <td><span style=\"white-space:nowrap;\"><span style=\"display:inline-block;margin-bottom:-0.3em;vertical-align:0.8em;line-height:1.0em;font-size:80%;text-align:right\"><br></span><span style=\"text-decoration:overline;\">c</span><span style=\"display:inline-block;margin-bottom:-0.3em;vertical-align:0.8em;line-height:1.0em;font-size:80%;text-align:left\"><br></span></span></td>\n",
       "            <td>+<span class=\"nowrap\"> </span><span class=\"frac nowrap\"><sup>2</sup>⁄<sub>3</sub></span></td>\n",
       "            <td>1,160–1,340</td>\n",
       "        </tr>\n",
       "        <tr>\n",
       "            <td>strange</td>\n",
       "            <td>s</td>\n",
       "            <td><span style=\"white-space:nowrap;\"><span style=\"display:inline-block;margin-bottom:-0.3em;vertical-align:0.8em;line-height:1.0em;font-size:80%;text-align:right\"><br></span><span style=\"text-decoration:overline;\">s</span><span style=\"display:inline-block;margin-bottom:-0.3em;vertical-align:0.8em;line-height:1.0em;font-size:80%;text-align:left\"><br></span></span></td>\n",
       "            <td>−<span class=\"nowrap\"> </span><span class=\"frac nowrap\"><sup>1</sup>⁄<sub>3</sub></span></td>\n",
       "            <td>70–130</td>\n",
       "        </tr>\n",
       "        <tr>\n",
       "            <td>top</td>\n",
       "            <td>t</td>\n",
       "            <td><span style=\"white-space:nowrap;\"><span style=\"display:inline-block;margin-bottom:-0.3em;vertical-align:0.8em;line-height:1.0em;font-size:80%;text-align:right\"><br></span><span style=\"text-decoration:overline;\">t</span><span style=\"display:inline-block;margin-bottom:-0.3em;vertical-align:0.8em;line-height:1.0em;font-size:80%;text-align:left\"><br></span></span></td>\n",
       "            <td>+<span class=\"nowrap\"> </span><span class=\"frac nowrap\"><sup>2</sup>⁄<sub>3</sub></span></td>\n",
       "            <td>169,100–173,300</td>\n",
       "        </tr>\n",
       "        <tr>\n",
       "            <td>bottom</td>\n",
       "            <td>b</td>\n",
       "            <td><span style=\"white-space:nowrap;\"><span style=\"display:inline-block;margin-bottom:-0.3em;vertical-align:0.8em;line-height:1.0em;font-size:80%;text-align:right\"><br></span><span style=\"text-decoration:overline;\">b</span><span style=\"display:inline-block;margin-bottom:-0.3em;vertical-align:0.8em;line-height:1.0em;font-size:80%;text-align:left\"><br></span></span></td>\n",
       "            <td>−<span class=\"nowrap\"> </span><span class=\"frac nowrap\"><sup>1</sup>⁄<sub>3</sub></span></td>\n",
       "            <td>4,130–4,370</td>\n",
       "        </tr>\n",
       "    </tbody>\n",
       "</table>\n"
      ],
      "text/plain": [
       "<IPython.core.display.HTML object>"
      ]
     },
     "execution_count": 4,
     "metadata": {},
     "output_type": "execute_result"
    }
   ],
   "source": [
    "h"
   ]
  }
 ],
 "metadata": {
  "kernelspec": {
   "display_name": "Python 3",
   "language": "python",
   "name": "python3"
  },
  "language_info": {
   "codemirror_mode": {
    "name": "ipython",
    "version": 3
   },
   "file_extension": ".py",
   "mimetype": "text/x-python",
   "name": "python",
   "nbconvert_exporter": "python",
   "pygments_lexer": "ipython3",
   "version": "3.5.2"
  }
 },
 "nbformat": 4,
 "nbformat_minor": 0
}
