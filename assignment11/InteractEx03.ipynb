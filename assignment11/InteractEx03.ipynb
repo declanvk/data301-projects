{
 "cells": [
  {
   "cell_type": "markdown",
   "metadata": {},
   "source": [
    "# Interact Exercise 3"
   ]
  },
  {
   "cell_type": "markdown",
   "metadata": {},
   "source": [
    "## Imports"
   ]
  },
  {
   "cell_type": "code",
   "execution_count": 1,
   "metadata": {
    "collapsed": true
   },
   "outputs": [],
   "source": [
    "%matplotlib inline\n",
    "from matplotlib import pyplot as plt\n",
    "import numpy as np"
   ]
  },
  {
   "cell_type": "code",
   "execution_count": 2,
   "metadata": {
    "collapsed": false
   },
   "outputs": [],
   "source": [
    "from ipywidgets import interact, interactive, fixed\n",
    "from IPython.display import display"
   ]
  },
  {
   "cell_type": "markdown",
   "metadata": {},
   "source": [
    "# Using interact for animation with data"
   ]
  },
  {
   "cell_type": "markdown",
   "metadata": {},
   "source": [
    "A [*soliton*](http://en.wikipedia.org/wiki/Soliton) is a constant velocity wave that maintains its shape as it propagates. They arise from non-linear wave equations, such has the [Korteweg–de Vries](http://en.wikipedia.org/wiki/Korteweg%E2%80%93de_Vries_equation) equation, which has the following analytical solution:\n",
    "\n",
    "$$\n",
    "\\phi(x,t) = \\frac{1}{2} c \\mathrm{sech}^2 \\left[ \\frac{\\sqrt{c}}{2} \\left(x - ct - a \\right) \\right]\n",
    "$$\n",
    "\n",
    "The constant `c` is the velocity and the constant `a` is the initial location of the soliton.\n",
    "\n",
    "Define `soliton(x, t, c, a)` function that computes the value of the soliton wave for the given arguments. Your function should work when the postion `x` *or* `t` are NumPy arrays, in which case it should return a NumPy array itself."
   ]
  },
  {
   "cell_type": "code",
   "execution_count": 3,
   "metadata": {
    "collapsed": false,
    "deletable": false,
    "nbgrader": {
     "checksum": "fc2b476e1494564b1dc2ca1b7458579d",
     "grade": false,
     "grade_id": "interactex03a",
     "locked": false,
     "schema_version": 1,
     "solution": true
    }
   },
   "outputs": [],
   "source": [
    "def soliton(x, t, c, a):\n",
    "    \"\"\"Return phi(x, t) for a soliton wave with constants c and a.\"\"\"\n",
    "    return (1 / 2) * c * (1 / np.power(np.cosh((np.sqrt(c) / 2) * (x - c * t - a)), 2))"
   ]
  },
  {
   "cell_type": "code",
   "execution_count": 4,
   "metadata": {
    "collapsed": false,
    "deletable": false,
    "editable": false,
    "nbgrader": {
     "checksum": "dbaf563d5108d06998de634c9954abf7",
     "grade": true,
     "grade_id": "interactex03b",
     "locked": false,
     "points": 2,
     "schema_version": 1,
     "solution": false
    }
   },
   "outputs": [],
   "source": [
    "assert np.allclose(soliton(np.array([0]),0.0,1.0,0.0), np.array([0.5]))"
   ]
  },
  {
   "cell_type": "markdown",
   "metadata": {},
   "source": [
    "To create an animation of a soliton propagating in time, we are going to precompute the soliton data and store it in a 2d array. To set this up, we create the following variables and arrays:"
   ]
  },
  {
   "cell_type": "code",
   "execution_count": 5,
   "metadata": {
    "collapsed": true,
    "deletable": false,
    "editable": false,
    "nbgrader": {
     "checksum": "9873dbc55ac5de50889bdb504ca0b0c8",
     "grade": false,
     "grade_id": "interactex03c",
     "locked": true,
     "schema_version": 1,
     "solution": false
    }
   },
   "outputs": [],
   "source": [
    "tmin = 0.0\n",
    "tmax = 10.0\n",
    "tpoints = 100\n",
    "t = np.linspace(tmin, tmax, tpoints)\n",
    "\n",
    "xmin = 0.0\n",
    "xmax = 10.0\n",
    "xpoints = 200\n",
    "x = np.linspace(xmin, xmax, xpoints)\n",
    "\n",
    "c = 1.0\n",
    "a = 0.0"
   ]
  },
  {
   "cell_type": "markdown",
   "metadata": {},
   "source": [
    "Compute a 2d NumPy array called `phi`:\n",
    "\n",
    "* It should have a dtype of `float`.\n",
    "* It should have a shape of `(xpoints, tpoints)`.\n",
    "* `phi[i,j]` should contain the value $\\phi(x[i],t[j])$.\n",
    "* If you choose to you `np.meshgrid` be careful about the `indexing` argument."
   ]
  },
  {
   "cell_type": "code",
   "execution_count": 6,
   "metadata": {
    "collapsed": false,
    "deletable": false,
    "nbgrader": {
     "checksum": "de8961236fbf3cc9a00d413b8183a917",
     "grade": false,
     "grade_id": "interactex03d",
     "locked": false,
     "schema_version": 1,
     "solution": true
    }
   },
   "outputs": [],
   "source": [
    "X, T = np.meshgrid(x, t, indexing='ij')\n",
    "phi = soliton(X, T, c, a)"
   ]
  },
  {
   "cell_type": "code",
   "execution_count": 7,
   "metadata": {
    "collapsed": false,
    "deletable": false,
    "editable": false,
    "nbgrader": {
     "checksum": "63193441d9a6095e01a967a2fe098117",
     "grade": true,
     "grade_id": "interactex03e",
     "locked": false,
     "points": 4,
     "schema_version": 1,
     "solution": false
    }
   },
   "outputs": [],
   "source": [
    "assert phi.shape==(xpoints, tpoints)\n",
    "assert phi.ndim==2\n",
    "assert phi.dtype==np.dtype(float)\n",
    "assert phi[0,0]==soliton(x[0],t[0],c,a)"
   ]
  },
  {
   "cell_type": "markdown",
   "metadata": {},
   "source": [
    "Write a `plot_soliton_data(i)` function that plots the soliton wave $\\phi(x, t[i])$. Customize your plot to make it effective and beautiful."
   ]
  },
  {
   "cell_type": "code",
   "execution_count": 8,
   "metadata": {
    "collapsed": false,
    "deletable": false,
    "nbgrader": {
     "checksum": "49b9366fe7f9aae95632ff30bb1d65ed",
     "grade": false,
     "grade_id": "interactex03f",
     "locked": false,
     "schema_version": 1,
     "solution": true
    }
   },
   "outputs": [],
   "source": [
    "def plot_soliton_data(i=0):\n",
    "    \"\"\"Plot the soliton data at t[i] versus x.\"\"\"\n",
    "    plt.plot(x, phi[:, i])"
   ]
  },
  {
   "cell_type": "code",
   "execution_count": 9,
   "metadata": {
    "collapsed": false,
    "deletable": false,
    "nbgrader": {
     "checksum": "ecd74ea54c67118161e65a947b75b302",
     "grade": true,
     "grade_id": "interactex03g",
     "locked": false,
     "points": 2,
     "schema_version": 1,
     "solution": true
    }
   },
   "outputs": [
    {
     "data": {
      "image/png": "[encoded data removed]",
      "text/plain": [
       "<matplotlib.figure.Figure at 0x7f641306eb38>"
      ]
     },
     "metadata": {},
     "output_type": "display_data"
    }
   ],
   "source": [
    "plot_soliton_data(4)"
   ]
  },
  {
   "cell_type": "markdown",
   "metadata": {},
   "source": [
    "Use `interact` to animate the `plot_soliton_data` function versus time."
   ]
  },
  {
   "cell_type": "code",
   "execution_count": 10,
   "metadata": {
    "collapsed": false,
    "deletable": false,
    "nbgrader": {
     "checksum": "8bae85a1563f71a04834df06146e76d7",
     "grade": true,
     "grade_id": "interactex03h",
     "locked": false,
     "points": 2,
     "schema_version": 1,
     "solution": true
    }
   },
   "outputs": [
    {
     "data": {
      "text/plain": [
       "<function __main__.plot_soliton_data>"
      ]
     },
     "execution_count": 10,
     "metadata": {},
     "output_type": "execute_result"
    },
    {
     "data": {
      "image/png": "[encoded data removed]",
      "text/plain": [
       "<matplotlib.figure.Figure at 0x7f6412ac77f0>"
      ]
     },
     "metadata": {},
     "output_type": "display_data"
    }
   ],
   "source": [
    "interact(plot_soliton_data, i=(0, 99))"
   ]
  }
 ],
 "metadata": {
  "kernelspec": {
   "display_name": "Python 3",
   "language": "python",
   "name": "python3"
  },
  "language_info": {
   "codemirror_mode": {
    "name": "ipython",
    "version": 3
   },
   "file_extension": ".py",
   "mimetype": "text/x-python",
   "name": "python",
   "nbconvert_exporter": "python",
   "pygments_lexer": "ipython3",
   "version": "3.5.2"
  },
  "widgets": {
   "state": {
    "eb49d2178f844f65a9041d798d67b923": {
     "views": [
      {
       "cell_index": 17
      }
     ]
    }
   },
   "version": "1.2.0"
  }
 },
 "nbformat": 4,
 "nbformat_minor": 0
}
