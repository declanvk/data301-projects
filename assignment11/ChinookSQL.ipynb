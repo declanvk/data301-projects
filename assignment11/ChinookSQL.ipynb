{
 "cells": [
  {
   "cell_type": "markdown",
   "metadata": {},
   "source": [
    "# Exploring the Chinook database with SQL"
   ]
  },
  {
   "cell_type": "markdown",
   "metadata": {},
   "source": [
    "In this notebook, you will practice using SQL queries with Pandas to explore the [Chinook database](https://chinookdatabase.codeplex.com/) of music."
   ]
  },
  {
   "cell_type": "markdown",
   "metadata": {},
   "source": [
    "## Imports"
   ]
  },
  {
   "cell_type": "code",
   "execution_count": 1,
   "metadata": {
    "collapsed": true
   },
   "outputs": [],
   "source": [
    "import numpy as np\n",
    "import pandas as pd\n",
    "from pandas.io import sql\n",
    "from altair import *"
   ]
  },
  {
   "cell_type": "code",
   "execution_count": 2,
   "metadata": {
    "collapsed": true
   },
   "outputs": [],
   "source": [
    "from sqlalchemy import create_engine, inspect"
   ]
  },
  {
   "cell_type": "markdown",
   "metadata": {},
   "source": [
    "Here is a function for showing table information:"
   ]
  },
  {
   "cell_type": "code",
   "execution_count": 3,
   "metadata": {
    "collapsed": true,
    "deletable": false,
    "editable": false,
    "nbgrader": {
     "checksum": "283292ac6b7af8c936e8119ff94576d6",
     "grade": false,
     "grade_id": "chinook-sql-a",
     "locked": true,
     "schema_version": 1,
     "solution": false
    }
   },
   "outputs": [],
   "source": [
    "def table_info(table_name, i):\n",
    "    \"\"\"Shwo the column names and types as a Pandas DataFrame.\"\"\"\n",
    "    return pd.DataFrame(i.get_columns(table_name))[['name','type']]"
   ]
  },
  {
   "cell_type": "code",
   "execution_count": 4,
   "metadata": {
    "collapsed": false,
    "deletable": false,
    "editable": false,
    "nbgrader": {
     "checksum": "6e3accfa8e25157b0d519f09867b30bf",
     "grade": false,
     "grade_id": "chinook-sql-b",
     "locked": true,
     "schema_version": 1,
     "solution": false
    }
   },
   "outputs": [],
   "source": [
    "import os\n",
    "assert os.path.isfile(os.path.join('data', 'Chinook_Sqlite.sqlite'))"
   ]
  },
  {
   "cell_type": "markdown",
   "metadata": {},
   "source": [
    "## Exploring the database"
   ]
  },
  {
   "cell_type": "markdown",
   "metadata": {},
   "source": [
    "Create an SqlAlchemy engine for the Chinook database, which is in the file `data/Chinook_Sqlite.sqlite` as save the engine in a variable named `ce`:"
   ]
  },
  {
   "cell_type": "code",
   "execution_count": 5,
   "metadata": {
    "collapsed": false,
    "deletable": false,
    "nbgrader": {
     "checksum": "f6eeffc1ac814ff71ea8b5aa21bf4d87",
     "grade": false,
     "grade_id": "chinook-sql-c",
     "locked": false,
     "schema_version": 1,
     "solution": true
    }
   },
   "outputs": [],
   "source": [
    "ce = create_engine('sqlite:///data/Chinook_Sqlite.sqlite')"
   ]
  },
  {
   "cell_type": "code",
   "execution_count": 6,
   "metadata": {
    "collapsed": false,
    "deletable": false,
    "editable": false,
    "nbgrader": {
     "checksum": "d4f1f7ab27c9210e9855ebdb92de5d22",
     "grade": true,
     "grade_id": "chinook-sql-d",
     "locked": true,
     "points": 2,
     "schema_version": 1,
     "solution": false
    }
   },
   "outputs": [],
   "source": [
    "import sqlalchemy\n",
    "assert isinstance(ce, sqlalchemy.engine.base.Engine)"
   ]
  },
  {
   "cell_type": "markdown",
   "metadata": {},
   "source": [
    "Create an inspector for that engine and save it in a variable named `inspector`:"
   ]
  },
  {
   "cell_type": "code",
   "execution_count": 7,
   "metadata": {
    "collapsed": false,
    "deletable": false,
    "nbgrader": {
     "checksum": "46a0dd3ad366a430f7ef9bbc620bbce5",
     "grade": false,
     "grade_id": "chinook-sql-e",
     "locked": false,
     "schema_version": 1,
     "solution": true
    }
   },
   "outputs": [],
   "source": [
    "inspector = inspect(ce)"
   ]
  },
  {
   "cell_type": "code",
   "execution_count": 8,
   "metadata": {
    "collapsed": false,
    "deletable": false,
    "editable": false,
    "nbgrader": {
     "checksum": "1ae6a82d43685ae5f98d8707e31382e5",
     "grade": true,
     "grade_id": "chinook-sql-f",
     "locked": true,
     "points": 2,
     "schema_version": 1,
     "solution": false
    }
   },
   "outputs": [],
   "source": [
    "assert isinstance(inspector, sqlalchemy.engine.reflection.Inspector)"
   ]
  },
  {
   "cell_type": "markdown",
   "metadata": {},
   "source": [
    "Use the `inspector` and `table_info` to show the column information of the `Genre` table. Save the result in a variable named `t1` and show the table:"
   ]
  },
  {
   "cell_type": "code",
   "execution_count": 9,
   "metadata": {
    "collapsed": false,
    "deletable": false,
    "nbgrader": {
     "checksum": "f234abd299e6295a29cdc3a960eb6f61",
     "grade": false,
     "grade_id": "chinook-sql-g",
     "locked": false,
     "schema_version": 1,
     "solution": true
    }
   },
   "outputs": [],
   "source": [
    "t1 = table_info('Genre', inspector)"
   ]
  },
  {
   "cell_type": "code",
   "execution_count": 10,
   "metadata": {
    "collapsed": false
   },
   "outputs": [
    {
     "data": {
      "text/html": [
       "<div>\n",
       "<table border=\"1\" class=\"dataframe\">\n",
       "  <thead>\n",
       "    <tr style=\"text-align: right;\">\n",
       "      <th></th>\n",
       "      <th>name</th>\n",
       "      <th>type</th>\n",
       "    </tr>\n",
       "  </thead>\n",
       "  <tbody>\n",
       "    <tr>\n",
       "      <th>0</th>\n",
       "      <td>GenreId</td>\n",
       "      <td>INTEGER</td>\n",
       "    </tr>\n",
       "    <tr>\n",
       "      <th>1</th>\n",
       "      <td>Name</td>\n",
       "      <td>NVARCHAR(120)</td>\n",
       "    </tr>\n",
       "  </tbody>\n",
       "</table>\n",
       "</div>"
      ],
      "text/plain": [
       "      name           type\n",
       "0  GenreId        INTEGER\n",
       "1     Name  NVARCHAR(120)"
      ]
     },
     "execution_count": 10,
     "metadata": {},
     "output_type": "execute_result"
    }
   ],
   "source": [
    "t1"
   ]
  },
  {
   "cell_type": "code",
   "execution_count": 11,
   "metadata": {
    "collapsed": false,
    "deletable": false,
    "editable": false,
    "nbgrader": {
     "checksum": "8760e9ded875917e2877f74bdd8e78c5",
     "grade": true,
     "grade_id": "chinook-sql-h",
     "locked": true,
     "points": 2,
     "schema_version": 1,
     "solution": false
    }
   },
   "outputs": [],
   "source": [
    "assert list(t1.columns)==['name','type']\n",
    "assert len(t1)==2"
   ]
  },
  {
   "cell_type": "markdown",
   "metadata": {},
   "source": [
    "Use a SQL `SELECT` statement with `LIMIT` to look at the first 10 rows of the `Genre` table. Save the result in a variable named `t2` and show the table:"
   ]
  },
  {
   "cell_type": "code",
   "execution_count": 12,
   "metadata": {
    "collapsed": false,
    "deletable": false,
    "nbgrader": {
     "checksum": "c752b5b223940b25c3426eb7d96b832a",
     "grade": false,
     "grade_id": "chinook-sql-i",
     "locked": false,
     "schema_version": 1,
     "solution": true
    }
   },
   "outputs": [],
   "source": [
    "t2 = sql.read_sql_query(\"\"\"\n",
    "SELECT * FROM Genre LIMIT 10;\n",
    "\"\"\", ce)"
   ]
  },
  {
   "cell_type": "code",
   "execution_count": 13,
   "metadata": {
    "collapsed": false
   },
   "outputs": [
    {
     "data": {
      "text/html": [
       "<div>\n",
       "<table border=\"1\" class=\"dataframe\">\n",
       "  <thead>\n",
       "    <tr style=\"text-align: right;\">\n",
       "      <th></th>\n",
       "      <th>GenreId</th>\n",
       "      <th>Name</th>\n",
       "    </tr>\n",
       "  </thead>\n",
       "  <tbody>\n",
       "    <tr>\n",
       "      <th>0</th>\n",
       "      <td>1</td>\n",
       "      <td>Rock</td>\n",
       "    </tr>\n",
       "    <tr>\n",
       "      <th>1</th>\n",
       "      <td>2</td>\n",
       "      <td>Jazz</td>\n",
       "    </tr>\n",
       "    <tr>\n",
       "      <th>2</th>\n",
       "      <td>3</td>\n",
       "      <td>Metal</td>\n",
       "    </tr>\n",
       "    <tr>\n",
       "      <th>3</th>\n",
       "      <td>4</td>\n",
       "      <td>Alternative &amp; Punk</td>\n",
       "    </tr>\n",
       "    <tr>\n",
       "      <th>4</th>\n",
       "      <td>5</td>\n",
       "      <td>Rock And Roll</td>\n",
       "    </tr>\n",
       "    <tr>\n",
       "      <th>5</th>\n",
       "      <td>6</td>\n",
       "      <td>Blues</td>\n",
       "    </tr>\n",
       "    <tr>\n",
       "      <th>6</th>\n",
       "      <td>7</td>\n",
       "      <td>Latin</td>\n",
       "    </tr>\n",
       "    <tr>\n",
       "      <th>7</th>\n",
       "      <td>8</td>\n",
       "      <td>Reggae</td>\n",
       "    </tr>\n",
       "    <tr>\n",
       "      <th>8</th>\n",
       "      <td>9</td>\n",
       "      <td>Pop</td>\n",
       "    </tr>\n",
       "    <tr>\n",
       "      <th>9</th>\n",
       "      <td>10</td>\n",
       "      <td>Soundtrack</td>\n",
       "    </tr>\n",
       "  </tbody>\n",
       "</table>\n",
       "</div>"
      ],
      "text/plain": [
       "   GenreId                Name\n",
       "0        1                Rock\n",
       "1        2                Jazz\n",
       "2        3               Metal\n",
       "3        4  Alternative & Punk\n",
       "4        5       Rock And Roll\n",
       "5        6               Blues\n",
       "6        7               Latin\n",
       "7        8              Reggae\n",
       "8        9                 Pop\n",
       "9       10          Soundtrack"
      ]
     },
     "execution_count": 13,
     "metadata": {},
     "output_type": "execute_result"
    }
   ],
   "source": [
    "t2"
   ]
  },
  {
   "cell_type": "code",
   "execution_count": 14,
   "metadata": {
    "collapsed": true,
    "deletable": false,
    "editable": false,
    "nbgrader": {
     "checksum": "7a513fc65ac54fc593f7c0b77549102e",
     "grade": true,
     "grade_id": "chinook-sql-j",
     "locked": true,
     "points": 2,
     "schema_version": 1,
     "solution": false
    }
   },
   "outputs": [],
   "source": [
    "assert list(t2.columns)==['GenreId', 'Name']\n",
    "assert len(t2)==10"
   ]
  },
  {
   "cell_type": "markdown",
   "metadata": {},
   "source": [
    "Use the `inspector` and `table_info` to show the column information of the `Track` table. Save the result in a variable named `t3` and show the table:"
   ]
  },
  {
   "cell_type": "code",
   "execution_count": 15,
   "metadata": {
    "collapsed": false,
    "deletable": false,
    "nbgrader": {
     "checksum": "5376efa8edc2d61553c11ea6fc8a7cfd",
     "grade": false,
     "grade_id": "chinook-sql-k",
     "locked": false,
     "schema_version": 1,
     "solution": true
    }
   },
   "outputs": [],
   "source": [
    "t3 = table_info('Track', inspector)"
   ]
  },
  {
   "cell_type": "code",
   "execution_count": 16,
   "metadata": {
    "collapsed": false
   },
   "outputs": [
    {
     "data": {
      "text/html": [
       "<div>\n",
       "<table border=\"1\" class=\"dataframe\">\n",
       "  <thead>\n",
       "    <tr style=\"text-align: right;\">\n",
       "      <th></th>\n",
       "      <th>name</th>\n",
       "      <th>type</th>\n",
       "    </tr>\n",
       "  </thead>\n",
       "  <tbody>\n",
       "    <tr>\n",
       "      <th>0</th>\n",
       "      <td>TrackId</td>\n",
       "      <td>INTEGER</td>\n",
       "    </tr>\n",
       "    <tr>\n",
       "      <th>1</th>\n",
       "      <td>Name</td>\n",
       "      <td>NVARCHAR(200)</td>\n",
       "    </tr>\n",
       "    <tr>\n",
       "      <th>2</th>\n",
       "      <td>AlbumId</td>\n",
       "      <td>INTEGER</td>\n",
       "    </tr>\n",
       "    <tr>\n",
       "      <th>3</th>\n",
       "      <td>MediaTypeId</td>\n",
       "      <td>INTEGER</td>\n",
       "    </tr>\n",
       "    <tr>\n",
       "      <th>4</th>\n",
       "      <td>GenreId</td>\n",
       "      <td>INTEGER</td>\n",
       "    </tr>\n",
       "    <tr>\n",
       "      <th>5</th>\n",
       "      <td>Composer</td>\n",
       "      <td>NVARCHAR(220)</td>\n",
       "    </tr>\n",
       "    <tr>\n",
       "      <th>6</th>\n",
       "      <td>Milliseconds</td>\n",
       "      <td>INTEGER</td>\n",
       "    </tr>\n",
       "    <tr>\n",
       "      <th>7</th>\n",
       "      <td>Bytes</td>\n",
       "      <td>INTEGER</td>\n",
       "    </tr>\n",
       "    <tr>\n",
       "      <th>8</th>\n",
       "      <td>UnitPrice</td>\n",
       "      <td>NUMERIC(10, 2)</td>\n",
       "    </tr>\n",
       "  </tbody>\n",
       "</table>\n",
       "</div>"
      ],
      "text/plain": [
       "           name            type\n",
       "0       TrackId         INTEGER\n",
       "1          Name   NVARCHAR(200)\n",
       "2       AlbumId         INTEGER\n",
       "3   MediaTypeId         INTEGER\n",
       "4       GenreId         INTEGER\n",
       "5      Composer   NVARCHAR(220)\n",
       "6  Milliseconds         INTEGER\n",
       "7         Bytes         INTEGER\n",
       "8     UnitPrice  NUMERIC(10, 2)"
      ]
     },
     "execution_count": 16,
     "metadata": {},
     "output_type": "execute_result"
    }
   ],
   "source": [
    "t3"
   ]
  },
  {
   "cell_type": "code",
   "execution_count": 17,
   "metadata": {
    "collapsed": true,
    "deletable": false,
    "editable": false,
    "nbgrader": {
     "checksum": "73539cda39bc70899d8281cf591c46c1",
     "grade": true,
     "grade_id": "chinook-sql-l",
     "locked": true,
     "points": 2,
     "schema_version": 1,
     "solution": false
    }
   },
   "outputs": [],
   "source": [
    "assert list(t3.columns)==['name', 'type']\n",
    "assert len(t3)==9"
   ]
  },
  {
   "cell_type": "markdown",
   "metadata": {},
   "source": [
    "Use a SQL `SELECT` statement with `LIMIT` to look at the first 10 rows of the `Track` table. Save the result in a variable named `t4` and show the table:"
   ]
  },
  {
   "cell_type": "code",
   "execution_count": 18,
   "metadata": {
    "collapsed": false,
    "deletable": false,
    "nbgrader": {
     "checksum": "81c5a74cdf1a751806310d5c137252b5",
     "grade": false,
     "grade_id": "chinook-sql-m",
     "locked": false,
     "schema_version": 1,
     "solution": true
    }
   },
   "outputs": [],
   "source": [
    "t4 = sql.read_sql_query(\"\"\"\n",
    "SELECT * FROM Track LIMIT 10;\n",
    "\"\"\", ce)"
   ]
  },
  {
   "cell_type": "code",
   "execution_count": 19,
   "metadata": {
    "collapsed": false
   },
   "outputs": [
    {
     "data": {
      "text/html": [
       "<div>\n",
       "<table border=\"1\" class=\"dataframe\">\n",
       "  <thead>\n",
       "    <tr style=\"text-align: right;\">\n",
       "      <th></th>\n",
       "      <th>TrackId</th>\n",
       "      <th>Name</th>\n",
       "      <th>AlbumId</th>\n",
       "      <th>MediaTypeId</th>\n",
       "      <th>GenreId</th>\n",
       "      <th>Composer</th>\n",
       "      <th>Milliseconds</th>\n",
       "      <th>Bytes</th>\n",
       "      <th>UnitPrice</th>\n",
       "    </tr>\n",
       "  </thead>\n",
       "  <tbody>\n",
       "    <tr>\n",
       "      <th>0</th>\n",
       "      <td>1</td>\n",
       "      <td>For Those About To Rock (We Salute You)</td>\n",
       "      <td>1</td>\n",
       "      <td>1</td>\n",
       "      <td>1</td>\n",
       "      <td>Angus Young, Malcolm Young, Brian Johnson</td>\n",
       "      <td>343719</td>\n",
       "      <td>11170334</td>\n",
       "      <td>0.99</td>\n",
       "    </tr>\n",
       "    <tr>\n",
       "      <th>1</th>\n",
       "      <td>2</td>\n",
       "      <td>Balls to the Wall</td>\n",
       "      <td>2</td>\n",
       "      <td>2</td>\n",
       "      <td>1</td>\n",
       "      <td>None</td>\n",
       "      <td>342562</td>\n",
       "      <td>5510424</td>\n",
       "      <td>0.99</td>\n",
       "    </tr>\n",
       "    <tr>\n",
       "      <th>2</th>\n",
       "      <td>3</td>\n",
       "      <td>Fast As a Shark</td>\n",
       "      <td>3</td>\n",
       "      <td>2</td>\n",
       "      <td>1</td>\n",
       "      <td>F. Baltes, S. Kaufman, U. Dirkscneider &amp; W. Ho...</td>\n",
       "      <td>230619</td>\n",
       "      <td>3990994</td>\n",
       "      <td>0.99</td>\n",
       "    </tr>\n",
       "    <tr>\n",
       "      <th>3</th>\n",
       "      <td>4</td>\n",
       "      <td>Restless and Wild</td>\n",
       "      <td>3</td>\n",
       "      <td>2</td>\n",
       "      <td>1</td>\n",
       "      <td>F. Baltes, R.A. Smith-Diesel, S. Kaufman, U. D...</td>\n",
       "      <td>252051</td>\n",
       "      <td>4331779</td>\n",
       "      <td>0.99</td>\n",
       "    </tr>\n",
       "    <tr>\n",
       "      <th>4</th>\n",
       "      <td>5</td>\n",
       "      <td>Princess of the Dawn</td>\n",
       "      <td>3</td>\n",
       "      <td>2</td>\n",
       "      <td>1</td>\n",
       "      <td>Deaffy &amp; R.A. Smith-Diesel</td>\n",
       "      <td>375418</td>\n",
       "      <td>6290521</td>\n",
       "      <td>0.99</td>\n",
       "    </tr>\n",
       "    <tr>\n",
       "      <th>5</th>\n",
       "      <td>6</td>\n",
       "      <td>Put The Finger On You</td>\n",
       "      <td>1</td>\n",
       "      <td>1</td>\n",
       "      <td>1</td>\n",
       "      <td>Angus Young, Malcolm Young, Brian Johnson</td>\n",
       "      <td>205662</td>\n",
       "      <td>6713451</td>\n",
       "      <td>0.99</td>\n",
       "    </tr>\n",
       "    <tr>\n",
       "      <th>6</th>\n",
       "      <td>7</td>\n",
       "      <td>Let's Get It Up</td>\n",
       "      <td>1</td>\n",
       "      <td>1</td>\n",
       "      <td>1</td>\n",
       "      <td>Angus Young, Malcolm Young, Brian Johnson</td>\n",
       "      <td>233926</td>\n",
       "      <td>7636561</td>\n",
       "      <td>0.99</td>\n",
       "    </tr>\n",
       "    <tr>\n",
       "      <th>7</th>\n",
       "      <td>8</td>\n",
       "      <td>Inject The Venom</td>\n",
       "      <td>1</td>\n",
       "      <td>1</td>\n",
       "      <td>1</td>\n",
       "      <td>Angus Young, Malcolm Young, Brian Johnson</td>\n",
       "      <td>210834</td>\n",
       "      <td>6852860</td>\n",
       "      <td>0.99</td>\n",
       "    </tr>\n",
       "    <tr>\n",
       "      <th>8</th>\n",
       "      <td>9</td>\n",
       "      <td>Snowballed</td>\n",
       "      <td>1</td>\n",
       "      <td>1</td>\n",
       "      <td>1</td>\n",
       "      <td>Angus Young, Malcolm Young, Brian Johnson</td>\n",
       "      <td>203102</td>\n",
       "      <td>6599424</td>\n",
       "      <td>0.99</td>\n",
       "    </tr>\n",
       "    <tr>\n",
       "      <th>9</th>\n",
       "      <td>10</td>\n",
       "      <td>Evil Walks</td>\n",
       "      <td>1</td>\n",
       "      <td>1</td>\n",
       "      <td>1</td>\n",
       "      <td>Angus Young, Malcolm Young, Brian Johnson</td>\n",
       "      <td>263497</td>\n",
       "      <td>8611245</td>\n",
       "      <td>0.99</td>\n",
       "    </tr>\n",
       "  </tbody>\n",
       "</table>\n",
       "</div>"
      ],
      "text/plain": [
       "   TrackId                                     Name  AlbumId  MediaTypeId  \\\n",
       "0        1  For Those About To Rock (We Salute You)        1            1   \n",
       "1        2                        Balls to the Wall        2            2   \n",
       "2        3                          Fast As a Shark        3            2   \n",
       "3        4                        Restless and Wild        3            2   \n",
       "4        5                     Princess of the Dawn        3            2   \n",
       "5        6                    Put The Finger On You        1            1   \n",
       "6        7                          Let's Get It Up        1            1   \n",
       "7        8                         Inject The Venom        1            1   \n",
       "8        9                               Snowballed        1            1   \n",
       "9       10                               Evil Walks        1            1   \n",
       "\n",
       "   GenreId                                           Composer  Milliseconds  \\\n",
       "0        1          Angus Young, Malcolm Young, Brian Johnson        343719   \n",
       "1        1                                               None        342562   \n",
       "2        1  F. Baltes, S. Kaufman, U. Dirkscneider & W. Ho...        230619   \n",
       "3        1  F. Baltes, R.A. Smith-Diesel, S. Kaufman, U. D...        252051   \n",
       "4        1                         Deaffy & R.A. Smith-Diesel        375418   \n",
       "5        1          Angus Young, Malcolm Young, Brian Johnson        205662   \n",
       "6        1          Angus Young, Malcolm Young, Brian Johnson        233926   \n",
       "7        1          Angus Young, Malcolm Young, Brian Johnson        210834   \n",
       "8        1          Angus Young, Malcolm Young, Brian Johnson        203102   \n",
       "9        1          Angus Young, Malcolm Young, Brian Johnson        263497   \n",
       "\n",
       "      Bytes  UnitPrice  \n",
       "0  11170334       0.99  \n",
       "1   5510424       0.99  \n",
       "2   3990994       0.99  \n",
       "3   4331779       0.99  \n",
       "4   6290521       0.99  \n",
       "5   6713451       0.99  \n",
       "6   7636561       0.99  \n",
       "7   6852860       0.99  \n",
       "8   6599424       0.99  \n",
       "9   8611245       0.99  "
      ]
     },
     "execution_count": 19,
     "metadata": {},
     "output_type": "execute_result"
    }
   ],
   "source": [
    "t4"
   ]
  },
  {
   "cell_type": "code",
   "execution_count": 20,
   "metadata": {
    "collapsed": true,
    "deletable": false,
    "editable": false,
    "nbgrader": {
     "checksum": "8cb878f53838749d37014bd180cfee0c",
     "grade": true,
     "grade_id": "chinook-sql-n",
     "locked": true,
     "points": 2,
     "schema_version": 1,
     "solution": false
    }
   },
   "outputs": [],
   "source": [
    "assert list(t4.columns)==['TrackId','Name','AlbumId','MediaTypeId',\n",
    "                          'GenreId','Composer','Milliseconds',\n",
    "                          'Bytes','UnitPrice']\n",
    "assert len(t4)==10"
   ]
  },
  {
   "cell_type": "markdown",
   "metadata": {},
   "source": [
    "Use the `inspector` and `table_info` to show the column information of the `MediaType` table. Save the result in a variable named `t5` and show the table:"
   ]
  },
  {
   "cell_type": "code",
   "execution_count": 21,
   "metadata": {
    "collapsed": false,
    "deletable": false,
    "nbgrader": {
     "checksum": "37babc73f5a31470df3c6af18021b30e",
     "grade": false,
     "grade_id": "chinook-sql-o",
     "locked": false,
     "schema_version": 1,
     "solution": true
    }
   },
   "outputs": [],
   "source": [
    "t5 = table_info('MediaType', inspector)"
   ]
  },
  {
   "cell_type": "code",
   "execution_count": 22,
   "metadata": {
    "collapsed": false
   },
   "outputs": [
    {
     "data": {
      "text/html": [
       "<div>\n",
       "<table border=\"1\" class=\"dataframe\">\n",
       "  <thead>\n",
       "    <tr style=\"text-align: right;\">\n",
       "      <th></th>\n",
       "      <th>name</th>\n",
       "      <th>type</th>\n",
       "    </tr>\n",
       "  </thead>\n",
       "  <tbody>\n",
       "    <tr>\n",
       "      <th>0</th>\n",
       "      <td>MediaTypeId</td>\n",
       "      <td>INTEGER</td>\n",
       "    </tr>\n",
       "    <tr>\n",
       "      <th>1</th>\n",
       "      <td>Name</td>\n",
       "      <td>NVARCHAR(120)</td>\n",
       "    </tr>\n",
       "  </tbody>\n",
       "</table>\n",
       "</div>"
      ],
      "text/plain": [
       "          name           type\n",
       "0  MediaTypeId        INTEGER\n",
       "1         Name  NVARCHAR(120)"
      ]
     },
     "execution_count": 22,
     "metadata": {},
     "output_type": "execute_result"
    }
   ],
   "source": [
    "t5"
   ]
  },
  {
   "cell_type": "code",
   "execution_count": 23,
   "metadata": {
    "collapsed": true,
    "deletable": false,
    "editable": false,
    "nbgrader": {
     "checksum": "b6caa41d30336dad945d07fca11944dd",
     "grade": true,
     "grade_id": "chinook-sql-p",
     "locked": true,
     "points": 2,
     "schema_version": 1,
     "solution": false
    }
   },
   "outputs": [],
   "source": [
    "assert list(t5.columns)==['name', 'type']\n",
    "assert len(t5)==2"
   ]
  },
  {
   "cell_type": "markdown",
   "metadata": {},
   "source": [
    "Use a SQL `SELECT` statement with `LIMIT` to look at the first 10 rows of the `MediaType` table. Save the result in a variable named `t6` and show the table:"
   ]
  },
  {
   "cell_type": "code",
   "execution_count": 24,
   "metadata": {
    "collapsed": false,
    "deletable": false,
    "nbgrader": {
     "checksum": "1d2c1910919850a4492b8b9f5521d389",
     "grade": false,
     "grade_id": "chinook-sql-q",
     "locked": false,
     "schema_version": 1,
     "solution": true
    }
   },
   "outputs": [],
   "source": [
    "t6 = sql.read_sql_query(\"\"\"\n",
    "SELECT * FROM MediaType LIMIT 10;\n",
    "\"\"\", ce)"
   ]
  },
  {
   "cell_type": "code",
   "execution_count": 25,
   "metadata": {
    "collapsed": false
   },
   "outputs": [
    {
     "data": {
      "text/html": [
       "<div>\n",
       "<table border=\"1\" class=\"dataframe\">\n",
       "  <thead>\n",
       "    <tr style=\"text-align: right;\">\n",
       "      <th></th>\n",
       "      <th>MediaTypeId</th>\n",
       "      <th>Name</th>\n",
       "    </tr>\n",
       "  </thead>\n",
       "  <tbody>\n",
       "    <tr>\n",
       "      <th>0</th>\n",
       "      <td>1</td>\n",
       "      <td>MPEG audio file</td>\n",
       "    </tr>\n",
       "    <tr>\n",
       "      <th>1</th>\n",
       "      <td>2</td>\n",
       "      <td>Protected AAC audio file</td>\n",
       "    </tr>\n",
       "    <tr>\n",
       "      <th>2</th>\n",
       "      <td>3</td>\n",
       "      <td>Protected MPEG-4 video file</td>\n",
       "    </tr>\n",
       "    <tr>\n",
       "      <th>3</th>\n",
       "      <td>4</td>\n",
       "      <td>Purchased AAC audio file</td>\n",
       "    </tr>\n",
       "    <tr>\n",
       "      <th>4</th>\n",
       "      <td>5</td>\n",
       "      <td>AAC audio file</td>\n",
       "    </tr>\n",
       "  </tbody>\n",
       "</table>\n",
       "</div>"
      ],
      "text/plain": [
       "   MediaTypeId                         Name\n",
       "0            1              MPEG audio file\n",
       "1            2     Protected AAC audio file\n",
       "2            3  Protected MPEG-4 video file\n",
       "3            4     Purchased AAC audio file\n",
       "4            5               AAC audio file"
      ]
     },
     "execution_count": 25,
     "metadata": {},
     "output_type": "execute_result"
    }
   ],
   "source": [
    "t6"
   ]
  },
  {
   "cell_type": "code",
   "execution_count": 26,
   "metadata": {
    "collapsed": false,
    "deletable": false,
    "editable": false,
    "nbgrader": {
     "checksum": "f0edede106f53805a2d8e76e60eaa59e",
     "grade": true,
     "grade_id": "chinook-sql-r",
     "locked": true,
     "points": 2,
     "schema_version": 1,
     "solution": false
    }
   },
   "outputs": [],
   "source": [
    "assert list(t6.columns)==['MediaTypeId', 'Name']\n",
    "assert len(t6)==5"
   ]
  },
  {
   "cell_type": "markdown",
   "metadata": {},
   "source": [
    "Write an SQL query to select the `Name`, `Composer` and `UnitPrice` columns from the `Track` table for the rows where the `UnitPrice` is greater than `0.99`. Save the result in a variable named `t7` and show the table:"
   ]
  },
  {
   "cell_type": "code",
   "execution_count": 27,
   "metadata": {
    "collapsed": false,
    "deletable": false,
    "nbgrader": {
     "checksum": "a319826963fff72a58886b7c0f2bd998",
     "grade": false,
     "grade_id": "chinook-sql-s",
     "locked": false,
     "schema_version": 1,
     "solution": true
    }
   },
   "outputs": [],
   "source": [
    "t7 = sql.read_sql_query(\"\"\"\n",
    "SELECT Name, Composer, UnitPrice FROM Track WHERE UnitPrice > 0.99;\n",
    "\"\"\", ce)"
   ]
  },
  {
   "cell_type": "code",
   "execution_count": 28,
   "metadata": {
    "collapsed": false
   },
   "outputs": [
    {
     "data": {
      "text/html": [
       "<div>\n",
       "<table border=\"1\" class=\"dataframe\">\n",
       "  <thead>\n",
       "    <tr style=\"text-align: right;\">\n",
       "      <th></th>\n",
       "      <th>Name</th>\n",
       "      <th>Composer</th>\n",
       "      <th>UnitPrice</th>\n",
       "    </tr>\n",
       "  </thead>\n",
       "  <tbody>\n",
       "    <tr>\n",
       "      <th>0</th>\n",
       "      <td>Battlestar Galactica: The Story So Far</td>\n",
       "      <td>None</td>\n",
       "      <td>1.99</td>\n",
       "    </tr>\n",
       "    <tr>\n",
       "      <th>1</th>\n",
       "      <td>Occupation / Precipice</td>\n",
       "      <td>None</td>\n",
       "      <td>1.99</td>\n",
       "    </tr>\n",
       "    <tr>\n",
       "      <th>2</th>\n",
       "      <td>Exodus, Pt. 1</td>\n",
       "      <td>None</td>\n",
       "      <td>1.99</td>\n",
       "    </tr>\n",
       "    <tr>\n",
       "      <th>3</th>\n",
       "      <td>Exodus, Pt. 2</td>\n",
       "      <td>None</td>\n",
       "      <td>1.99</td>\n",
       "    </tr>\n",
       "    <tr>\n",
       "      <th>4</th>\n",
       "      <td>Collaborators</td>\n",
       "      <td>None</td>\n",
       "      <td>1.99</td>\n",
       "    </tr>\n",
       "    <tr>\n",
       "      <th>5</th>\n",
       "      <td>Torn</td>\n",
       "      <td>None</td>\n",
       "      <td>1.99</td>\n",
       "    </tr>\n",
       "    <tr>\n",
       "      <th>6</th>\n",
       "      <td>A Measure of Salvation</td>\n",
       "      <td>None</td>\n",
       "      <td>1.99</td>\n",
       "    </tr>\n",
       "    <tr>\n",
       "      <th>7</th>\n",
       "      <td>Hero</td>\n",
       "      <td>None</td>\n",
       "      <td>1.99</td>\n",
       "    </tr>\n",
       "    <tr>\n",
       "      <th>8</th>\n",
       "      <td>Unfinished Business</td>\n",
       "      <td>None</td>\n",
       "      <td>1.99</td>\n",
       "    </tr>\n",
       "    <tr>\n",
       "      <th>9</th>\n",
       "      <td>The Passage</td>\n",
       "      <td>None</td>\n",
       "      <td>1.99</td>\n",
       "    </tr>\n",
       "    <tr>\n",
       "      <th>10</th>\n",
       "      <td>The Eye of Jupiter</td>\n",
       "      <td>None</td>\n",
       "      <td>1.99</td>\n",
       "    </tr>\n",
       "    <tr>\n",
       "      <th>11</th>\n",
       "      <td>Rapture</td>\n",
       "      <td>None</td>\n",
       "      <td>1.99</td>\n",
       "    </tr>\n",
       "    <tr>\n",
       "      <th>12</th>\n",
       "      <td>Taking a Break from All Your Worries</td>\n",
       "      <td>None</td>\n",
       "      <td>1.99</td>\n",
       "    </tr>\n",
       "    <tr>\n",
       "      <th>13</th>\n",
       "      <td>The Woman King</td>\n",
       "      <td>None</td>\n",
       "      <td>1.99</td>\n",
       "    </tr>\n",
       "    <tr>\n",
       "      <th>14</th>\n",
       "      <td>A Day In the Life</td>\n",
       "      <td>None</td>\n",
       "      <td>1.99</td>\n",
       "    </tr>\n",
       "    <tr>\n",
       "      <th>15</th>\n",
       "      <td>Dirty Hands</td>\n",
       "      <td>None</td>\n",
       "      <td>1.99</td>\n",
       "    </tr>\n",
       "    <tr>\n",
       "      <th>16</th>\n",
       "      <td>Maelstrom</td>\n",
       "      <td>None</td>\n",
       "      <td>1.99</td>\n",
       "    </tr>\n",
       "    <tr>\n",
       "      <th>17</th>\n",
       "      <td>The Son Also Rises</td>\n",
       "      <td>None</td>\n",
       "      <td>1.99</td>\n",
       "    </tr>\n",
       "    <tr>\n",
       "      <th>18</th>\n",
       "      <td>Crossroads, Pt. 1</td>\n",
       "      <td>None</td>\n",
       "      <td>1.99</td>\n",
       "    </tr>\n",
       "    <tr>\n",
       "      <th>19</th>\n",
       "      <td>Crossroads, Pt. 2</td>\n",
       "      <td>None</td>\n",
       "      <td>1.99</td>\n",
       "    </tr>\n",
       "    <tr>\n",
       "      <th>20</th>\n",
       "      <td>Genesis</td>\n",
       "      <td>None</td>\n",
       "      <td>1.99</td>\n",
       "    </tr>\n",
       "    <tr>\n",
       "      <th>21</th>\n",
       "      <td>Don't Look Back</td>\n",
       "      <td>None</td>\n",
       "      <td>1.99</td>\n",
       "    </tr>\n",
       "    <tr>\n",
       "      <th>22</th>\n",
       "      <td>One Giant Leap</td>\n",
       "      <td>None</td>\n",
       "      <td>1.99</td>\n",
       "    </tr>\n",
       "    <tr>\n",
       "      <th>23</th>\n",
       "      <td>Collision</td>\n",
       "      <td>None</td>\n",
       "      <td>1.99</td>\n",
       "    </tr>\n",
       "    <tr>\n",
       "      <th>24</th>\n",
       "      <td>Hiros</td>\n",
       "      <td>None</td>\n",
       "      <td>1.99</td>\n",
       "    </tr>\n",
       "    <tr>\n",
       "      <th>25</th>\n",
       "      <td>Better Halves</td>\n",
       "      <td>None</td>\n",
       "      <td>1.99</td>\n",
       "    </tr>\n",
       "    <tr>\n",
       "      <th>26</th>\n",
       "      <td>Nothing to Hide</td>\n",
       "      <td>None</td>\n",
       "      <td>1.99</td>\n",
       "    </tr>\n",
       "    <tr>\n",
       "      <th>27</th>\n",
       "      <td>Seven Minutes to Midnight</td>\n",
       "      <td>None</td>\n",
       "      <td>1.99</td>\n",
       "    </tr>\n",
       "    <tr>\n",
       "      <th>28</th>\n",
       "      <td>Homecoming</td>\n",
       "      <td>None</td>\n",
       "      <td>1.99</td>\n",
       "    </tr>\n",
       "    <tr>\n",
       "      <th>29</th>\n",
       "      <td>Six Months Ago</td>\n",
       "      <td>None</td>\n",
       "      <td>1.99</td>\n",
       "    </tr>\n",
       "    <tr>\n",
       "      <th>...</th>\n",
       "      <td>...</td>\n",
       "      <td>...</td>\n",
       "      <td>...</td>\n",
       "    </tr>\n",
       "    <tr>\n",
       "      <th>183</th>\n",
       "      <td>The Man With Nine Lives</td>\n",
       "      <td>None</td>\n",
       "      <td>1.99</td>\n",
       "    </tr>\n",
       "    <tr>\n",
       "      <th>184</th>\n",
       "      <td>Murder On the Rising Star</td>\n",
       "      <td>None</td>\n",
       "      <td>1.99</td>\n",
       "    </tr>\n",
       "    <tr>\n",
       "      <th>185</th>\n",
       "      <td>Greetings from Earth, Pt. 1</td>\n",
       "      <td>None</td>\n",
       "      <td>1.99</td>\n",
       "    </tr>\n",
       "    <tr>\n",
       "      <th>186</th>\n",
       "      <td>Greetings from Earth, Pt. 2</td>\n",
       "      <td>None</td>\n",
       "      <td>1.99</td>\n",
       "    </tr>\n",
       "    <tr>\n",
       "      <th>187</th>\n",
       "      <td>Baltar's Escape</td>\n",
       "      <td>None</td>\n",
       "      <td>1.99</td>\n",
       "    </tr>\n",
       "    <tr>\n",
       "      <th>188</th>\n",
       "      <td>Experiment In Terra</td>\n",
       "      <td>None</td>\n",
       "      <td>1.99</td>\n",
       "    </tr>\n",
       "    <tr>\n",
       "      <th>189</th>\n",
       "      <td>Take the Celestra</td>\n",
       "      <td>None</td>\n",
       "      <td>1.99</td>\n",
       "    </tr>\n",
       "    <tr>\n",
       "      <th>190</th>\n",
       "      <td>The Hand of God</td>\n",
       "      <td>None</td>\n",
       "      <td>1.99</td>\n",
       "    </tr>\n",
       "    <tr>\n",
       "      <th>191</th>\n",
       "      <td>Pilot</td>\n",
       "      <td>None</td>\n",
       "      <td>1.99</td>\n",
       "    </tr>\n",
       "    <tr>\n",
       "      <th>192</th>\n",
       "      <td>Through the Looking Glass, Pt. 2</td>\n",
       "      <td>None</td>\n",
       "      <td>1.99</td>\n",
       "    </tr>\n",
       "    <tr>\n",
       "      <th>193</th>\n",
       "      <td>Through the Looking Glass, Pt. 1</td>\n",
       "      <td>None</td>\n",
       "      <td>1.99</td>\n",
       "    </tr>\n",
       "    <tr>\n",
       "      <th>194</th>\n",
       "      <td>Past, Present, and Future</td>\n",
       "      <td>None</td>\n",
       "      <td>1.99</td>\n",
       "    </tr>\n",
       "    <tr>\n",
       "      <th>195</th>\n",
       "      <td>The Beginning of the End</td>\n",
       "      <td>None</td>\n",
       "      <td>1.99</td>\n",
       "    </tr>\n",
       "    <tr>\n",
       "      <th>196</th>\n",
       "      <td>LOST Season 4 Trailer</td>\n",
       "      <td>None</td>\n",
       "      <td>1.99</td>\n",
       "    </tr>\n",
       "    <tr>\n",
       "      <th>197</th>\n",
       "      <td>LOST In 8:15</td>\n",
       "      <td>None</td>\n",
       "      <td>1.99</td>\n",
       "    </tr>\n",
       "    <tr>\n",
       "      <th>198</th>\n",
       "      <td>Confirmed Dead</td>\n",
       "      <td>None</td>\n",
       "      <td>1.99</td>\n",
       "    </tr>\n",
       "    <tr>\n",
       "      <th>199</th>\n",
       "      <td>The Economist</td>\n",
       "      <td>None</td>\n",
       "      <td>1.99</td>\n",
       "    </tr>\n",
       "    <tr>\n",
       "      <th>200</th>\n",
       "      <td>Eggtown</td>\n",
       "      <td>None</td>\n",
       "      <td>1.99</td>\n",
       "    </tr>\n",
       "    <tr>\n",
       "      <th>201</th>\n",
       "      <td>The Constant</td>\n",
       "      <td>None</td>\n",
       "      <td>1.99</td>\n",
       "    </tr>\n",
       "    <tr>\n",
       "      <th>202</th>\n",
       "      <td>The Other Woman</td>\n",
       "      <td>None</td>\n",
       "      <td>1.99</td>\n",
       "    </tr>\n",
       "    <tr>\n",
       "      <th>203</th>\n",
       "      <td>Ji Yeon</td>\n",
       "      <td>None</td>\n",
       "      <td>1.99</td>\n",
       "    </tr>\n",
       "    <tr>\n",
       "      <th>204</th>\n",
       "      <td>Meet Kevin Johnson</td>\n",
       "      <td>None</td>\n",
       "      <td>1.99</td>\n",
       "    </tr>\n",
       "    <tr>\n",
       "      <th>205</th>\n",
       "      <td>The Shape of Things to Come</td>\n",
       "      <td>None</td>\n",
       "      <td>1.99</td>\n",
       "    </tr>\n",
       "    <tr>\n",
       "      <th>206</th>\n",
       "      <td>Something Nice Back Home</td>\n",
       "      <td>None</td>\n",
       "      <td>1.99</td>\n",
       "    </tr>\n",
       "    <tr>\n",
       "      <th>207</th>\n",
       "      <td>Cabin Fever</td>\n",
       "      <td>None</td>\n",
       "      <td>1.99</td>\n",
       "    </tr>\n",
       "    <tr>\n",
       "      <th>208</th>\n",
       "      <td>There's No Place Like Home, Pt. 1</td>\n",
       "      <td>None</td>\n",
       "      <td>1.99</td>\n",
       "    </tr>\n",
       "    <tr>\n",
       "      <th>209</th>\n",
       "      <td>There's No Place Like Home, Pt. 2</td>\n",
       "      <td>None</td>\n",
       "      <td>1.99</td>\n",
       "    </tr>\n",
       "    <tr>\n",
       "      <th>210</th>\n",
       "      <td>There's No Place Like Home, Pt. 3</td>\n",
       "      <td>None</td>\n",
       "      <td>1.99</td>\n",
       "    </tr>\n",
       "    <tr>\n",
       "      <th>211</th>\n",
       "      <td>Branch Closing</td>\n",
       "      <td>None</td>\n",
       "      <td>1.99</td>\n",
       "    </tr>\n",
       "    <tr>\n",
       "      <th>212</th>\n",
       "      <td>The Return</td>\n",
       "      <td>None</td>\n",
       "      <td>1.99</td>\n",
       "    </tr>\n",
       "  </tbody>\n",
       "</table>\n",
       "<p>213 rows × 3 columns</p>\n",
       "</div>"
      ],
      "text/plain": [
       "                                       Name Composer  UnitPrice\n",
       "0    Battlestar Galactica: The Story So Far     None       1.99\n",
       "1                    Occupation / Precipice     None       1.99\n",
       "2                             Exodus, Pt. 1     None       1.99\n",
       "3                             Exodus, Pt. 2     None       1.99\n",
       "4                             Collaborators     None       1.99\n",
       "5                                      Torn     None       1.99\n",
       "6                    A Measure of Salvation     None       1.99\n",
       "7                                      Hero     None       1.99\n",
       "8                       Unfinished Business     None       1.99\n",
       "9                               The Passage     None       1.99\n",
       "10                       The Eye of Jupiter     None       1.99\n",
       "11                                  Rapture     None       1.99\n",
       "12     Taking a Break from All Your Worries     None       1.99\n",
       "13                           The Woman King     None       1.99\n",
       "14                        A Day In the Life     None       1.99\n",
       "15                              Dirty Hands     None       1.99\n",
       "16                                Maelstrom     None       1.99\n",
       "17                       The Son Also Rises     None       1.99\n",
       "18                        Crossroads, Pt. 1     None       1.99\n",
       "19                        Crossroads, Pt. 2     None       1.99\n",
       "20                                  Genesis     None       1.99\n",
       "21                          Don't Look Back     None       1.99\n",
       "22                           One Giant Leap     None       1.99\n",
       "23                                Collision     None       1.99\n",
       "24                                    Hiros     None       1.99\n",
       "25                            Better Halves     None       1.99\n",
       "26                          Nothing to Hide     None       1.99\n",
       "27                Seven Minutes to Midnight     None       1.99\n",
       "28                               Homecoming     None       1.99\n",
       "29                           Six Months Ago     None       1.99\n",
       "..                                      ...      ...        ...\n",
       "183                 The Man With Nine Lives     None       1.99\n",
       "184               Murder On the Rising Star     None       1.99\n",
       "185             Greetings from Earth, Pt. 1     None       1.99\n",
       "186             Greetings from Earth, Pt. 2     None       1.99\n",
       "187                         Baltar's Escape     None       1.99\n",
       "188                     Experiment In Terra     None       1.99\n",
       "189                       Take the Celestra     None       1.99\n",
       "190                         The Hand of God     None       1.99\n",
       "191                                   Pilot     None       1.99\n",
       "192        Through the Looking Glass, Pt. 2     None       1.99\n",
       "193        Through the Looking Glass, Pt. 1     None       1.99\n",
       "194               Past, Present, and Future     None       1.99\n",
       "195                The Beginning of the End     None       1.99\n",
       "196                   LOST Season 4 Trailer     None       1.99\n",
       "197                            LOST In 8:15     None       1.99\n",
       "198                          Confirmed Dead     None       1.99\n",
       "199                           The Economist     None       1.99\n",
       "200                                 Eggtown     None       1.99\n",
       "201                            The Constant     None       1.99\n",
       "202                         The Other Woman     None       1.99\n",
       "203                                 Ji Yeon     None       1.99\n",
       "204                      Meet Kevin Johnson     None       1.99\n",
       "205             The Shape of Things to Come     None       1.99\n",
       "206                Something Nice Back Home     None       1.99\n",
       "207                             Cabin Fever     None       1.99\n",
       "208       There's No Place Like Home, Pt. 1     None       1.99\n",
       "209       There's No Place Like Home, Pt. 2     None       1.99\n",
       "210       There's No Place Like Home, Pt. 3     None       1.99\n",
       "211                          Branch Closing     None       1.99\n",
       "212                              The Return     None       1.99\n",
       "\n",
       "[213 rows x 3 columns]"
      ]
     },
     "execution_count": 28,
     "metadata": {},
     "output_type": "execute_result"
    }
   ],
   "source": [
    "t7"
   ]
  },
  {
   "cell_type": "code",
   "execution_count": 29,
   "metadata": {
    "collapsed": true,
    "deletable": false,
    "editable": false,
    "nbgrader": {
     "checksum": "750338e1c9f93d7134679644e63b193a",
     "grade": true,
     "grade_id": "chinook-sql-t",
     "locked": true,
     "points": 2,
     "schema_version": 1,
     "solution": false
    }
   },
   "outputs": [],
   "source": [
    "assert list(t7.columns)==['Name', 'Composer', 'UnitPrice']\n",
    "assert len(t7)==213"
   ]
  },
  {
   "cell_type": "markdown",
   "metadata": {},
   "source": [
    "Join the `Track` and `Genre` tables on the `GenreId` columns and compute the average track length in seconds grouped by `Genre.Name`. Sort the results by the track length (`Track.Milliseconds`). Save the result in a variable named `j1` and show the table:"
   ]
  },
  {
   "cell_type": "code",
   "execution_count": 30,
   "metadata": {
    "collapsed": false,
    "deletable": false,
    "nbgrader": {
     "checksum": "bc17a1cbcb9d6c412a92611ffd0464b2",
     "grade": false,
     "grade_id": "chinook-sql-u",
     "locked": false,
     "schema_version": 1,
     "solution": true
    }
   },
   "outputs": [],
   "source": [
    "j1 = sql.read_sql_query(\"\"\"\n",
    "SELECT Genre.Name, avg(Track.Milliseconds / 1000) as Duration FROM Track\n",
    "    JOIN Genre ON Genre.GenreId = Track.GenreId\n",
    "    GROUP BY Genre.Name\n",
    "    ORDER BY Duration;\n",
    "\"\"\", ce)"
   ]
  },
  {
   "cell_type": "code",
   "execution_count": 31,
   "metadata": {
    "collapsed": false
   },
   "outputs": [
    {
     "data": {
      "text/html": [
       "<div>\n",
       "<table border=\"1\" class=\"dataframe\">\n",
       "  <thead>\n",
       "    <tr style=\"text-align: right;\">\n",
       "      <th></th>\n",
       "      <th>Name</th>\n",
       "      <th>Duration</th>\n",
       "    </tr>\n",
       "  </thead>\n",
       "  <tbody>\n",
       "    <tr>\n",
       "      <th>0</th>\n",
       "      <td>Rock And Roll</td>\n",
       "      <td>134.166667</td>\n",
       "    </tr>\n",
       "    <tr>\n",
       "      <th>1</th>\n",
       "      <td>Opera</td>\n",
       "      <td>174.000000</td>\n",
       "    </tr>\n",
       "    <tr>\n",
       "      <th>2</th>\n",
       "      <td>Hip Hop/Rap</td>\n",
       "      <td>177.714286</td>\n",
       "    </tr>\n",
       "    <tr>\n",
       "      <th>3</th>\n",
       "      <td>Easy Listening</td>\n",
       "      <td>188.625000</td>\n",
       "    </tr>\n",
       "    <tr>\n",
       "      <th>4</th>\n",
       "      <td>Bossa Nova</td>\n",
       "      <td>219.000000</td>\n",
       "    </tr>\n",
       "    <tr>\n",
       "      <th>5</th>\n",
       "      <td>R&amp;B/Soul</td>\n",
       "      <td>219.557377</td>\n",
       "    </tr>\n",
       "    <tr>\n",
       "      <th>6</th>\n",
       "      <td>World</td>\n",
       "      <td>224.392857</td>\n",
       "    </tr>\n",
       "    <tr>\n",
       "      <th>7</th>\n",
       "      <td>Pop</td>\n",
       "      <td>228.541667</td>\n",
       "    </tr>\n",
       "    <tr>\n",
       "      <th>8</th>\n",
       "      <td>Latin</td>\n",
       "      <td>232.378238</td>\n",
       "    </tr>\n",
       "    <tr>\n",
       "      <th>9</th>\n",
       "      <td>Alternative &amp; Punk</td>\n",
       "      <td>233.861446</td>\n",
       "    </tr>\n",
       "    <tr>\n",
       "      <th>10</th>\n",
       "      <td>Soundtrack</td>\n",
       "      <td>243.860465</td>\n",
       "    </tr>\n",
       "    <tr>\n",
       "      <th>11</th>\n",
       "      <td>Reggae</td>\n",
       "      <td>246.724138</td>\n",
       "    </tr>\n",
       "    <tr>\n",
       "      <th>12</th>\n",
       "      <td>Alternative</td>\n",
       "      <td>263.625000</td>\n",
       "    </tr>\n",
       "    <tr>\n",
       "      <th>13</th>\n",
       "      <td>Blues</td>\n",
       "      <td>269.839506</td>\n",
       "    </tr>\n",
       "    <tr>\n",
       "      <th>14</th>\n",
       "      <td>Rock</td>\n",
       "      <td>283.405551</td>\n",
       "    </tr>\n",
       "    <tr>\n",
       "      <th>15</th>\n",
       "      <td>Jazz</td>\n",
       "      <td>291.292308</td>\n",
       "    </tr>\n",
       "    <tr>\n",
       "      <th>16</th>\n",
       "      <td>Classical</td>\n",
       "      <td>293.405405</td>\n",
       "    </tr>\n",
       "    <tr>\n",
       "      <th>17</th>\n",
       "      <td>Heavy Metal</td>\n",
       "      <td>297.035714</td>\n",
       "    </tr>\n",
       "    <tr>\n",
       "      <th>18</th>\n",
       "      <td>Electronica/Dance</td>\n",
       "      <td>302.500000</td>\n",
       "    </tr>\n",
       "    <tr>\n",
       "      <th>19</th>\n",
       "      <td>Metal</td>\n",
       "      <td>309.227273</td>\n",
       "    </tr>\n",
       "    <tr>\n",
       "      <th>20</th>\n",
       "      <td>Comedy</td>\n",
       "      <td>1584.823529</td>\n",
       "    </tr>\n",
       "    <tr>\n",
       "      <th>21</th>\n",
       "      <td>TV Shows</td>\n",
       "      <td>2144.505376</td>\n",
       "    </tr>\n",
       "    <tr>\n",
       "      <th>22</th>\n",
       "      <td>Drama</td>\n",
       "      <td>2574.812500</td>\n",
       "    </tr>\n",
       "    <tr>\n",
       "      <th>23</th>\n",
       "      <td>Science Fiction</td>\n",
       "      <td>2625.000000</td>\n",
       "    </tr>\n",
       "    <tr>\n",
       "      <th>24</th>\n",
       "      <td>Sci Fi &amp; Fantasy</td>\n",
       "      <td>2911.269231</td>\n",
       "    </tr>\n",
       "  </tbody>\n",
       "</table>\n",
       "</div>"
      ],
      "text/plain": [
       "                  Name     Duration\n",
       "0        Rock And Roll   134.166667\n",
       "1                Opera   174.000000\n",
       "2          Hip Hop/Rap   177.714286\n",
       "3       Easy Listening   188.625000\n",
       "4           Bossa Nova   219.000000\n",
       "5             R&B/Soul   219.557377\n",
       "6                World   224.392857\n",
       "7                  Pop   228.541667\n",
       "8                Latin   232.378238\n",
       "9   Alternative & Punk   233.861446\n",
       "10          Soundtrack   243.860465\n",
       "11              Reggae   246.724138\n",
       "12         Alternative   263.625000\n",
       "13               Blues   269.839506\n",
       "14                Rock   283.405551\n",
       "15                Jazz   291.292308\n",
       "16           Classical   293.405405\n",
       "17         Heavy Metal   297.035714\n",
       "18   Electronica/Dance   302.500000\n",
       "19               Metal   309.227273\n",
       "20              Comedy  1584.823529\n",
       "21            TV Shows  2144.505376\n",
       "22               Drama  2574.812500\n",
       "23     Science Fiction  2625.000000\n",
       "24    Sci Fi & Fantasy  2911.269231"
      ]
     },
     "execution_count": 31,
     "metadata": {},
     "output_type": "execute_result"
    }
   ],
   "source": [
    "j1"
   ]
  },
  {
   "cell_type": "code",
   "execution_count": 32,
   "metadata": {
    "collapsed": false,
    "deletable": false,
    "editable": false,
    "nbgrader": {
     "checksum": "c87399ebd592f0afdf536b7a9f7eefda",
     "grade": true,
     "grade_id": "chinook-sql-v",
     "locked": true,
     "points": 2,
     "schema_version": 1,
     "solution": false
    }
   },
   "outputs": [],
   "source": [
    "assert list(j1.columns)==['Name', 'Duration']\n",
    "assert len(j1)==25"
   ]
  },
  {
   "cell_type": "markdown",
   "metadata": {},
   "source": [
    "Create an Altair bar chart showing the average track duration for each genre, sorted by duraction."
   ]
  },
  {
   "cell_type": "code",
   "execution_count": 33,
   "metadata": {
    "collapsed": false,
    "deletable": false,
    "nbgrader": {
     "checksum": "9c21af37e49eff03ea3ae09358576dee",
     "grade": true,
     "grade_id": "chinook-sql-w",
     "locked": false,
     "points": 2,
     "schema_version": 1,
     "solution": true
    }
   },
   "outputs": [
    {
     "data": {
      "text/html": [
       "<div class=\"vega-embed\" id=\"795b6c33-6c98-4594-adcd-7d8bc1b31f65\"></div>\n",
       "\n",
       "<style>\n",
       ".vega-embed svg, .vega-embed canvas {\n",
       "  border: 1px dotted gray;\n",
       "}\n",
       "\n",
       ".vega-embed .vega-actions a {\n",
       "  margin-right: 6px;\n",
       "}\n",
       "</style>\n"
      ]
     },
     "metadata": {
      "jupyter-vega": "#795b6c33-6c98-4594-adcd-7d8bc1b31f65"
     },
     "output_type": "display_data"
    },
    {
     "data": {
      "application/javascript": [
       "var spec = {\"mark\": \"bar\", \"config\": {\"cell\": {\"width\": 500, \"height\": 350}}, \"encoding\": {\"x\": {\"field\": \"Name\", \"sort\": {\"field\": \"Duration\", \"order\": \"descending\"}, \"type\": \"nominal\"}, \"y\": {\"field\": \"Duration\", \"type\": \"quantitative\"}}, \"data\": {\"values\": [{\"Name\": \"Rock And Roll\", \"Duration\": 134.16666666666666}, {\"Name\": \"Opera\", \"Duration\": 174.0}, {\"Name\": \"Hip Hop/Rap\", \"Duration\": 177.71428571428572}, {\"Name\": \"Easy Listening\", \"Duration\": 188.625}, {\"Name\": \"Bossa Nova\", \"Duration\": 219.0}, {\"Name\": \"R&B/Soul\", \"Duration\": 219.55737704918033}, {\"Name\": \"World\", \"Duration\": 224.39285714285714}, {\"Name\": \"Pop\", \"Duration\": 228.54166666666666}, {\"Name\": \"Latin\", \"Duration\": 232.3782383419689}, {\"Name\": \"Alternative & Punk\", \"Duration\": 233.86144578313252}, {\"Name\": \"Soundtrack\", \"Duration\": 243.86046511627907}, {\"Name\": \"Reggae\", \"Duration\": 246.72413793103448}, {\"Name\": \"Alternative\", \"Duration\": 263.625}, {\"Name\": \"Blues\", \"Duration\": 269.8395061728395}, {\"Name\": \"Rock\", \"Duration\": 283.4055512721665}, {\"Name\": \"Jazz\", \"Duration\": 291.2923076923077}, {\"Name\": \"Classical\", \"Duration\": 293.4054054054054}, {\"Name\": \"Heavy Metal\", \"Duration\": 297.0357142857143}, {\"Name\": \"Electronica/Dance\", \"Duration\": 302.5}, {\"Name\": \"Metal\", \"Duration\": 309.22727272727275}, {\"Name\": \"Comedy\", \"Duration\": 1584.8235294117646}, {\"Name\": \"TV Shows\", \"Duration\": 2144.505376344086}, {\"Name\": \"Drama\", \"Duration\": 2574.8125}, {\"Name\": \"Science Fiction\", \"Duration\": 2625.0}, {\"Name\": \"Sci Fi & Fantasy\", \"Duration\": 2911.269230769231}]}};\n",
       "var selector = \"#795b6c33-6c98-4594-adcd-7d8bc1b31f65\";\n",
       "var type = \"vega-lite\";\n",
       "\n",
       "var output_area = this;\n",
       "require(['nbextensions/jupyter-vega/index'], function(vega) {\n",
       "  vega.render(selector, spec, type, output_area);\n",
       "}, function (err) {\n",
       "  if (err.requireType !== 'scripterror') {\n",
       "    throw(err);\n",
       "  }\n",
       "});\n"
      ]
     },
     "metadata": {
      "jupyter-vega": "#795b6c33-6c98-4594-adcd-7d8bc1b31f65"
     },
     "output_type": "display_data"
    },
    {
     "data": {
      "image/png": "[encoded data removed]"
     },
     "metadata": {
      "jupyter-vega": "#795b6c33-6c98-4594-adcd-7d8bc1b31f65"
     },
     "output_type": "display_data"
    }
   ],
   "source": [
    "Chart(j1).mark_bar().encode(\n",
    "    X('Name', sort=SortField(field='Duration', order='descending')),\n",
    "    Y('Duration:Q')\n",
    ")"
   ]
  },
  {
   "cell_type": "markdown",
   "metadata": {},
   "source": [
    "Join the `MediaType` and `Track` tables and count how many tracks are released with a given media format. Order by the count of the media type. Save the result in a variable named `j2` and show the table:"
   ]
  },
  {
   "cell_type": "code",
   "execution_count": 34,
   "metadata": {
    "collapsed": false,
    "deletable": false,
    "nbgrader": {
     "checksum": "2172bc92447399a0ab4ac06a4f6da029",
     "grade": false,
     "grade_id": "chinook-sql-x",
     "locked": false,
     "schema_version": 1,
     "solution": true
    }
   },
   "outputs": [],
   "source": [
    "j2 = sql.read_sql_query(\"\"\"\n",
    "SELECT MediaType.Name, count(*) as Count FROM MediaType\n",
    "    JOIN Track ON Track.MediaTypeId = MediaType.MediaTypeId\n",
    "    GROUP BY MediaType.Name\n",
    "    ORDER BY Count;\n",
    "\"\"\", ce)"
   ]
  },
  {
   "cell_type": "code",
   "execution_count": 35,
   "metadata": {
    "collapsed": false
   },
   "outputs": [
    {
     "data": {
      "text/html": [
       "<div>\n",
       "<table border=\"1\" class=\"dataframe\">\n",
       "  <thead>\n",
       "    <tr style=\"text-align: right;\">\n",
       "      <th></th>\n",
       "      <th>Name</th>\n",
       "      <th>Count</th>\n",
       "    </tr>\n",
       "  </thead>\n",
       "  <tbody>\n",
       "    <tr>\n",
       "      <th>0</th>\n",
       "      <td>Purchased AAC audio file</td>\n",
       "      <td>7</td>\n",
       "    </tr>\n",
       "    <tr>\n",
       "      <th>1</th>\n",
       "      <td>AAC audio file</td>\n",
       "      <td>11</td>\n",
       "    </tr>\n",
       "    <tr>\n",
       "      <th>2</th>\n",
       "      <td>Protected MPEG-4 video file</td>\n",
       "      <td>214</td>\n",
       "    </tr>\n",
       "    <tr>\n",
       "      <th>3</th>\n",
       "      <td>Protected AAC audio file</td>\n",
       "      <td>237</td>\n",
       "    </tr>\n",
       "    <tr>\n",
       "      <th>4</th>\n",
       "      <td>MPEG audio file</td>\n",
       "      <td>3034</td>\n",
       "    </tr>\n",
       "  </tbody>\n",
       "</table>\n",
       "</div>"
      ],
      "text/plain": [
       "                          Name  Count\n",
       "0     Purchased AAC audio file      7\n",
       "1               AAC audio file     11\n",
       "2  Protected MPEG-4 video file    214\n",
       "3     Protected AAC audio file    237\n",
       "4              MPEG audio file   3034"
      ]
     },
     "execution_count": 35,
     "metadata": {},
     "output_type": "execute_result"
    }
   ],
   "source": [
    "j2"
   ]
  },
  {
   "cell_type": "code",
   "execution_count": 36,
   "metadata": {
    "collapsed": true,
    "deletable": false,
    "editable": false,
    "nbgrader": {
     "checksum": "33b4288ba196af9944fca41a0dda3d70",
     "grade": true,
     "grade_id": "chinook-sql-y",
     "locked": true,
     "points": 2,
     "schema_version": 1,
     "solution": false
    }
   },
   "outputs": [],
   "source": [
    "assert list(j2.columns)==['Name', 'Count']\n",
    "assert len(j2)==5"
   ]
  },
  {
   "cell_type": "markdown",
   "metadata": {},
   "source": [
    "Make a bar plot of the media type counts:"
   ]
  },
  {
   "cell_type": "code",
   "execution_count": 37,
   "metadata": {
    "collapsed": false,
    "deletable": false,
    "nbgrader": {
     "checksum": "9c62782d34b1b3d228e1d183883afdeb",
     "grade": true,
     "grade_id": "chinook-sql-z",
     "locked": false,
     "points": 2,
     "schema_version": 1,
     "solution": true
    }
   },
   "outputs": [
    {
     "data": {
      "text/html": [
       "<div class=\"vega-embed\" id=\"0a5d6d16-a9ae-4ef3-abb2-d253df92f24b\"></div>\n",
       "\n",
       "<style>\n",
       ".vega-embed svg, .vega-embed canvas {\n",
       "  border: 1px dotted gray;\n",
       "}\n",
       "\n",
       ".vega-embed .vega-actions a {\n",
       "  margin-right: 6px;\n",
       "}\n",
       "</style>\n"
      ]
     },
     "metadata": {
      "jupyter-vega": "#0a5d6d16-a9ae-4ef3-abb2-d253df92f24b"
     },
     "output_type": "display_data"
    },
    {
     "data": {
      "application/javascript": [
       "var spec = {\"mark\": \"bar\", \"config\": {\"cell\": {\"width\": 500, \"height\": 350}}, \"encoding\": {\"x\": {\"field\": \"Name\", \"type\": \"nominal\"}, \"y\": {\"field\": \"Count\", \"type\": \"quantitative\"}}, \"data\": {\"values\": [{\"Name\": \"Purchased AAC audio file\", \"Count\": 7}, {\"Name\": \"AAC audio file\", \"Count\": 11}, {\"Name\": \"Protected MPEG-4 video file\", \"Count\": 214}, {\"Name\": \"Protected AAC audio file\", \"Count\": 237}, {\"Name\": \"MPEG audio file\", \"Count\": 3034}]}};\n",
       "var selector = \"#0a5d6d16-a9ae-4ef3-abb2-d253df92f24b\";\n",
       "var type = \"vega-lite\";\n",
       "\n",
       "var output_area = this;\n",
       "require(['nbextensions/jupyter-vega/index'], function(vega) {\n",
       "  vega.render(selector, spec, type, output_area);\n",
       "}, function (err) {\n",
       "  if (err.requireType !== 'scripterror') {\n",
       "    throw(err);\n",
       "  }\n",
       "});\n"
      ]
     },
     "metadata": {
      "jupyter-vega": "#0a5d6d16-a9ae-4ef3-abb2-d253df92f24b"
     },
     "output_type": "display_data"
    },
    {
     "data": {
      "image/png": "[encoded data removed]"
     },
     "metadata": {
      "jupyter-vega": "#0a5d6d16-a9ae-4ef3-abb2-d253df92f24b"
     },
     "output_type": "display_data"
    }
   ],
   "source": [
    "Chart(j2).mark_bar().encode(\n",
    "    X('Name'),\n",
    "    Y('Count')\n",
    ")"
   ]
  }
 ],
 "metadata": {
  "kernelspec": {
   "display_name": "Python 3",
   "language": "python",
   "name": "python3"
  },
  "language_info": {
   "codemirror_mode": {
    "name": "ipython",
    "version": 3
   },
   "file_extension": ".py",
   "mimetype": "text/x-python",
   "name": "python",
   "nbconvert_exporter": "python",
   "pygments_lexer": "ipython3",
   "version": "3.5.2"
  }
 },
 "nbformat": 4,
 "nbformat_minor": 1
}
