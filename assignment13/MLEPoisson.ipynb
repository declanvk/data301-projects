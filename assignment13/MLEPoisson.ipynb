{
 "cells": [
  {
   "cell_type": "markdown",
   "metadata": {},
   "source": [
    "# MLE for Poisson Distribution"
   ]
  },
  {
   "cell_type": "markdown",
   "metadata": {},
   "source": [
    "In this notebook you will perform [maximum likelihood estimation](https://en.wikipedia.org/wiki/Maximum_likelihood), or MLE, for the parameter $\\lambda$ in the [Poisson](https://en.wikipedia.org/wiki/Poisson_distribution) distribution and bootstrap the results."
   ]
  },
  {
   "cell_type": "markdown",
   "metadata": {},
   "source": [
    "## Imports"
   ]
  },
  {
   "cell_type": "code",
   "execution_count": 1,
   "metadata": {
    "collapsed": true
   },
   "outputs": [],
   "source": [
    "import numpy as np\n",
    "import matplotlib.pyplot as plt\n",
    "%matplotlib inline"
   ]
  },
  {
   "cell_type": "code",
   "execution_count": 2,
   "metadata": {
    "collapsed": true
   },
   "outputs": [],
   "source": [
    "from scipy.optimize import minimize\n",
    "from scipy.stats import poisson"
   ]
  },
  {
   "cell_type": "code",
   "execution_count": 3,
   "metadata": {
    "collapsed": true
   },
   "outputs": [],
   "source": [
    "import tensorflow as tf\n",
    "from tensorflow.contrib import distributions as dist"
   ]
  },
  {
   "cell_type": "markdown",
   "metadata": {},
   "source": [
    "## Create a dataset"
   ]
  },
  {
   "cell_type": "markdown",
   "metadata": {},
   "source": [
    "Generate a dataset from the Poisson distribution with a known parameter $\\lambda$:"
   ]
  },
  {
   "cell_type": "code",
   "execution_count": 4,
   "metadata": {
    "collapsed": false,
    "deletable": false,
    "editable": false,
    "nbgrader": {
     "checksum": "adb1f488b3729da318719e7696697345",
     "grade": false,
     "grade_id": "mle-poisson-a",
     "locked": true,
     "schema_version": 1,
     "solution": false
    }
   },
   "outputs": [],
   "source": [
    "np.random.seed(0)\n",
    "λ = 3.0\n",
    "data = np.random.poisson(λ, size=20)"
   ]
  },
  {
   "cell_type": "markdown",
   "metadata": {},
   "source": [
    "## MLE with Tensorflow"
   ]
  },
  {
   "cell_type": "markdown",
   "metadata": {},
   "source": [
    "Use TensorFlow to write a function that performs MLE for the $\\lambda$ parameter of the Poisson distribution. In your function you should:\n",
    "\n",
    "* Create all of the needed TensorFlow `Variable` and `placeholder` instances.\n",
    "* Create an initialize a `Session`.\n",
    "* Call `Session.close()` before returning your estimate for lambda (you can also create and use the `Session` with Python's `with` statement).\n",
    "* Use the `float32` dtype.\n",
    "* Play with the learning parameter and number of gradient descent steps to get the function to run quickly and give results that are accurate enough to pass the tests."
   ]
  },
  {
   "cell_type": "code",
   "execution_count": 5,
   "metadata": {
    "collapsed": true,
    "deletable": false,
    "nbgrader": {
     "checksum": "10a805ca1e74586829bf56c95c0f4d9e",
     "grade": false,
     "grade_id": "mle-poisson-b",
     "locked": false,
     "schema_version": 1,
     "solution": true
    }
   },
   "outputs": [],
   "source": [
    "def fit_lambda(data):\n",
    "    \"\"\"Perform MLE to estimate the λ parameter of the Poisson distribution.\n",
    "    \n",
    "    Parameters\n",
    "    ----------\n",
    "    data: ndarray\n",
    "        The data to use in estimating lambda\n",
    "    \n",
    "    Returns\n",
    "    -------\n",
    "    lambda: float\n",
    "        The MLE value for lambda\n",
    "    \"\"\"\n",
    "    lam = tf.Variable(data.mean(), dtype=tf.float32)\n",
    "    x = tf.placeholder(dtype=tf.float32)\n",
    "    size = tf.placeholder(dtype=tf.float32)\n",
    "    model = dist.Poisson(lam=lam)\n",
    "    nll = -1.0 * (tf.reduce_sum(x * tf.log(lam)) - size * lam)\n",
    "    \n",
    "    with tf.Session() as sess:\n",
    "        init = tf.global_variables_initializer()\n",
    "        sess.run(init)\n",
    "        optimizer = tf.train.GradientDescentOptimizer(0.001)\n",
    "        train = optimizer.minimize(nll)\n",
    "        for i in range(1000):\n",
    "            sess.run(train, {x: data, size: len(data)})\n",
    "        return sess.run(lam) "
   ]
  },
  {
   "cell_type": "code",
   "execution_count": 6,
   "metadata": {
    "collapsed": false,
    "deletable": false,
    "editable": false,
    "nbgrader": {
     "checksum": "30ac774fb7d3d40c4879434e93d8edfb",
     "grade": true,
     "grade_id": "mle-poisson-c",
     "locked": true,
     "points": 4,
     "schema_version": 1,
     "solution": false
    }
   },
   "outputs": [],
   "source": [
    "assert abs(fit_lambda(3*np.ones(10))-3.0) < 1e-3\n",
    "assert abs(fit_lambda(100*np.ones(100))-100.0) < 1e-3\n",
    "assert abs(fit_lambda(data)-data.mean()) < 1e-3"
   ]
  },
  {
   "cell_type": "markdown",
   "metadata": {},
   "source": [
    "Here is the MLE for lambda given our original data:"
   ]
  },
  {
   "cell_type": "code",
   "execution_count": 7,
   "metadata": {
    "collapsed": false,
    "deletable": false,
    "editable": false,
    "nbgrader": {
     "checksum": "7043ce90542dd212449d0bc925233686",
     "grade": false,
     "grade_id": "mle-poisson-d",
     "locked": true,
     "schema_version": 1,
     "solution": false
    }
   },
   "outputs": [
    {
     "data": {
      "text/plain": [
       "2.9000001"
      ]
     },
     "execution_count": 7,
     "metadata": {},
     "output_type": "execute_result"
    }
   ],
   "source": [
    "fit_lambda(data)"
   ]
  },
  {
   "cell_type": "markdown",
   "metadata": {},
   "source": [
    "And the time for a single fit:"
   ]
  },
  {
   "cell_type": "code",
   "execution_count": 8,
   "metadata": {
    "collapsed": false,
    "deletable": false,
    "editable": false,
    "nbgrader": {
     "checksum": "b8402bacd4a19048a0f99d8adfa59f1d",
     "grade": false,
     "grade_id": "mle-poisson-e",
     "locked": true,
     "schema_version": 1,
     "solution": false
    }
   },
   "outputs": [
    {
     "name": "stdout",
     "output_type": "stream",
     "text": [
      "1 loop, best of 1: 389 ms per loop\n"
     ]
    }
   ],
   "source": [
    "%timeit -n1 -r1 fit_lambda(data)"
   ]
  },
  {
   "cell_type": "markdown",
   "metadata": {},
   "source": [
    "## MLE with `scipy.optimize.minimize`"
   ]
  },
  {
   "cell_type": "markdown",
   "metadata": {},
   "source": [
    "Use SciPy, write a function that performs MLE for the $\\lambda$ parameter of the Poisson distribution. In your function you should:\n",
    "\n",
    "* Use `scipy.stats.poisson` to calculate the negative log-likelihood of the Poisson distribution.\n",
    "* Use `scipy.optimize.minimize` to minimize the negative log-likelihood."
   ]
  },
  {
   "cell_type": "code",
   "execution_count": 9,
   "metadata": {
    "collapsed": false,
    "deletable": false,
    "nbgrader": {
     "checksum": "7d22d4b3caa805e617fba65e70a35ef0",
     "grade": false,
     "grade_id": "mle-poisson-f",
     "locked": false,
     "schema_version": 1,
     "solution": true
    }
   },
   "outputs": [],
   "source": [
    "def fit_lambda_fast(data):\n",
    "    \"\"\"Perform MLE to estimate the λ parameter of the Poisson distribution.\n",
    "    \n",
    "    Parameters\n",
    "    ----------\n",
    "    data: ndarray\n",
    "        The data to use in estimating lambda\n",
    "    \n",
    "    Returns\n",
    "    -------\n",
    "    lambda: float\n",
    "        The MLE value for lambda\n",
    "    \"\"\"\n",
    "    to_minimize = lambda theta: -1.0 * (np.sum(data * np.log(theta[0])) - len(data) * theta[0])\n",
    "    fit = minimize(to_minimize, data.mean())\n",
    "    return fit.x"
   ]
  },
  {
   "cell_type": "code",
   "execution_count": 10,
   "metadata": {
    "collapsed": false,
    "deletable": false,
    "editable": false,
    "nbgrader": {
     "checksum": "cc8e03d72a6db18b833e032e7ee0713c",
     "grade": true,
     "grade_id": "mle-poisson-g",
     "locked": true,
     "points": 2,
     "schema_version": 1,
     "solution": false
    }
   },
   "outputs": [],
   "source": [
    "assert abs(fit_lambda_fast(3*np.ones(10))-3.0) < 1e-3\n",
    "assert abs(fit_lambda_fast(100*np.ones(100))-100.0) < 1e-3\n",
    "assert abs(fit_lambda_fast(data)-data.mean()) < 1e-3"
   ]
  },
  {
   "cell_type": "markdown",
   "metadata": {},
   "source": [
    "Here is the estimated value of $\\lambda$:"
   ]
  },
  {
   "cell_type": "code",
   "execution_count": 11,
   "metadata": {
    "collapsed": false,
    "deletable": false,
    "editable": false,
    "nbgrader": {
     "checksum": "509d17f98246a58e42f91e9970ada531",
     "grade": false,
     "grade_id": "mle-poisson-h",
     "locked": true,
     "schema_version": 1,
     "solution": false
    }
   },
   "outputs": [
    {
     "data": {
      "text/plain": [
       "array([ 2.9])"
      ]
     },
     "execution_count": 11,
     "metadata": {},
     "output_type": "execute_result"
    }
   ],
   "source": [
    "fit_lambda_fast(data)"
   ]
  },
  {
   "cell_type": "markdown",
   "metadata": {},
   "source": [
    "And the timing of a single run, which should be much faster than the TensorFlow result:"
   ]
  },
  {
   "cell_type": "code",
   "execution_count": 12,
   "metadata": {
    "collapsed": false,
    "deletable": false,
    "editable": false,
    "nbgrader": {
     "checksum": "4f3373d7a9ea77fca1c35040e6fd1cea",
     "grade": false,
     "grade_id": "mle-poisson-i",
     "locked": true,
     "schema_version": 1,
     "solution": false
    }
   },
   "outputs": [
    {
     "name": "stdout",
     "output_type": "stream",
     "text": [
      "1 loop, best of 1: 204 µs per loop\n"
     ]
    }
   ],
   "source": [
    "%timeit -n1 -r1 fit_lambda_fast(data)"
   ]
  },
  {
   "cell_type": "markdown",
   "metadata": {},
   "source": [
    "## Bootstrap"
   ]
  },
  {
   "cell_type": "markdown",
   "metadata": {},
   "source": [
    "We see that the MLE for $\\hat{\\lambda}$ is close to the original value of $\\lambda=3.0$. Bootstrap resample this estimator 200 times (using your faster version) to find the distribution of $\\hat{\\lambda}$. Save the distributions of $\\lambda$ values in an list or array named `estimates`:"
   ]
  },
  {
   "cell_type": "code",
   "execution_count": 13,
   "metadata": {
    "collapsed": false,
    "deletable": false,
    "nbgrader": {
     "checksum": "32b2f1c76cc2fea3600afdc33c6c33e1",
     "grade": true,
     "grade_id": "mle-poisson-j",
     "locked": false,
     "points": 2,
     "schema_version": 1,
     "solution": true
    }
   },
   "outputs": [],
   "source": [
    "estimates = np.zeros(200)\n",
    "for idx in range(200):\n",
    "    estimates[idx] = fit_lambda_fast(np.random.choice(data, size=len(data)))"
   ]
  },
  {
   "cell_type": "markdown",
   "metadata": {},
   "source": [
    "Plot the distibution of bootstrapped estimates using Matplotlib. Lable your axes, use a grid and customize the bins:"
   ]
  },
  {
   "cell_type": "code",
   "execution_count": 14,
   "metadata": {
    "collapsed": false,
    "deletable": false,
    "nbgrader": {
     "checksum": "8f512919c1e5cdd69c9519a7108ae277",
     "grade": true,
     "grade_id": "mle-poisson-k",
     "locked": false,
     "points": 2,
     "schema_version": 1,
     "solution": true
    }
   },
   "outputs": [
    {
     "data": {
      "image/png": "[encoded data removed]",
      "text/plain": [
       "<matplotlib.figure.Figure at 0x7ff3e0187fd0>"
      ]
     },
     "metadata": {},
     "output_type": "display_data"
    }
   ],
   "source": [
    "plt.hist(estimates, bins=20)\n",
    "plt.xlabel('Estimates of $\\lambda$')\n",
    "plt.ylabel('Count')\n",
    "plt.title('Histogram of $\\lambda$ estimates')\n",
    "plt.grid(True);"
   ]
  },
  {
   "cell_type": "markdown",
   "metadata": {},
   "source": [
    "Compute the print the 95% confidence interval:"
   ]
  },
  {
   "cell_type": "code",
   "execution_count": 15,
   "metadata": {
    "collapsed": false,
    "deletable": false,
    "nbgrader": {
     "checksum": "01a4a885938a5c40a74808d4c28da098",
     "grade": true,
     "grade_id": "mle-poisson-l",
     "locked": false,
     "points": 2,
     "schema_version": 1,
     "solution": true
    }
   },
   "outputs": [
    {
     "name": "stdout",
     "output_type": "stream",
     "text": [
      "95% confidence interval for lambda [ 2.15  3.7 ]\n"
     ]
    }
   ],
   "source": [
    "print(\"95% confidence interval for lambda\", np.percentile(estimates, [2.5, 97.5]))"
   ]
  }
 ],
 "metadata": {
  "kernelspec": {
   "display_name": "Python 3",
   "language": "python",
   "name": "python3"
  },
  "language_info": {
   "codemirror_mode": {
    "name": "ipython",
    "version": 3
   },
   "file_extension": ".py",
   "mimetype": "text/x-python",
   "name": "python",
   "nbconvert_exporter": "python",
   "pygments_lexer": "ipython3",
   "version": "3.5.2"
  }
 },
 "nbformat": 4,
 "nbformat_minor": 0
}
