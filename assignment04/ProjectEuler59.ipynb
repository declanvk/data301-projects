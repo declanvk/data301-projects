{
 "cells": [
  {
   "cell_type": "markdown",
   "metadata": {},
   "source": [
    "# Project Euler: Problem 59"
   ]
  },
  {
   "cell_type": "markdown",
   "metadata": {},
   "source": [
    "https://projecteuler.net/problem=59\n",
    "\n",
    "Each character on a computer is assigned a unique code and the preferred standard is ASCII (American Standard Code for Information Interchange). For example, uppercase A = 65, asterisk (*) = 42, and lowercase k = 107.\n",
    "\n",
    "A modern encryption method is to take a text file, convert the bytes to ASCII, then XOR each byte with a given value, taken from a secret key. The advantage with the XOR function is that using the same encryption key on the cipher text, restores the plain text; for example, 65 XOR 42 = 107, then 107 XOR 42 = 65.\n",
    "\n",
    "For unbreakable encryption, the key is the same length as the plain text message, and the key is made up of random bytes. The user would keep the encrypted message and the encryption key in different locations, and without both \"halves\", it is impossible to decrypt the message.\n",
    "\n",
    "Unfortunately, this method is impractical for most users, so the modified method is to use a password as a key. If the password is shorter than the message, which is likely, the key is repeated cyclically throughout the message. The balance for this method is using a sufficiently long password key for security, but short enough to be memorable.\n",
    "\n",
    "Your task has been made easy, as the encryption key consists of three lower case characters. Using cipher.txt (in this directory), a file containing the encrypted ASCII codes, and the knowledge that the plain text must contain common English words, decrypt the message and find the sum of the ASCII values in the original text."
   ]
  },
  {
   "cell_type": "markdown",
   "metadata": {},
   "source": [
    "The following cell shows examples of how to perform XOR in Python and how to go back and forth between characters and integers:"
   ]
  },
  {
   "cell_type": "code",
   "execution_count": 1,
   "metadata": {
    "collapsed": true,
    "deletable": false,
    "editable": false,
    "nbgrader": {
     "checksum": "2c9303d19a2b6c22658ef4dbde6d63a3",
     "grade": false,
     "grade_id": "projecteuler59a",
     "locked": true,
     "schema_version": 1,
     "solution": false
    }
   },
   "outputs": [],
   "source": [
    "assert 65 ^ 42 == 107\n",
    "assert 107 ^ 42 == 65\n",
    "assert ord('a') == 97\n",
    "assert chr(97) == 'a'"
   ]
  },
  {
   "cell_type": "markdown",
   "metadata": {},
   "source": [
    "Certain functions in the `itertools` module may be useful for computing permutations:"
   ]
  },
  {
   "cell_type": "code",
   "execution_count": 2,
   "metadata": {
    "collapsed": false
   },
   "outputs": [],
   "source": [
    "from itertools import cycle, islice, count, product, takewhile\n",
    "from string import ascii_lowercase\n",
    "from collections import Counter"
   ]
  },
  {
   "cell_type": "code",
   "execution_count": 3,
   "metadata": {
    "collapsed": false
   },
   "outputs": [],
   "source": [
    "KEY_VALUES = [ord(letter) for letter in ascii_lowercase]\n",
    "KEYS = [list(key) for key in product(KEY_VALUES, repeat=3)]"
   ]
  },
  {
   "cell_type": "code",
   "execution_count": 4,
   "metadata": {
    "collapsed": true
   },
   "outputs": [],
   "source": [
    "COMMON_WORDS = {'I', 'a', 'able', 'about', 'above', 'after', 'all', 'also', 'an', 'and', 'any', 'as', 'ask', 'at', 'back', 'bad', 'be', 'because', 'beneath', 'big', 'but', 'by', 'call', 'can', 'case', 'child', 'come', 'company', 'could', 'day', 'different', 'do', 'early', 'even', 'eye', 'fact', 'feel', 'few', 'find', 'first', 'for', 'from', 'get', 'give', 'go', 'good', 'government', 'great', 'group', 'hand', 'have', 'he', 'her', 'high', 'him', 'his', 'how', 'if', 'important', 'in', 'into', 'it', 'its', 'just', 'know', 'large', 'last', 'leave', 'life', 'like', 'little', 'long', 'look', 'make', 'man', 'me', 'most', 'my', 'new', 'next', 'no', 'not', 'now', 'number', 'of', 'old', 'on', 'one', 'only', 'or', 'other', 'our', 'out', 'over', 'own', 'part', 'people', 'person', 'place', 'point', 'problem', 'public', 'right', 'same', 'say', 'see', 'seem', 'she', 'small', 'so', 'some', 'take', 'tell', 'than', 'that', 'the', 'their', 'them', 'then', 'there', 'these', 'they', 'thing', 'think', 'this', 'time', 'to', 'try', 'two', 'under', 'up', 'us', 'use', 'want', 'way', 'we', 'week', 'well', 'what', 'when', 'which', 'who', 'will', 'with', 'woman', 'work', 'world', 'would', 'year', 'you', 'young', 'your'}"
   ]
  },
  {
   "cell_type": "code",
   "execution_count": 5,
   "metadata": {
    "collapsed": false,
    "deletable": false,
    "nbgrader": {
     "checksum": "ab1a44dadde94517fb804abf1c7b8131",
     "grade": true,
     "grade_id": "projecteuler59b",
     "locked": false,
     "points": 10,
     "schema_version": 1,
     "solution": true
    }
   },
   "outputs": [],
   "source": [
    "def take(n, iterable):\n",
    "    yield from islice(iterable, n)\n",
    "\n",
    "def extend(n, iterable):\n",
    "    yield from take(n, cycle(iterable))\n",
    "    \n",
    "def chunk_by(pred, codes):\n",
    "    codes_iter = iter(codes)\n",
    "    while True:\n",
    "        result = list(takewhile(pred, codes_iter))\n",
    "        if len(result) == 0:\n",
    "            break\n",
    "        yield result\n",
    "\n",
    "def char_codes_to_str(char_codes):\n",
    "    result = \"\"\n",
    "    for code in char_codes:\n",
    "        result += chr(code)\n",
    "    return result\n",
    "\n",
    "def decode_line(line, key):\n",
    "    transformed = transform(get_codes(line), key)\n",
    "    return char_codes_to_str(transformed)\n",
    "\n",
    "def str_to_char_codes(input_str):\n",
    "    for char in input_str:\n",
    "        yield ord(char)\n",
    "\n",
    "def get_codes(line_str):\n",
    "    for item in line_str.split(','):\n",
    "        yield int(item.strip())\n",
    "\n",
    "def transform(codes, key):\n",
    "    codes = list(codes)\n",
    "    num_codes = len(codes)\n",
    "    pairs = zip(codes, extend(num_codes, key))\n",
    "    yield from (pair[0] ^ pair[1] for pair in pairs)\n",
    "\n",
    "def count_common_words(sentence_codes_iter):\n",
    "    for sentence_codes in sentence_codes_iter:\n",
    "        sentence = char_codes_to_str(sentence_codes)\n",
    "        common_test = map(lambda word: word.lower() in COMMON_WORDS, sentence.split())\n",
    "        yield sum(common_test)"
   ]
  },
  {
   "cell_type": "code",
   "execution_count": 6,
   "metadata": {
    "collapsed": false
   },
   "outputs": [
    {
     "name": "stdout",
     "output_type": "stream",
     "text": [
      "CPU times: user 48.1 s, sys: 15.6 ms, total: 48.1 s\n",
      "Wall time: 48.1 s\n"
     ]
    }
   ],
   "source": [
    "%%time\n",
    "\n",
    "key_results = Counter()\n",
    "CAREFUL_SEARCH = True\n",
    "\n",
    "with open(file='data/cipher.txt', mode='r') as cipher_file:\n",
    "    for encrypted_line in cipher_file:\n",
    "        encrypted_values = list(get_codes(encrypted_line))\n",
    "        for key in KEYS:\n",
    "            transformed_values = transform(encrypted_values, key)\n",
    "            sentences_chunks = chunk_by(lambda x: chr(x) != '.', transformed_values)\n",
    "            counts = count_common_words(sentences_chunks)\n",
    "            if not CAREFUL_SEARCH:\n",
    "                counts = takewhile(lambda count: count > 0, counts)\n",
    "            for count in counts:\n",
    "                key_results[tuple(key)] += count"
   ]
  },
  {
   "cell_type": "code",
   "execution_count": 7,
   "metadata": {
    "collapsed": false
   },
   "outputs": [
    {
     "name": "stdout",
     "output_type": "stream",
     "text": [
      "Key: (103, 111, 100) -> ('g', 'o', 'd')\n",
      "# Common: 111\n",
      "Text: (The Gospel of John, chapter 1) 1 In the beginning the Word already existed. He was with God, and he was God. 2 He was in the beginning with God. 3 He created everything there is. Nothing exists that he didn't make. 4 Life itself was in him, and this life gives light to everyone. 5 The light shines through the darkness, and the darkness can never extinguish it. 6 God sent John the Baptist 7 to tell everyone about the light so that everyone might believe because of his testimony. 8 John himself was not the light; he was only a witness to the light. 9 The one who is the true light, who gives light to everyone, was going to come into the world. 10 But although the world was made through him, the world didn't recognize him when he came. 11 Even in his own land and among his own people, he was not accepted. 12 But to all who believed him and accepted him, he gave the right to become children of God. 13 They are reborn! This is not a physical birth resulting from human passion or plan, this rebirth comes from God.14 So the Word became human and lived here on earth among us. He was full of unfailing love and faithfulness. And we have seen his glory, the glory of the only Son of the Father.\n",
      "ASCII Sum: 107359\n",
      "\n",
      "Key: (109, 111, 120) -> ('m', 'o', 'x')\n",
      "# Common: 10\n",
      "Text: \"Tto [eslol<ef<@otd,<ih}ztyx -# -*Ir*tto ~ogudnudg<~hy*Wsxd<klnoaxs yrio~ex$ To kks<}ihb [ed0*arn to kks<Mox$ .*Hy*w}y ud hbe<he{cnrcn{*wu~h<Mox$ /*Hy*cnoahod<ovyxyhbirm hbeno uy.<Dohbirm yrio~s<~h}~ to xcdr-t<gawo.<> Pcfy*ihyepl kks<cn<biq& }dd<~huy pcfy*gu|eo*lumhh*ts*ejoreeny$ )*Tto pcgt~ obiros<~hneu{b hbe<nananyys0*arn hbe<nananyys<iar*ny|en*ed~irmuuyh<ct2*6<Mox*sydt<@otd hbe<Hal~io~ +*ts*tyfl<ovyxysde<kbst<~hy*lumhh*ss*ttkt<ovyxysde<gi{bt<hepcejo ~oc}sy*oz*huy hoshcmsdy2*8<@otd tcmoolz*w}y ret<~hy*lumhh1 to kks<enps }*wu~nyys<~o<~hy*lumhh$ %*Tto sde<}hs*io*tto hxuy*lumhh& kbo<mijos<fi{bt<~o<ovyxysde0*w}y {eirm he emy*ir~o<~hy*wsxlx$ -: ^t<klhboimh<~hy*wsxlx*w}y qkdy*ttxoimh<biq& hbe<}onfd<nixd'h*ryio{difo tcm<}hyd to kmy$ -; Y|er*ir*huy s}n<farn }dd<kmsdg<bio*okd loolfe0*hy*w}y ret<kcophod2*1.*Bi~ he }fl<}hs*byfiy|ex*hug }dd<kcophod<biq& to {kvy*tto ncgt~ he ~ocsge<ihufdnon<ef<Mox$ -9 Hbee*ano nobsxn=*Ttcs<cs<doh*a<zheyikl<hin~h<xeolhcn{*fnem<buqkn<zaoyisd sx lfar& hbio*ryhin~h<ioqos<lrsg [ed2;4<Yo<~hy*Wsxd<hekmy*higar*arn pcvyn tory*or*e}xtt*aqen{*uo$ To kks<lupf sl idf}cludg<fojo }dd<lau~hzlroso$ ]dd<}e<bajo ooer*huy {fons,<~hy*gpere*oz*tto sdle*Ssd sl hbe<Lahben$\n",
      "ASCII Sum: 112881\n",
      "\n"
     ]
    }
   ],
   "source": [
    "ordered_results = sorted(list(key_results.items()), key=lambda x: x[1], reverse=True)\n",
    "top = take(2, ordered_results)\n",
    "\n",
    "with open(file='data/cipher.txt', mode='r') as cipher_file:\n",
    "    for line in cipher_file:\n",
    "        for top_result in top:\n",
    "            decode = decode_line(line, top_result[0])\n",
    "            print(\"Key:\", top_result[0], \"->\", tuple(list(map(lambda x: chr(x), top_result[0]))))\n",
    "            print(\"# Common:\", top_result[1])\n",
    "            print(\"Text:\", decode)\n",
    "            print(\"ASCII Sum:\", sum(str_to_char_codes(decode)))\n",
    "            print()"
   ]
  }
 ],
 "metadata": {
  "kernelspec": {
   "display_name": "Python 3",
   "language": "python",
   "name": "python3"
  },
  "language_info": {
   "codemirror_mode": {
    "name": "ipython",
    "version": 3
   },
   "file_extension": ".py",
   "mimetype": "text/x-python",
   "name": "python",
   "nbconvert_exporter": "python",
   "pygments_lexer": "ipython3",
   "version": "3.5.2"
  }
 },
 "nbformat": 4,
 "nbformat_minor": 0
}
