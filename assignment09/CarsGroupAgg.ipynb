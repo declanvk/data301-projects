{
 "cells": [
  {
   "cell_type": "markdown",
   "metadata": {},
   "source": [
    "# Cars: Grouping and Aggregation"
   ]
  },
  {
   "cell_type": "markdown",
   "metadata": {},
   "source": [
    "## Imports"
   ]
  },
  {
   "cell_type": "code",
   "execution_count": 1,
   "metadata": {
    "collapsed": true
   },
   "outputs": [],
   "source": [
    "import pandas as pd\n",
    "import numpy as np\n",
    "from altair import load_dataset"
   ]
  },
  {
   "cell_type": "markdown",
   "metadata": {},
   "source": [
    "## Dataset"
   ]
  },
  {
   "cell_type": "code",
   "execution_count": 2,
   "metadata": {
    "collapsed": true
   },
   "outputs": [],
   "source": [
    "cars = load_dataset('cars')"
   ]
  },
  {
   "cell_type": "code",
   "execution_count": 3,
   "metadata": {
    "collapsed": false
   },
   "outputs": [
    {
     "data": {
      "text/html": [
       "<div>\n",
       "<table border=\"1\" class=\"dataframe\">\n",
       "  <thead>\n",
       "    <tr style=\"text-align: right;\">\n",
       "      <th></th>\n",
       "      <th>Acceleration</th>\n",
       "      <th>Cylinders</th>\n",
       "      <th>Displacement</th>\n",
       "      <th>Horsepower</th>\n",
       "      <th>Miles_per_Gallon</th>\n",
       "      <th>Name</th>\n",
       "      <th>Origin</th>\n",
       "      <th>Weight_in_lbs</th>\n",
       "      <th>Year</th>\n",
       "    </tr>\n",
       "  </thead>\n",
       "  <tbody>\n",
       "    <tr>\n",
       "      <th>0</th>\n",
       "      <td>12.0</td>\n",
       "      <td>8</td>\n",
       "      <td>307.0</td>\n",
       "      <td>130.0</td>\n",
       "      <td>18.0</td>\n",
       "      <td>chevrolet chevelle malibu</td>\n",
       "      <td>USA</td>\n",
       "      <td>3504</td>\n",
       "      <td>1970-01-01</td>\n",
       "    </tr>\n",
       "    <tr>\n",
       "      <th>1</th>\n",
       "      <td>11.5</td>\n",
       "      <td>8</td>\n",
       "      <td>350.0</td>\n",
       "      <td>165.0</td>\n",
       "      <td>15.0</td>\n",
       "      <td>buick skylark 320</td>\n",
       "      <td>USA</td>\n",
       "      <td>3693</td>\n",
       "      <td>1970-01-01</td>\n",
       "    </tr>\n",
       "    <tr>\n",
       "      <th>2</th>\n",
       "      <td>11.0</td>\n",
       "      <td>8</td>\n",
       "      <td>318.0</td>\n",
       "      <td>150.0</td>\n",
       "      <td>18.0</td>\n",
       "      <td>plymouth satellite</td>\n",
       "      <td>USA</td>\n",
       "      <td>3436</td>\n",
       "      <td>1970-01-01</td>\n",
       "    </tr>\n",
       "    <tr>\n",
       "      <th>3</th>\n",
       "      <td>12.0</td>\n",
       "      <td>8</td>\n",
       "      <td>304.0</td>\n",
       "      <td>150.0</td>\n",
       "      <td>16.0</td>\n",
       "      <td>amc rebel sst</td>\n",
       "      <td>USA</td>\n",
       "      <td>3433</td>\n",
       "      <td>1970-01-01</td>\n",
       "    </tr>\n",
       "    <tr>\n",
       "      <th>4</th>\n",
       "      <td>10.5</td>\n",
       "      <td>8</td>\n",
       "      <td>302.0</td>\n",
       "      <td>140.0</td>\n",
       "      <td>17.0</td>\n",
       "      <td>ford torino</td>\n",
       "      <td>USA</td>\n",
       "      <td>3449</td>\n",
       "      <td>1970-01-01</td>\n",
       "    </tr>\n",
       "  </tbody>\n",
       "</table>\n",
       "</div>"
      ],
      "text/plain": [
       "   Acceleration  Cylinders  Displacement  Horsepower  Miles_per_Gallon  \\\n",
       "0          12.0          8         307.0       130.0              18.0   \n",
       "1          11.5          8         350.0       165.0              15.0   \n",
       "2          11.0          8         318.0       150.0              18.0   \n",
       "3          12.0          8         304.0       150.0              16.0   \n",
       "4          10.5          8         302.0       140.0              17.0   \n",
       "\n",
       "                        Name Origin  Weight_in_lbs        Year  \n",
       "0  chevrolet chevelle malibu    USA           3504  1970-01-01  \n",
       "1          buick skylark 320    USA           3693  1970-01-01  \n",
       "2         plymouth satellite    USA           3436  1970-01-01  \n",
       "3              amc rebel sst    USA           3433  1970-01-01  \n",
       "4                ford torino    USA           3449  1970-01-01  "
      ]
     },
     "execution_count": 3,
     "metadata": {},
     "output_type": "execute_result"
    }
   ],
   "source": [
    "cars.head()"
   ]
  },
  {
   "cell_type": "code",
   "execution_count": 4,
   "metadata": {
    "collapsed": false
   },
   "outputs": [
    {
     "data": {
      "text/plain": [
       "406"
      ]
     },
     "execution_count": 4,
     "metadata": {},
     "output_type": "execute_result"
    }
   ],
   "source": [
    "len(cars)"
   ]
  },
  {
   "cell_type": "markdown",
   "metadata": {},
   "source": [
    "## Grouped mean"
   ]
  },
  {
   "cell_type": "markdown",
   "metadata": {},
   "source": [
    "Compute the average of `Acceleration`, `Displacement` and `Horsepower`, grouped by `Origin`:"
   ]
  },
  {
   "cell_type": "code",
   "execution_count": 5,
   "metadata": {
    "collapsed": false,
    "deletable": false,
    "nbgrader": {
     "checksum": "dedb50e7baabe4dabc10a94cc264a876",
     "grade": false,
     "grade_id": "cars-group-agg-a",
     "locked": false,
     "schema_version": 1,
     "solution": true
    }
   },
   "outputs": [],
   "source": [
    "g1 = cars.groupby('Origin').mean().loc[:, ['Acceleration', 'Displacement', 'Horsepower']]"
   ]
  },
  {
   "cell_type": "code",
   "execution_count": 6,
   "metadata": {
    "collapsed": true,
    "deletable": false,
    "editable": false,
    "nbgrader": {
     "checksum": "bcc282394cf44a27d63c221ebba5cb88",
     "grade": true,
     "grade_id": "cars-group-agg-b",
     "locked": true,
     "points": 2,
     "schema_version": 1,
     "solution": false
    }
   },
   "outputs": [],
   "source": [
    "assert list(g1.columns)==['Acceleration', 'Displacement', 'Horsepower']\n",
    "assert list(g1.index)==['Europe', 'Japan', 'USA']"
   ]
  },
  {
   "cell_type": "markdown",
   "metadata": {},
   "source": [
    "Find the maximum `Acceleration` and `Displacement` grouped by `Origin` and `Cylinders`:"
   ]
  },
  {
   "cell_type": "code",
   "execution_count": 7,
   "metadata": {
    "collapsed": false,
    "deletable": false,
    "nbgrader": {
     "checksum": "79b3d5e43c6d1e2646742442c3665a0b",
     "grade": false,
     "grade_id": "cars-group-agg-c",
     "locked": false,
     "schema_version": 1,
     "solution": true
    }
   },
   "outputs": [],
   "source": [
    "g2 = cars.groupby(['Origin', 'Cylinders']).max().loc[:, ['Acceleration', 'Displacement']]"
   ]
  },
  {
   "cell_type": "code",
   "execution_count": 8,
   "metadata": {
    "collapsed": false,
    "deletable": false,
    "editable": false,
    "nbgrader": {
     "checksum": "8bd4f12e7d25c9b08237deaf429e337c",
     "grade": true,
     "grade_id": "cars-group-agg-d",
     "locked": true,
     "points": 2,
     "schema_version": 1,
     "solution": false
    }
   },
   "outputs": [],
   "source": [
    "assert list(g2.columns)==['Acceleration', 'Displacement']\n",
    "assert [list(i) for i in list(g2.index.levels)]==[['Europe', 'Japan', 'USA'], [3, 4, 5, 6, 8]]"
   ]
  },
  {
   "cell_type": "markdown",
   "metadata": {},
   "source": [
    "## Grouped counts"
   ]
  },
  {
   "cell_type": "markdown",
   "metadata": {},
   "source": [
    "Compute the number of cars, grouped by `Year` and `Cylinders` and unstack the result:"
   ]
  },
  {
   "cell_type": "code",
   "execution_count": 9,
   "metadata": {
    "collapsed": false,
    "deletable": false,
    "nbgrader": {
     "checksum": "e9b2f769b90a83adfdebba8e194ed79c",
     "grade": false,
     "grade_id": "cars-group-agg-e",
     "locked": false,
     "schema_version": 1,
     "solution": true
    }
   },
   "outputs": [],
   "source": [
    "g3 = cars.groupby(['Year', 'Cylinders']).count().sum(axis=1).unstack()"
   ]
  },
  {
   "cell_type": "code",
   "execution_count": 10,
   "metadata": {
    "collapsed": false,
    "deletable": false,
    "editable": false,
    "nbgrader": {
     "checksum": "aff33a0fdbaedc074d6d6477f257d2b1",
     "grade": true,
     "grade_id": "cars-group-agg-f",
     "locked": true,
     "points": 2,
     "schema_version": 1,
     "solution": false
    }
   },
   "outputs": [],
   "source": [
    "assert list(g3.columns)==[3, 4, 5, 6, 8]\n",
    "assert list(g3.index)==['1970-01-01', '1971-01-01', '1972-01-01', '1973-01-01',\n",
    "                        '1974-01-01', '1975-01-01', '1976-01-01', '1977-01-01', \n",
    "                        '1978-01-01', '1979-01-01', '1980-01-01', '1982-01-01']"
   ]
  },
  {
   "cell_type": "markdown",
   "metadata": {},
   "source": [
    "## Multiple aggregations for different columns"
   ]
  },
  {
   "cell_type": "markdown",
   "metadata": {},
   "source": [
    "Compute two aggregate quantities with the following names and values:\n",
    "\n",
    "* `min_mpg` as the minimum `Miles_per_Gallon`.\n",
    "* `max_mpg` as the maximum `Miles_per_Gallon`.\n",
    " \n",
    "Group by `Origin`:"
   ]
  },
  {
   "cell_type": "code",
   "execution_count": 11,
   "metadata": {
    "collapsed": false
   },
   "outputs": [],
   "source": [
    "g4 = cars.groupby('Origin')['Miles_per_Gallon'].aggregate([max, min]).add_suffix('_mpg')"
   ]
  },
  {
   "cell_type": "code",
   "execution_count": 31,
   "metadata": {
    "collapsed": false,
    "deletable": false,
    "nbgrader": {
     "checksum": "a1aa1dbd67e45e780445bb5089edb8df",
     "grade": false,
     "grade_id": "cars-group-agg-g",
     "locked": false,
     "schema_version": 1,
     "solution": true
    }
   },
   "outputs": [
    {
     "data": {
      "text/html": [
       "<div>\n",
       "<table border=\"1\" class=\"dataframe\">\n",
       "  <thead>\n",
       "    <tr style=\"text-align: right;\">\n",
       "      <th></th>\n",
       "      <th>max_mpg</th>\n",
       "      <th>min_mpg</th>\n",
       "    </tr>\n",
       "    <tr>\n",
       "      <th>Origin</th>\n",
       "      <th></th>\n",
       "      <th></th>\n",
       "    </tr>\n",
       "  </thead>\n",
       "  <tbody>\n",
       "    <tr>\n",
       "      <th>Europe</th>\n",
       "      <td>44.3</td>\n",
       "      <td>16.2</td>\n",
       "    </tr>\n",
       "    <tr>\n",
       "      <th>Japan</th>\n",
       "      <td>46.6</td>\n",
       "      <td>18.0</td>\n",
       "    </tr>\n",
       "    <tr>\n",
       "      <th>USA</th>\n",
       "      <td>39.0</td>\n",
       "      <td>9.0</td>\n",
       "    </tr>\n",
       "  </tbody>\n",
       "</table>\n",
       "</div>"
      ],
      "text/plain": [
       "        max_mpg  min_mpg\n",
       "Origin                  \n",
       "Europe     44.3     16.2\n",
       "Japan      46.6     18.0\n",
       "USA        39.0      9.0"
      ]
     },
     "execution_count": 31,
     "metadata": {},
     "output_type": "execute_result"
    }
   ],
   "source": [
    "g4"
   ]
  },
  {
   "cell_type": "code",
   "execution_count": 12,
   "metadata": {
    "collapsed": false,
    "deletable": false,
    "editable": false,
    "nbgrader": {
     "checksum": "c20048d96cf1c81511a9c8ff7793563f",
     "grade": true,
     "grade_id": "cars-group-agg-h",
     "locked": true,
     "points": 2,
     "schema_version": 1,
     "solution": false
    }
   },
   "outputs": [],
   "source": [
    "assert list(g4.columns)==['max_mpg', 'min_mpg']\n",
    "assert list(g4.index)==['Europe', 'Japan', 'USA']"
   ]
  },
  {
   "cell_type": "markdown",
   "metadata": {},
   "source": [
    "## Custom aggregation function"
   ]
  },
  {
   "cell_type": "markdown",
   "metadata": {},
   "source": [
    "Compute the range of cylinders (`range` = max - min) grouped by `Origin`:"
   ]
  },
  {
   "cell_type": "code",
   "execution_count": 13,
   "metadata": {
    "collapsed": false,
    "deletable": false,
    "nbgrader": {
     "checksum": "d3aac19370969d0909009574ff055971",
     "grade": false,
     "grade_id": "cars-group-agg-i",
     "locked": false,
     "schema_version": 1,
     "solution": true
    }
   },
   "outputs": [],
   "source": [
    "def num_range(data):\n",
    "    return (max(data) - min(data))"
   ]
  },
  {
   "cell_type": "code",
   "execution_count": 14,
   "metadata": {
    "collapsed": false
   },
   "outputs": [],
   "source": [
    "g5 = cars.groupby('Origin')['Cylinders'].aggregate(num_range)"
   ]
  },
  {
   "cell_type": "code",
   "execution_count": 15,
   "metadata": {
    "collapsed": false
   },
   "outputs": [],
   "source": [
    "g5.columns = ['range']"
   ]
  },
  {
   "cell_type": "code",
   "execution_count": 16,
   "metadata": {
    "collapsed": false,
    "deletable": false,
    "editable": false,
    "nbgrader": {
     "checksum": "aceac965de224e5ef2aac284cb046980",
     "grade": true,
     "grade_id": "cars-group-agg-j",
     "locked": true,
     "points": 2,
     "schema_version": 1,
     "solution": false
    }
   },
   "outputs": [],
   "source": [
    "assert list(g5.columns)==['range']\n",
    "assert list(g5.index)==['Europe', 'Japan', 'USA']"
   ]
  },
  {
   "cell_type": "markdown",
   "metadata": {},
   "source": [
    "## Group filtering"
   ]
  },
  {
   "cell_type": "markdown",
   "metadata": {},
   "source": [
    "Compute the average acceleration, grouped by `Year` and `Origin`, only including groups with a max number of Cylinders less than 6. Unstack the `Origin` level of the resulting hierarchical row index:"
   ]
  },
  {
   "cell_type": "code",
   "execution_count": 17,
   "metadata": {
    "collapsed": false,
    "deletable": false,
    "nbgrader": {
     "checksum": "1b415e81d8d4a4926852f2a91e2870d4",
     "grade": false,
     "grade_id": "cars-group-agg-k",
     "locked": false,
     "schema_version": 1,
     "solution": true
    }
   },
   "outputs": [],
   "source": [
    "groups = cars.groupby(['Origin', 'Year'])"
   ]
  },
  {
   "cell_type": "code",
   "execution_count": 18,
   "metadata": {
    "collapsed": false
   },
   "outputs": [],
   "source": [
    "groups = groups.filter(lambda x: x['Cylinders'].max() < 6).groupby(['Origin', 'Year'])"
   ]
  },
  {
   "cell_type": "code",
   "execution_count": 19,
   "metadata": {
    "collapsed": false
   },
   "outputs": [],
   "source": [
    "g6 = groups.aggregate({'Acceleration': pd.DataFrame.mean}).unstack(level='Origin')"
   ]
  },
  {
   "cell_type": "code",
   "execution_count": 20,
   "metadata": {
    "collapsed": false,
    "deletable": false,
    "editable": false,
    "nbgrader": {
     "checksum": "77f95dbe22d7508683b8608869e07164",
     "grade": true,
     "grade_id": "cars-group-agg-l",
     "locked": true,
     "points": 2,
     "schema_version": 1,
     "solution": false
    }
   },
   "outputs": [],
   "source": [
    "assert [list(i) for i in list(g6.columns.levels)]==[['Acceleration'], ['Europe', 'Japan']]\n",
    "assert g6.index.name=='Year'\n",
    "assert len(g6)==10"
   ]
  },
  {
   "cell_type": "markdown",
   "metadata": {},
   "source": [
    "## Grouped z-scores"
   ]
  },
  {
   "cell_type": "markdown",
   "metadata": {},
   "source": [
    "Here is the average `Miles_per_Gallon`, grouped by `Year`:"
   ]
  },
  {
   "cell_type": "code",
   "execution_count": 21,
   "metadata": {
    "collapsed": false,
    "deletable": false,
    "editable": false,
    "nbgrader": {
     "checksum": "a0b521d099001d1526cccc006f47caf5",
     "grade": false,
     "grade_id": "cars-group-agg-m",
     "locked": true,
     "schema_version": 1,
     "solution": false
    }
   },
   "outputs": [
    {
     "data": {
      "text/plain": [
       "Year\n",
       "1970-01-01    17.689655\n",
       "1971-01-01    21.250000\n",
       "1972-01-01    18.714286\n",
       "1973-01-01    17.100000\n",
       "1974-01-01    22.703704\n",
       "1975-01-01    20.266667\n",
       "1976-01-01    21.573529\n",
       "1977-01-01    23.375000\n",
       "1978-01-01    24.061111\n",
       "1979-01-01    25.093103\n",
       "1980-01-01    33.696552\n",
       "1982-01-01    31.045000\n",
       "Name: Miles_per_Gallon, dtype: float64"
      ]
     },
     "execution_count": 21,
     "metadata": {},
     "output_type": "execute_result"
    }
   ],
   "source": [
    "cars.groupby(['Year'])['Miles_per_Gallon'].mean()"
   ]
  },
  {
   "cell_type": "markdown",
   "metadata": {},
   "source": [
    "Replace the `Miles_per_Gallon` values by the [z-score](https://en.wikipedia.org/wiki/Standard_score) of that value relative to its group for each `Year`:"
   ]
  },
  {
   "cell_type": "code",
   "execution_count": 22,
   "metadata": {
    "collapsed": false
   },
   "outputs": [],
   "source": [
    "z_scored_mpg = cars.groupby(['Year']).transform(lambda x: (x - x.mean()) / x.std())"
   ]
  },
  {
   "cell_type": "code",
   "execution_count": 30,
   "metadata": {
    "collapsed": false,
    "deletable": false,
    "nbgrader": {
     "checksum": "6e134e499ef4975fa2fd4c8900071ea8",
     "grade": false,
     "grade_id": "cars-group-agg-n",
     "locked": false,
     "schema_version": 1,
     "solution": true
    }
   },
   "outputs": [
    {
     "data": {
      "text/html": [
       "<div>\n",
       "<table border=\"1\" class=\"dataframe\">\n",
       "  <thead>\n",
       "    <tr style=\"text-align: right;\">\n",
       "      <th></th>\n",
       "      <th>Acceleration</th>\n",
       "      <th>Cylinders</th>\n",
       "      <th>Displacement</th>\n",
       "      <th>Horsepower</th>\n",
       "      <th>Miles_per_Gallon</th>\n",
       "      <th>Weight_in_lbs</th>\n",
       "    </tr>\n",
       "  </thead>\n",
       "  <tbody>\n",
       "    <tr>\n",
       "      <th>0</th>\n",
       "      <td>-0.216631</td>\n",
       "      <td>0.672181</td>\n",
       "      <td>0.169366</td>\n",
       "      <td>-0.379951</td>\n",
       "      <td>0.058125</td>\n",
       "      <td>0.077632</td>\n",
       "    </tr>\n",
       "    <tr>\n",
       "      <th>1</th>\n",
       "      <td>-0.368272</td>\n",
       "      <td>0.672181</td>\n",
       "      <td>0.530921</td>\n",
       "      <td>0.325261</td>\n",
       "      <td>-0.503753</td>\n",
       "      <td>0.311694</td>\n",
       "    </tr>\n",
       "    <tr>\n",
       "      <th>2</th>\n",
       "      <td>-0.519914</td>\n",
       "      <td>0.672181</td>\n",
       "      <td>0.261857</td>\n",
       "      <td>0.023027</td>\n",
       "      <td>0.058125</td>\n",
       "      <td>-0.006581</td>\n",
       "    </tr>\n",
       "    <tr>\n",
       "      <th>3</th>\n",
       "      <td>-0.216631</td>\n",
       "      <td>0.672181</td>\n",
       "      <td>0.144141</td>\n",
       "      <td>0.023027</td>\n",
       "      <td>-0.316460</td>\n",
       "      <td>-0.010297</td>\n",
       "    </tr>\n",
       "    <tr>\n",
       "      <th>4</th>\n",
       "      <td>-0.671556</td>\n",
       "      <td>0.672181</td>\n",
       "      <td>0.127325</td>\n",
       "      <td>-0.178462</td>\n",
       "      <td>-0.129168</td>\n",
       "      <td>0.009518</td>\n",
       "    </tr>\n",
       "  </tbody>\n",
       "</table>\n",
       "</div>"
      ],
      "text/plain": [
       "   Acceleration  Cylinders  Displacement  Horsepower  Miles_per_Gallon  \\\n",
       "0     -0.216631   0.672181      0.169366   -0.379951          0.058125   \n",
       "1     -0.368272   0.672181      0.530921    0.325261         -0.503753   \n",
       "2     -0.519914   0.672181      0.261857    0.023027          0.058125   \n",
       "3     -0.216631   0.672181      0.144141    0.023027         -0.316460   \n",
       "4     -0.671556   0.672181      0.127325   -0.178462         -0.129168   \n",
       "\n",
       "   Weight_in_lbs  \n",
       "0       0.077632  \n",
       "1       0.311694  \n",
       "2      -0.006581  \n",
       "3      -0.010297  \n",
       "4       0.009518  "
      ]
     },
     "execution_count": 30,
     "metadata": {},
     "output_type": "execute_result"
    }
   ],
   "source": [
    "z_scored_mpg.head()"
   ]
  },
  {
   "cell_type": "markdown",
   "metadata": {},
   "source": [
    "Show that the average z-scores for `Miles_per_Gallon` grouped by year are all zero:"
   ]
  },
  {
   "cell_type": "code",
   "execution_count": 23,
   "metadata": {
    "collapsed": false,
    "deletable": false,
    "nbgrader": {
     "checksum": "85836c2dd222f7ffa878a7c46b84413c",
     "grade": true,
     "grade_id": "cars-group-agg-o",
     "locked": false,
     "points": 2,
     "schema_version": 1,
     "solution": true
    }
   },
   "outputs": [
    {
     "data": {
      "text/plain": [
       "6.6032815731277956e-18"
      ]
     },
     "execution_count": 23,
     "metadata": {},
     "output_type": "execute_result"
    }
   ],
   "source": [
    "z_scored_mpg.mean()['Miles_per_Gallon']"
   ]
  },
  {
   "cell_type": "markdown",
   "metadata": {},
   "source": [
    "Show that the standard deviation of the z-scores for `Miles_per_Gallon` grouped by year are all 1.0:"
   ]
  },
  {
   "cell_type": "code",
   "execution_count": 24,
   "metadata": {
    "collapsed": false,
    "deletable": false,
    "nbgrader": {
     "checksum": "e262df8af9ef25d7c17094151f8e3819",
     "grade": true,
     "grade_id": "cars-group-agg-p",
     "locked": false,
     "points": 2,
     "schema_version": 1,
     "solution": true
    }
   },
   "outputs": [
    {
     "data": {
      "text/plain": [
       "0.98604877741203478"
      ]
     },
     "execution_count": 24,
     "metadata": {},
     "output_type": "execute_result"
    }
   ],
   "source": [
    "z_scored_mpg.std()['Miles_per_Gallon']"
   ]
  },
  {
   "cell_type": "markdown",
   "metadata": {},
   "source": [
    "## Grouped missing value replacement"
   ]
  },
  {
   "cell_type": "markdown",
   "metadata": {},
   "source": [
    "## Introduce missing values"
   ]
  },
  {
   "cell_type": "markdown",
   "metadata": {},
   "source": [
    "Let's introduce some missing values into the `Cylinders` column:"
   ]
  },
  {
   "cell_type": "code",
   "execution_count": 25,
   "metadata": {
    "collapsed": false,
    "deletable": false,
    "editable": false,
    "nbgrader": {
     "checksum": "9723e6bce3d63fdac7aa2b3cad42e04c",
     "grade": false,
     "grade_id": "cars-group-agg-q",
     "locked": true,
     "schema_version": 1,
     "solution": false
    }
   },
   "outputs": [
    {
     "data": {
      "text/plain": [
       "0      8.0\n",
       "1      NaN\n",
       "2      8.0\n",
       "3      8.0\n",
       "4      8.0\n",
       "5      NaN\n",
       "6      8.0\n",
       "7      8.0\n",
       "8      8.0\n",
       "9      8.0\n",
       "10     4.0\n",
       "11     NaN\n",
       "12     8.0\n",
       "13     8.0\n",
       "14     8.0\n",
       "15     8.0\n",
       "16     8.0\n",
       "17     8.0\n",
       "18     8.0\n",
       "19     8.0\n",
       "20     4.0\n",
       "21     6.0\n",
       "22     6.0\n",
       "23     NaN\n",
       "24     4.0\n",
       "25     4.0\n",
       "26     4.0\n",
       "27     4.0\n",
       "28     4.0\n",
       "29     4.0\n",
       "      ... \n",
       "376    4.0\n",
       "377    4.0\n",
       "378    4.0\n",
       "379    4.0\n",
       "380    4.0\n",
       "381    NaN\n",
       "382    4.0\n",
       "383    4.0\n",
       "384    4.0\n",
       "385    4.0\n",
       "386    NaN\n",
       "387    4.0\n",
       "388    4.0\n",
       "389    4.0\n",
       "390    4.0\n",
       "391    4.0\n",
       "392    4.0\n",
       "393    4.0\n",
       "394    NaN\n",
       "395    6.0\n",
       "396    4.0\n",
       "397    NaN\n",
       "398    4.0\n",
       "399    NaN\n",
       "400    4.0\n",
       "401    NaN\n",
       "402    NaN\n",
       "403    NaN\n",
       "404    NaN\n",
       "405    4.0\n",
       "Name: Cylinders, dtype: float64"
      ]
     },
     "execution_count": 25,
     "metadata": {},
     "output_type": "execute_result"
    }
   ],
   "source": [
    "cars['Cylinders'] = np.where(np.random.rand(len(cars)) > 0.8, np.nan, cars['Cylinders'])\n",
    "cars.Cylinders"
   ]
  },
  {
   "cell_type": "markdown",
   "metadata": {},
   "source": [
    "Here are the average number of Cylinders, grouped by `Year`:"
   ]
  },
  {
   "cell_type": "code",
   "execution_count": 26,
   "metadata": {
    "collapsed": false,
    "deletable": false,
    "editable": false,
    "nbgrader": {
     "checksum": "0bc08d0c9de418eed80e72560c3841e5",
     "grade": false,
     "grade_id": "cars-group-agg-r",
     "locked": true,
     "schema_version": 1,
     "solution": false
    }
   },
   "outputs": [
    {
     "data": {
      "text/plain": [
       "Year\n",
       "1970-01-01    6.774194\n",
       "1971-01-01    5.523810\n",
       "1972-01-01    5.954545\n",
       "1973-01-01    6.125000\n",
       "1974-01-01    5.217391\n",
       "1975-01-01    5.826087\n",
       "1976-01-01    5.862069\n",
       "1977-01-01    5.105263\n",
       "1978-01-01    5.206897\n",
       "1979-01-01    5.800000\n",
       "1980-01-01    4.222222\n",
       "1982-01-01    4.390244\n",
       "Name: Cylinders, dtype: float64"
      ]
     },
     "execution_count": 26,
     "metadata": {},
     "output_type": "execute_result"
    }
   ],
   "source": [
    "cars.groupby(['Year'])['Cylinders'].mean()"
   ]
  },
  {
   "cell_type": "markdown",
   "metadata": {},
   "source": [
    "Replace the missing values in `Cylinders` by the group average (grouped by `Year`):"
   ]
  },
  {
   "cell_type": "code",
   "execution_count": 27,
   "metadata": {
    "collapsed": false,
    "deletable": false,
    "nbgrader": {
     "checksum": "b810d7fc0e256377e74b2aed020d764a",
     "grade": false,
     "grade_id": "cars-group-agg-s",
     "locked": false,
     "schema_version": 1,
     "solution": true
    }
   },
   "outputs": [],
   "source": [
    "replaced_nan_cars = cars.groupby(['Year']).apply(lambda x: x.replace(np.nan, x.mean()))"
   ]
  },
  {
   "cell_type": "markdown",
   "metadata": {},
   "source": [
    "By replacing missing values with group averages, the grouped averages remain unchanged:"
   ]
  },
  {
   "cell_type": "code",
   "execution_count": 28,
   "metadata": {
    "collapsed": false,
    "deletable": false,
    "nbgrader": {
     "checksum": "575a8484a9064e7eba056745e5af59af",
     "grade": true,
     "grade_id": "cars-group-agg-t",
     "locked": false,
     "points": 2,
     "schema_version": 1,
     "solution": true
    }
   },
   "outputs": [
    {
     "data": {
      "text/plain": [
       "Year\n",
       "1970-01-01    6.774194\n",
       "1971-01-01    5.523810\n",
       "1972-01-01    5.954545\n",
       "1973-01-01    6.125000\n",
       "1974-01-01    5.217391\n",
       "1975-01-01    5.826087\n",
       "1976-01-01    5.862069\n",
       "1977-01-01    5.105263\n",
       "1978-01-01    5.206897\n",
       "1979-01-01    5.800000\n",
       "1980-01-01    4.222222\n",
       "1982-01-01    4.390244\n",
       "Name: Cylinders, dtype: float64"
      ]
     },
     "execution_count": 28,
     "metadata": {},
     "output_type": "execute_result"
    }
   ],
   "source": [
    "replaced_nan_cars.groupby(['Year'])['Cylinders'].mean()"
   ]
  }
 ],
 "metadata": {
  "kernelspec": {
   "display_name": "Python 3",
   "language": "python",
   "name": "python3"
  },
  "language_info": {
   "codemirror_mode": {
    "name": "ipython",
    "version": 3
   },
   "file_extension": ".py",
   "mimetype": "text/x-python",
   "name": "python",
   "nbconvert_exporter": "python",
   "pygments_lexer": "ipython3",
   "version": "3.5.2"
  }
 },
 "nbformat": 4,
 "nbformat_minor": 2
}
