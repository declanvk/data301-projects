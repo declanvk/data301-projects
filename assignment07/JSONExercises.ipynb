{
 "cells": [
  {
   "cell_type": "markdown",
   "metadata": {},
   "source": [
    "# JSON Exercises"
   ]
  },
  {
   "cell_type": "markdown",
   "metadata": {},
   "source": [
    "## Imports"
   ]
  },
  {
   "cell_type": "code",
   "execution_count": 1,
   "metadata": {
    "collapsed": false
   },
   "outputs": [],
   "source": [
    "import numpy as np\n",
    "import pandas as pd\n",
    "from altair import *"
   ]
  },
  {
   "cell_type": "markdown",
   "metadata": {},
   "source": [
    "## Using JSON to find your location"
   ]
  },
  {
   "cell_type": "markdown",
   "metadata": {},
   "source": [
    "In this exercises you will make an HTTP request to a service that returns your location as JSON data by looking at your IP address.\n",
    "\n",
    "1. Read the documentation of the Python `requests` library [here](http://docs.python-requests.org/en/latest/) to learn how to make an HTTP `GET` request. A `GET` request is the most basic way of downloading something from the web. Your web browser does this everytime you visit a page.\n",
    "2. Find the right URL to make a JSON GeoIP request from this service: https://freegeoip.net\n",
    "3. Make the request using `request.get`, and parse the `.text` attribute of the response using `json.loads`.\n",
    "4. Write a function, `find_location` that takes a hostname (such as `google.com`) and returns a tuple of the lattitude and longitude."
   ]
  },
  {
   "cell_type": "code",
   "execution_count": 2,
   "metadata": {
    "collapsed": false,
    "deletable": false,
    "editable": false,
    "nbgrader": {
     "checksum": "32d59697e3d5900655b7dbed8bbdb0c7",
     "grade": false,
     "grade_id": "json-a",
     "locked": true,
     "schema_version": 1,
     "solution": false
    }
   },
   "outputs": [],
   "source": [
    "import requests\n",
    "import json"
   ]
  },
  {
   "cell_type": "code",
   "execution_count": 3,
   "metadata": {
    "collapsed": false,
    "deletable": false,
    "nbgrader": {
     "checksum": "c39444c5fe4ac370292c4978f3bb92cc",
     "grade": false,
     "grade_id": "json-b",
     "locked": false,
     "schema_version": 1,
     "solution": true
    }
   },
   "outputs": [],
   "source": [
    "def find_location(host):\n",
    "    \"\"\"Find the (lat, lon) given hostname (google.com) using a GeoIP service.\"\"\"\n",
    "    location_request = requests.get(\"https://www.freegeoip.net/json/{}\".format(host))\n",
    "    location_json = json.loads(location_request.text)\n",
    "    return (location_json['latitude'], location_json['longitude'])"
   ]
  },
  {
   "cell_type": "code",
   "execution_count": 4,
   "metadata": {
    "collapsed": false,
    "deletable": false,
    "editable": false,
    "nbgrader": {
     "checksum": "b09b4c286f7891b2b2c06af1696fb6ae",
     "grade": true,
     "grade_id": "json-c",
     "locked": true,
     "points": 4,
     "schema_version": 1,
     "solution": false
    }
   },
   "outputs": [],
   "source": [
    "assert find_location('calpoly.edu')==(35.3471, -120.4553)\n",
    "assert find_location('github.com')==(37.7697, -122.3933)"
   ]
  },
  {
   "cell_type": "markdown",
   "metadata": {},
   "source": [
    "## California home prices using Quandl"
   ]
  },
  {
   "cell_type": "markdown",
   "metadata": {},
   "source": [
    "The website http://quandl.com is an absolutely spectacular source of open data. It provides millions of data sets, on a wide range of topics in a range of formats (CSV, JSON, Excel). For the purpose of this exercise you are going to learn how to search Quandl for a data set and then load that data set into a `DataFrame` using `requests`.\n",
    "\n",
    "1. Find a dataset of the rental prices (all homes) in the city of San Luis Obispo. You will need to create a Quandl account (you can use your GitHub credentials). This data is part of the Zillow dataset on Quandl.\n",
    "2. Click on the JSON button and copy the URL that is shown into a Python variable named `url`.\n",
    "3. Make an HTTP `GET` request to that URL using `requests`.\n",
    "4. Parse the resulting JSON data and look at it.\n",
    "5. Create a `DataFrame` with the `Date` and `Value` columns from the JSON data.\n",
    "6. Save the `DataFrame` in the variable `data`."
   ]
  },
  {
   "cell_type": "code",
   "execution_count": 5,
   "metadata": {
    "collapsed": false,
    "deletable": false,
    "nbgrader": {
     "checksum": "37a9ea3e1cdc9d618938eee5ca5da0c8",
     "grade": false,
     "grade_id": "json-d",
     "locked": false,
     "schema_version": 1,
     "solution": true
    }
   },
   "outputs": [],
   "source": [
    "url = \"https://www.quandl.com/api/v3/datasets/ZILL/C00540_RMP.json?api_key=zy-gg3L34khpP47nTsvA\"\n",
    "quandl_request = requests.get(url)\n",
    "quandl_json = json.loads(quandl_request.text)\n",
    "data = pd.DataFrame(columns=quandl_json['dataset']['column_names'], data=quandl_json['dataset']['data'])"
   ]
  },
  {
   "cell_type": "code",
   "execution_count": 6,
   "metadata": {
    "collapsed": false,
    "deletable": false,
    "editable": false,
    "nbgrader": {
     "checksum": "cf364c6684922b2a1bfd0d26d5a77e25",
     "grade": true,
     "grade_id": "json-e",
     "locked": true,
     "points": 4,
     "schema_version": 1,
     "solution": false
    }
   },
   "outputs": [],
   "source": [
    "assert url.startswith('https://www.quandl.com/api/v3/datasets/ZILL')\n",
    "assert isinstance(data, pd.DataFrame)\n",
    "assert list(data.columns)==['Date', 'Value']\n",
    "assert len(data)>50"
   ]
  },
  {
   "cell_type": "markdown",
   "metadata": {},
   "source": [
    "Create an Altair line chart that shows how rental prices are changing over time (over years and months):"
   ]
  },
  {
   "cell_type": "code",
   "execution_count": 7,
   "metadata": {
    "collapsed": false,
    "deletable": false,
    "nbgrader": {
     "checksum": "f6f5b0b15548df214aeda9c8863bcba8",
     "grade": true,
     "grade_id": "json-f",
     "locked": false,
     "points": 2,
     "schema_version": 1,
     "solution": true
    }
   },
   "outputs": [
    {
     "data": {
      "text/html": [
       "<div class=\"vega-embed\" id=\"06a9b4eb-194b-4bb6-b4fe-4ffd5caa4417\"></div>\n",
       "\n",
       "<style>\n",
       ".vega-embed svg, .vega-embed canvas {\n",
       "  border: 1px dotted gray;\n",
       "}\n",
       "\n",
       ".vega-embed .vega-actions a {\n",
       "  margin-right: 6px;\n",
       "}\n",
       "</style>\n"
      ]
     },
     "metadata": {
      "jupyter-vega": "#06a9b4eb-194b-4bb6-b4fe-4ffd5caa4417"
     },
     "output_type": "display_data"
    },
    {
     "data": {
      "application/javascript": [
       "var spec = {\"mark\": \"line\", \"data\": {\"values\": [{\"Value\": 1800.0, \"Date\": \"2015-06-30\"}, {\"Value\": 1950.0, \"Date\": \"2015-05-31\"}, {\"Value\": 1750.0, \"Date\": \"2015-04-30\"}, {\"Value\": 1900.0, \"Date\": \"2015-03-31\"}, {\"Value\": 2000.0, \"Date\": \"2015-02-28\"}, {\"Value\": 1950.0, \"Date\": \"2015-01-31\"}, {\"Value\": 1500.0, \"Date\": \"2014-12-31\"}, {\"Value\": 2100.0, \"Date\": \"2014-11-30\"}, {\"Value\": 2100.0, \"Date\": \"2014-10-31\"}, {\"Value\": 1650.0, \"Date\": \"2014-09-30\"}, {\"Value\": 1950.0, \"Date\": \"2014-08-31\"}, {\"Value\": 1700.0, \"Date\": \"2014-07-31\"}, {\"Value\": 1400.0, \"Date\": \"2014-06-30\"}, {\"Value\": 1300.0, \"Date\": \"2014-05-31\"}, {\"Value\": 1350.0, \"Date\": \"2014-04-30\"}, {\"Value\": 1495.0, \"Date\": \"2014-03-31\"}, {\"Value\": 850.0, \"Date\": \"2014-02-28\"}, {\"Value\": 1000.0, \"Date\": \"2014-01-31\"}, {\"Value\": 1100.0, \"Date\": \"2013-12-31\"}, {\"Value\": 1000.0, \"Date\": \"2013-11-30\"}, {\"Value\": 1000.0, \"Date\": \"2013-10-31\"}, {\"Value\": 1200.0, \"Date\": \"2013-09-30\"}, {\"Value\": 1400.0, \"Date\": \"2013-08-31\"}, {\"Value\": 1300.0, \"Date\": \"2013-07-31\"}, {\"Value\": 1700.0, \"Date\": \"2013-06-30\"}, {\"Value\": 1550.0, \"Date\": \"2013-05-31\"}, {\"Value\": 1600.0, \"Date\": \"2013-04-30\"}, {\"Value\": 1650.0, \"Date\": \"2013-03-31\"}, {\"Value\": 1550.0, \"Date\": \"2013-02-28\"}, {\"Value\": 1500.0, \"Date\": \"2013-01-31\"}, {\"Value\": 1200.0, \"Date\": \"2012-12-31\"}, {\"Value\": 1350.0, \"Date\": \"2012-11-30\"}, {\"Value\": 1350.0, \"Date\": \"2012-10-31\"}, {\"Value\": 1550.0, \"Date\": \"2012-09-30\"}, {\"Value\": 1700.0, \"Date\": \"2012-08-31\"}, {\"Value\": 1300.0, \"Date\": \"2012-07-31\"}, {\"Value\": 1200.0, \"Date\": \"2012-06-30\"}, {\"Value\": 1300.0, \"Date\": \"2012-05-31\"}, {\"Value\": 1450.0, \"Date\": \"2012-04-30\"}, {\"Value\": 1500.0, \"Date\": \"2012-03-31\"}, {\"Value\": 1495.0, \"Date\": \"2012-02-29\"}, {\"Value\": 1150.0, \"Date\": \"2012-01-31\"}, {\"Value\": 1350.0, \"Date\": \"2011-12-31\"}, {\"Value\": 1660.0, \"Date\": \"2011-11-30\"}, {\"Value\": 1660.0, \"Date\": \"2011-10-31\"}, {\"Value\": 1500.0, \"Date\": \"2011-09-30\"}, {\"Value\": 1275.0, \"Date\": \"2011-08-31\"}, {\"Value\": 1275.0, \"Date\": \"2011-07-31\"}, {\"Value\": 1250.0, \"Date\": \"2011-06-30\"}, {\"Value\": 1300.0, \"Date\": \"2011-05-31\"}, {\"Value\": 1350.0, \"Date\": \"2011-04-30\"}, {\"Value\": 1250.0, \"Date\": \"2011-03-31\"}, {\"Value\": 995.0, \"Date\": \"2011-02-28\"}, {\"Value\": 875.0, \"Date\": \"2011-01-31\"}, {\"Value\": 729.0, \"Date\": \"2010-12-31\"}]}, \"encoding\": {\"y\": {\"type\": \"quantitative\", \"field\": \"Value\"}, \"x\": {\"type\": \"temporal\", \"field\": \"Date\"}}, \"config\": {\"cell\": {\"height\": 350, \"width\": 500}}};\n",
       "var selector = \"#06a9b4eb-194b-4bb6-b4fe-4ffd5caa4417\";\n",
       "var type = \"vega-lite\";\n",
       "\n",
       "var output_area = this;\n",
       "require(['nbextensions/jupyter-vega/index'], function(vega) {\n",
       "  vega.render(selector, spec, type, output_area);\n",
       "}, function (err) {\n",
       "  if (err.requireType !== 'scripterror') {\n",
       "    throw(err);\n",
       "  }\n",
       "});\n"
      ]
     },
     "metadata": {
      "jupyter-vega": "#06a9b4eb-194b-4bb6-b4fe-4ffd5caa4417"
     },
     "output_type": "display_data"
    },
    {
     "data": {
      "image/png": "[encoded data removed]"
     },
     "metadata": {
      "jupyter-vega": "#06a9b4eb-194b-4bb6-b4fe-4ffd5caa4417"
     },
     "output_type": "display_data"
    }
   ],
   "source": [
    "Chart(data).mark_line().encode(\n",
    "    X('Date:T'),\n",
    "    Y('Value:Q')\n",
    ")"
   ]
  }
 ],
 "metadata": {
  "kernelspec": {
   "display_name": "Python 3",
   "language": "python",
   "name": "python3"
  },
  "language_info": {
   "codemirror_mode": {
    "name": "ipython",
    "version": 3
   },
   "file_extension": ".py",
   "mimetype": "text/x-python",
   "name": "python",
   "nbconvert_exporter": "python",
   "pygments_lexer": "ipython3",
   "version": "3.5.2"
  }
 },
 "nbformat": 4,
 "nbformat_minor": 0
}
