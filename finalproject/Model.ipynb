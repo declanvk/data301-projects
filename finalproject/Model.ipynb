{
 "cells": [
  {
   "cell_type": "markdown",
   "metadata": {},
   "source": [
    "# Netflix Dataset Baseline Modeling\n",
    "\n",
    "# DO NOT RUN\n",
    "Takes several hours to complete."
   ]
  },
  {
   "cell_type": "code",
   "execution_count": 1,
   "metadata": {
    "collapsed": true
   },
   "outputs": [],
   "source": [
    "import sqlite3\n",
    "import pathlib\n",
    "from contextlib import closing\n",
    "\n",
    "import numpy as np\n",
    "import pandas as pd\n",
    "import tensorflow as tf\n",
    "from sklearn.model_selection import train_test_split"
   ]
  },
  {
   "cell_type": "markdown",
   "metadata": {},
   "source": [
    "Constants\n",
    "=================\n",
    "\n",
    "These constants are related to the logistics side of the training:\n",
    " + ``DB_PATH`` is the location of the SQLite database containing all relevant data\n",
    " + ``TRAINING_DIR`` is the location of all training checkpoints, summaries, and debug info if any.\n",
    " + ``BATCH_SIZE`` is the number of rating records retrieved at once for a training step\n",
    " + ``NUM_MODEL_GROUPS`` is the number of randomly assigned groups that the ratings belong to\n",
    " + ``NUM_INPUT_JOBS`` is the number of threads that will read from the database and pipe to the input queue\n",
    " + ``TEST_PERCENTAGE`` is the percentage of all ratings that will be used for testing\n",
    " + ``VALIDATION_PERCENTAGE`` is the percentage of the testing ratings that will be used for validation"
   ]
  },
  {
   "cell_type": "code",
   "execution_count": 2,
   "metadata": {
    "collapsed": true
   },
   "outputs": [],
   "source": [
    "# data related constants\n",
    "\n",
    "DB_PATH = pathlib.Path('/') / 'data' / 'declanvk' / 'netflix_prize.sqlite'\n",
    "TRAINING_DIR = pathlib.Path('/') / 'data' / 'declanvk' / 'training_log'\n",
    "BATCH_SIZE = 1000\n",
    "NUM_MODEL_GROUPS = 1000000\n",
    "NUM_INPUT_JOBS = 2\n",
    "\n",
    "TEST_PERCENTAGE = 0.3\n",
    "VALIDATION_PERCENTAGE = 0.5\n",
    "\n",
    "MODEL_GROUP_ID_BASE_QUERY = \"\"\"\n",
    "SELECT\n",
    "  rating.item_id AS ItemID,\n",
    "  rating.customer_id AS CustomerID,\n",
    "  rating.value AS Rating,\n",
    "  rating.day AS Day,\n",
    "  freq AS Freq\n",
    "FROM rating\n",
    "  INNER JOIN customer_time_freq\n",
    "    ON (\n",
    "    customer_time_freq.customer_id = rating.customer_id AND\n",
    "    customer_time_freq.day = rating.day)\n",
    "WHERE model_group_id IN ({});\n",
    "\"\"\"\n",
    "\n",
    "COLUMN_TYPES = [np.int32, np.int32, np.float32, np.int32, np.int32]\n",
    "TF_COLUMN_TYPES = [tf.int32, tf.int32, tf.float32, tf.int32, tf.int32]"
   ]
  },
  {
   "cell_type": "markdown",
   "metadata": {},
   "source": [
    "Hyperparameters\n",
    "================\n",
    "\n",
    "These constants are used to control the model and how it learns.\n",
    " + ``STARTER_LEARNING_RATE`` is the initial learning rate of the stochastic gradient descent prior to decay.\n",
    " + ``LEARNING_RATE_DECAY`` is the amount that the learning rate is decreased by every decrease.\n",
    " + ``TOTAL_STEPS`` is the total number of iterations of SGD.\n",
    " + ``NUM_STAIRS`` is number of decreases that the learning rate will undergo.\n",
    " + ``ITEM_TIME_BINS`` and ``CUSTOMER_DRIFT_RATE`` are used to control features of the model that might be in use."
   ]
  },
  {
   "cell_type": "code",
   "execution_count": 3,
   "metadata": {
    "collapsed": true
   },
   "outputs": [],
   "source": [
    "# Constants associated with learning\n",
    "\n",
    "STARTER_LEARNING_RATE = 0.0015\n",
    "LEARNING_DECAY_RATE = 2 / 3\n",
    "TOTAL_STEPS = 50000\n",
    "NUM_STAIRS = 10\n",
    "\n",
    "ITEM_TIME_BINS = 30\n",
    "\n",
    "CUSTOMER_DRIFT_RATE = 0.4"
   ]
  },
  {
   "cell_type": "markdown",
   "metadata": {},
   "source": [
    "More Constants\n",
    "===============\n",
    "\n",
    "These constants are dependent on the data in the database. The variables names speak for themsevles, but mean_days is the mean day of rating for each customer. The CustomerID corresponds to the index in the array."
   ]
  },
  {
   "cell_type": "code",
   "execution_count": 4,
   "metadata": {
    "collapsed": false
   },
   "outputs": [],
   "source": [
    "# Query database for constants\n",
    "\n",
    "with sqlite3.connect(str(DB_PATH)) as connection, closing(connection.cursor()) as curs:\n",
    "    curs.execute('SELECT count(*) FROM item')\n",
    "    num_items, = curs.fetchone()\n",
    "    curs.execute('SELECT count(*) FROM rating')\n",
    "    num_ratings, = curs.fetchone()\n",
    "    curs.execute('SELECT count(*) FROM customer')\n",
    "    num_customers, = curs.fetchone()\n",
    "    curs.execute('SELECT avg(value) FROM rating')\n",
    "    avg_rating, = curs.fetchone()\n",
    "    curs.execute('SELECT mean_day FROM customer ORDER BY customer_id ASC')\n",
    "    mean_days = list(map(lambda row: row[0], curs.fetchall()))\n",
    "    curs.execute('SELECT min(day), max(day) FROM rating')\n",
    "    min_day, max_day = curs.fetchone()\n",
    "    curs.execute('SELECT min(freq), max(freq) FROM customer_time_freq')\n",
    "    min_freq, max_freq = curs.fetchone()\n",
    "    min_log_freq, max_log_freq = list(map(lambda x: int(np.floor(np.log(x))), [min_freq, max_freq]))"
   ]
  },
  {
   "cell_type": "markdown",
   "metadata": {},
   "source": [
    "Parameters\n",
    "===========\n",
    "\n",
    "The parameters are the main output of training the model, these will be used to predict future ratings and suggest movies to customers.\n",
    " + ``item_baseline`` is the base effect only dependent on the item\n",
    " + ``customer_baseline`` is the base effect only dependent on the customer\n",
    " + ``item_time_bin`` captures time based effects after the reducing to a smaller number of bins only for items\n",
    " + ``customer_drift`` captures change in customer rating preferences over time"
   ]
  },
  {
   "cell_type": "code",
   "execution_count": 5,
   "metadata": {
    "collapsed": false
   },
   "outputs": [],
   "source": [
    "# Define variables to train\n",
    "with tf.name_scope('variables'):\n",
    "    item_baseline = tf.Variable(tf.zeros([num_items]), dtype=tf.float32,\\\n",
    "                                name=\"item_baseline\")\n",
    "    item_time_bin = tf.Variable(tf.zeros([num_items, ITEM_TIME_BINS + 1]), dtype=tf.float32,\\\n",
    "                                name='item_time_dependent_constant')\n",
    "    item_log_freq_base = tf.Variable(tf.zeros([num_items, (max_log_freq - min_log_freq) + 1]), dtype=tf.float32,\\\n",
    "                                    name='item_log_freq_baseline')\n",
    "    customer_baseline = tf.Variable(tf.zeros([num_customers]), dtype=tf.float32,\\\n",
    "                                    name=\"customer_baseline\")\n",
    "    customer_drift = tf.Variable(tf.zeros([num_customers]), dtype=tf.float32,\\\n",
    "                                 name='customer_temporal_drift')\n",
    "    customer_multiplier = tf.Variable(tf.ones([num_customers]), dtype=tf.float32,\\\n",
    "                                     name='customer_baseline_multiplier')\n",
    "    \n",
    "VARIABLES = [item_baseline, item_time_bin, item_log_freq_base, customer_baseline, customer_drift, customer_multiplier]\n",
    "VAR_NAMES = ['item_baseline', 'item_time_binned_baseline', 'item_log_frequency_baseline', 'customer_baseline',\\\n",
    "             'customer_drift', 'customer_multiplier']"
   ]
  },
  {
   "cell_type": "markdown",
   "metadata": {},
   "source": [
    "Helper Functions\n",
    "===========================\n",
    "\n",
    "These functions either retrieve data or create Tensorflow nodes that follow a common pattern.\n",
    " + ``fetch_model_group`` performs all database queries, both within the tensorflow framework and outside it for reading complete test data out.\n",
    " + ``predict_ratings`` takes equal length Tensors containing the all the data needed to predict ratings and returns a Tensor containing predictions for each rating in the parameters. The equation for the baseline rating prediction is:\n",
    "$$\n",
    "b_{ui} = \\mu + b_u + \\alpha_u \\cdot d{ev}_u(t_{ui}) + \\left ( b_i + b_{i, Bin(t_{ui})} \\right ) \\cdot c_u + b_{i,f_{ui}}\n",
    "$$ This function comes from the the paper published by the Netflix Prize winners, with some modification. Their learning process allowed differing learning rates for different variables, which I was unable to replicate. They also included some other time based constants which I removed due to the lack of support for SparseTensor variables in Tensorflow.\n",
    " + ``create_error_nodes`` takes the expected and predicted ratings and produces various error statistics from those"
   ]
  },
  {
   "cell_type": "code",
   "execution_count": 6,
   "metadata": {
    "collapsed": false
   },
   "outputs": [],
   "source": [
    "# func defs for data and training\n",
    "\n",
    "def fetch_model_group(all_group_ids, input_size=None, output_size=BATCH_SIZE):\n",
    "    \"\"\"\n",
    "    Load rating groups with given ids, if size specified only take \n",
    "    a random selection of group ids of size size\n",
    "    \"\"\"\n",
    "    input_size = input_size if input_size is not None else BATCH_SIZE // 10\n",
    "    group_ids = np.random.choice(all_group_ids, size=input_size, replace=False)\n",
    "    query = MODEL_GROUP_ID_BASE_QUERY.format(\",\".join(map(str, group_ids)))\n",
    "    \n",
    "    with sqlite3.connect(str(DB_PATH)) as connection:\n",
    "        data = pd.read_sql(query, connection)\n",
    "        data = data.ix[data.index < output_size]\n",
    "        convert_pair = lambda pair: data[pair[1]].as_matrix().astype(COLUMN_TYPES[pair[0]])\n",
    "        return list(map(convert_pair, enumerate(data)))\n",
    "    \n",
    "def predict_ratings(item_idx, customer_idx, day, frequency):\n",
    "    \"\"\"\n",
    "    Return Tensorflow object that is the rating prediction for the given item, customer, and day\n",
    "    All tensors need to be the same size\n",
    "    \"\"\"\n",
    "    with tf.name_scope('prediction'):\n",
    "        with tf.name_scope('item_term'):\n",
    "            with tf.name_scope('time_dependent_constant'):\n",
    "                binned_day = ITEM_TIME_BINS * (day - min_day) / (max_day - min_day)\n",
    "                binned_day = tf.cast(binned_day, tf.int32)\n",
    "                time_bin_idx = tf.stack([item_idx, binned_day], axis=1)\n",
    "                item_time_bin_subset = tf.gather_nd(item_time_bin, time_bin_idx)\n",
    "            with tf.name_scope('time_frequency_constant'):\n",
    "                floor_log_freq = tf.cast(tf.floor(tf.log(tf.cast(frequency, tf.float32))), tf.int32)\n",
    "                item_freq_idx = tf.stack([item_idx, floor_log_freq], axis=1)\n",
    "                item_freq_const_subset = tf.gather_nd(item_log_freq_base, item_freq_idx)\n",
    "            item_baseline_subset = tf.gather(item_baseline, item_idx)\n",
    "            item_term = item_baseline_subset + item_time_bin_subset\n",
    "        with tf.name_scope('customer_term'):\n",
    "            with tf.name_scope('customer_item_multiplier'):\n",
    "                customer_mult_subset = tf.gather(customer_multiplier, customer_idx)\n",
    "                customer_mult = customer_mult_subset\n",
    "            with tf.name_scope('customer_deviation'):\n",
    "                time_diff = tf.subtract(tf.to_float(day), tf.gather(customer_mean_days, customer_idx))\n",
    "                diff_sign = tf.sign(time_diff)\n",
    "                diff_dev = diff_sign * tf.pow(tf.abs(time_diff), time_drift_rate)\n",
    "                customer_deviation = tf.gather(customer_drift, customer_idx) * diff_dev\n",
    "            customer_baseline_subset = tf.gather(customer_baseline, customer_idx)\n",
    "            customer_term = customer_baseline_subset + customer_deviation\n",
    "        return overall_average_rating + customer_term + (item_term * customer_mult) + item_freq_const_subset\n",
    "\n",
    "def create_error_nodes(expected, predicted):\n",
    "    \"\"\"\n",
    "    Create error tensor objects for expected and predicted ratings\n",
    "    \"\"\"\n",
    "    with tf.name_scope('error_components'):\n",
    "        residual_ss = tf.reduce_mean(tf.square(tf.subtract(expected, predicted)))\n",
    "        total_ss = tf.reduce_sum(tf.square(tf.subtract(expected, tf.reduce_mean(expected))))\n",
    "        \n",
    "    rmse = tf.sqrt(residual_ss, name='rmse')\n",
    "    with tf.name_scope('r_squared'):\n",
    "        r_squared = tf.subtract(1.0, tf.div(residual_ss, total_ss))\n",
    "    \n",
    "    return residual_ss, total_ss, rmse, r_squared"
   ]
  },
  {
   "cell_type": "markdown",
   "metadata": {},
   "source": [
    "Test Train Split\n",
    "===============\n",
    "\n",
    "Based on previous described constants, splitting the data into train and test, then from test splitting into test and validation. Train will be randomly sampled to provide data for stochastic gradient descent, while validation will provide an independent estimation of the general error rate at every step in the training processs. The test dataset will be used once at the end to reinforce the the validation error rate. The validation test split might not be entirely necessary in this instance."
   ]
  },
  {
   "cell_type": "code",
   "execution_count": 7,
   "metadata": {
    "collapsed": true
   },
   "outputs": [],
   "source": [
    "# Split groups ids into training, test, and validation\n",
    "\n",
    "raw_train_ids, raw_test_ids = train_test_split(np.arange(NUM_MODEL_GROUPS), test_size=TEST_PERCENTAGE)\n",
    "\n",
    "raw_test_ids, raw_validation_ids = train_test_split(raw_test_ids, test_size=VALIDATION_PERCENTAGE)"
   ]
  },
  {
   "cell_type": "markdown",
   "metadata": {},
   "source": [
    "Tensorflow Constants\n",
    "=================\n",
    "\n",
    "Translating the previous described constants into something Tensorflow can understand involves wrapping them in ``tf.constant`` calls. This force explicit data types and names for each constant in the Tensorflow context."
   ]
  },
  {
   "cell_type": "code",
   "execution_count": 8,
   "metadata": {
    "collapsed": false
   },
   "outputs": [],
   "source": [
    "# Define constant, mostly ids\n",
    "with tf.name_scope('constants'):\n",
    "    overall_average_rating = tf.constant(avg_rating, tf.float32, name=\"overall_average_rating\")\n",
    "    customer_mean_days = tf.constant(mean_days, tf.float32, name='customer_mean_days')\n",
    "    \n",
    "    time_drift_rate = tf.constant(CUSTOMER_DRIFT_RATE, tf.float32, name='customer_rating_drift_rate')\n",
    "\n",
    "    train_ids = tf.constant(raw_train_ids, tf.int32, name=\"training_ids\")\n",
    "    test_ids = tf.constant(raw_test_ids, tf.int32, name=\"test_ids\")\n",
    "    val_ids = tf.constant(raw_validation_ids, tf.int32, name=\"validation_ids\")"
   ]
  },
  {
   "cell_type": "markdown",
   "metadata": {},
   "source": [
    "Global Step\n",
    "==================\n",
    "\n",
    "The global step variable controls the learning rate decay, and is used to identify how far the training process is from completion."
   ]
  },
  {
   "cell_type": "code",
   "execution_count": 9,
   "metadata": {
    "collapsed": false
   },
   "outputs": [],
   "source": [
    "# The global step controls the learning rate decay\n",
    "\n",
    "global_step = tf.Variable(0, trainable=False, name='global_step')"
   ]
  },
  {
   "cell_type": "markdown",
   "metadata": {},
   "source": [
    "Data Input\n",
    "================\n",
    "\n",
    "Data is funneled from two threads into a randomly shuffled queue that makes certain the sampling from the dataset is random. These operations make more sense if you consider them in the context of building a computational graph, the final ``input_quue.dequeue`` call is only creating new nodes in the graph."
   ]
  },
  {
   "cell_type": "code",
   "execution_count": 10,
   "metadata": {
    "collapsed": false
   },
   "outputs": [],
   "source": [
    "# Inputs are pulled in batch size from the database then put in a random queue\n",
    "# The enqueue op can be passed into multiple threads to parallize this operation and prevent bottleneck\n",
    "with tf.name_scope('input'):\n",
    "    input_queue = tf.RandomShuffleQueue(capacity=NUM_INPUT_JOBS ** 2 + 4, min_after_dequeue=NUM_INPUT_JOBS,\\\n",
    "                                        dtypes=TF_COLUMN_TYPES, \\\n",
    "                                        shapes=[(BATCH_SIZE,)] * len(TF_COLUMN_TYPES), \\\n",
    "                                        name=\"batch_queue\")\n",
    "    training_data = tf.py_func(func=fetch_model_group, inp=[train_ids], Tout=TF_COLUMN_TYPES,\\\n",
    "                               name=\"database_fetch\")\n",
    "    enqueue_op = input_queue.enqueue(training_data, name=\"enqueue_batch\")\n",
    "    \n",
    "    train_item_indices, train_customer_indices, train_ratings, train_days, train_freqs = \\\n",
    "        input_queue.dequeue(name=\"get_batch\")"
   ]
  },
  {
   "cell_type": "markdown",
   "metadata": {},
   "source": [
    "Regularization\n",
    "===================\n",
    "\n",
    "Regularization of the parameters is needed to prevent overfitting and penalize their magnitude. Different penalties are applied to each variable by multiply a rate by the $L_2$ norm of the variable. The sum of regularizations is then added to the least squares minimization that is the objective and the total function is used as the loss function for the optimizer."
   ]
  },
  {
   "cell_type": "code",
   "execution_count": 11,
   "metadata": {
    "collapsed": true
   },
   "outputs": [],
   "source": [
    "REG_RATES = {\n",
    "    item_baseline: 0.01,\n",
    "    item_time_bin: 500,\n",
    "    item_log_freq_base: 0.1,\n",
    "    customer_baseline: 0.01,\n",
    "    customer_drift: 500,\n",
    "    customer_multiplier: 0.1,\n",
    "}"
   ]
  },
  {
   "cell_type": "code",
   "execution_count": 12,
   "metadata": {
    "collapsed": false
   },
   "outputs": [],
   "source": [
    "# Model loss formulation for training data\n",
    "with tf.name_scope('loss'):\n",
    "    with tf.name_scope('training'):\n",
    "        train_prediction = predict_ratings(train_item_indices, train_customer_indices, train_days, train_freqs)\n",
    "    to_minimize = tf.subtract(train_ratings, train_prediction)\n",
    "    \n",
    "    with tf.name_scope('least_squares'):\n",
    "        least_squares = tf.reduce_sum(tf.pow(to_minimize, 2))\n",
    "    with tf.name_scope('regularization'):\n",
    "        item_base_reg = REG_RATES[item_baseline] * tf.nn.l2_loss(item_baseline)\n",
    "        item_time_reg = REG_RATES[item_time_bin] * tf.nn.l2_loss(item_time_bin)\n",
    "        item_freq_reg = REG_RATES[item_log_freq_base] * tf.nn.l2_loss(item_log_freq_base)\n",
    "        cust_base_reg = REG_RATES[customer_baseline] * tf.nn.l2_loss(customer_baseline)\n",
    "        cust_drif_reg = REG_RATES[customer_drift] * tf.nn.l2_loss(customer_drift)\n",
    "        cust_mult_reg = REG_RATES[customer_multiplier] * tf.nn.l2_loss(customer_multiplier - 1)\n",
    "        regularization = item_base_reg + item_time_reg + item_freq_reg + cust_base_reg + cust_drif_reg + cust_mult_reg\n",
    "\n",
    "    loss = least_squares + regularization"
   ]
  },
  {
   "cell_type": "markdown",
   "metadata": {},
   "source": [
    "Training\n",
    "================\n",
    "\n",
    "Gradient descent with an exponentially decaying learning rate is the training method. I considered clipping gradients to prevent explosions, but decreasing the learning rate solved most of the associated problems. The ``global_set`` is invoked in the ``minimize`` call to keep the exponential decay on track."
   ]
  },
  {
   "cell_type": "code",
   "execution_count": 13,
   "metadata": {
    "collapsed": false
   },
   "outputs": [],
   "source": [
    "# Define the method of learning\n",
    "with tf.name_scope('train'):\n",
    "    learning_rate = tf.train.exponential_decay(STARTER_LEARNING_RATE, global_step, TOTAL_STEPS // NUM_STAIRS,\\\n",
    "                                               LEARNING_DECAY_RATE, staircase=True)\n",
    "\n",
    "    optimizer = tf.train.GradientDescentOptimizer(learning_rate)\n",
    "    train_step = optimizer.minimize(loss, global_step=global_step)"
   ]
  },
  {
   "cell_type": "markdown",
   "metadata": {},
   "source": [
    "Validation/Test Prediction\n",
    "================\n",
    "\n",
    "Creating predictions for the validation and test sets involves reading the whole set of ratings into memory then convert them to Tensorflow constants. These predications will be used to produce error estimates during training."
   ]
  },
  {
   "cell_type": "code",
   "execution_count": 14,
   "metadata": {
    "collapsed": false
   },
   "outputs": [],
   "source": [
    "# Import validation dataset and define error\n",
    "with tf.name_scope('validation'):\n",
    "    with tf.name_scope('input'):\n",
    "        val_item_idx, val_customer_idx, val_ratings, val_days, val_freqs = fetch_model_group(raw_validation_ids, \\\n",
    "                                                                        input_size=raw_validation_ids.shape[0],\\\n",
    "                                                                        output_size=raw_validation_ids.shape[0])\n",
    "\n",
    "        val_item_idx = tf.constant(val_item_idx, dtype=tf.int32, name='item_ids')\n",
    "        val_customer_idx = tf.constant(val_customer_idx, tf.int32, name='customer_ids')\n",
    "        val_ratings = tf.constant(val_ratings, tf.float32, name='rating_values')\n",
    "        val_days = tf.constant(val_days, tf.int32, name='days')\n",
    "        val_freqs = tf.constant(val_freqs, tf.int32, name='frequencies')\n",
    "    val_prediction = predict_ratings(val_item_idx, val_customer_idx, val_days, val_freqs)"
   ]
  },
  {
   "cell_type": "code",
   "execution_count": 15,
   "metadata": {
    "collapsed": true
   },
   "outputs": [],
   "source": [
    "with tf.name_scope('test'):\n",
    "    with tf.name_scope('input'):\n",
    "        test_item_idx, test_customer_idx, test_ratings, test_days, test_freqs = fetch_model_group(raw_test_ids, \\\n",
    "                                                                                    input_size=raw_test_ids.shape[0],\\\n",
    "                                                                                    output_size=raw_test_ids.shape[0])\n",
    "        test_item_idx = tf.constant(test_item_idx, dtype=tf.int32, name='item_ids')\n",
    "        test_customer_idx = tf.constant(test_customer_idx, tf.int32, name='customer_ids')\n",
    "        test_ratings = tf.constant(test_ratings, tf.float32, name='rating_values')\n",
    "        test_days = tf.constant(test_days, tf.int32, name='days')\n",
    "        test_freqs = tf.constant(test_freqs, tf.int32, name='frequencies')\n",
    "    test_prediction = predict_ratings(test_item_idx, test_customer_idx, test_days, test_freqs)"
   ]
  },
  {
   "cell_type": "markdown",
   "metadata": {},
   "source": [
    "Error\n",
    "================\n",
    "\n",
    "Different error values are computed for the training, test, and validation sets. Only RMSE and $R^2$ are used, sum squares erro and total sum squared are discarded. Those are used in the calculations for RMSE and $R^2$."
   ]
  },
  {
   "cell_type": "code",
   "execution_count": 16,
   "metadata": {
    "collapsed": false
   },
   "outputs": [],
   "source": [
    "with tf.name_scope('error'):\n",
    "    with tf.name_scope('validation'):\n",
    "        _, _, val_rmse, val_r2 = create_error_nodes(val_ratings, val_prediction)\n",
    "    \n",
    "    with tf.name_scope('training'):\n",
    "        _, _, train_rmse, train_r2 = create_error_nodes(train_ratings, train_prediction)\n",
    "    \n",
    "    with tf.name_scope('test'):\n",
    "        _, _, test_rmse, test_r2 = create_error_nodes(test_ratings, test_prediction)"
   ]
  },
  {
   "cell_type": "markdown",
   "metadata": {},
   "source": [
    "Saving Checkpoints\n",
    "=================\n",
    "\n",
    "At various points in the training process a snapshot of the graph state is saved, which can be later recovered. Registering variables with the \"key_variables\" collection designates which Tensorflow nodes are important to save and which are used for recovering state. The widget is used to display progress while training."
   ]
  },
  {
   "cell_type": "code",
   "execution_count": 17,
   "metadata": {
    "collapsed": false
   },
   "outputs": [],
   "source": [
    "graph_saver = saver = tf.train.Saver()\n",
    "save_path = TRAINING_DIR / 'checkpoints'"
   ]
  },
  {
   "cell_type": "code",
   "execution_count": 18,
   "metadata": {
    "collapsed": false
   },
   "outputs": [],
   "source": [
    "import ipywidgets as widgets\n",
    "from IPython.display import display\n",
    "progress = widgets.IntProgress(min=0, max=TOTAL_STEPS)\n",
    "rmse_display = widgets.Label(value=\"RMSE: {:.10}\".format(0.0))"
   ]
  },
  {
   "cell_type": "code",
   "execution_count": null,
   "metadata": {
    "collapsed": false
   },
   "outputs": [],
   "source": [
    "import os\n",
    "\n",
    "def get_newest_model(checkpoint_dir):\n",
    "    child_times = map(lambda path: (path, os.path.getctime(str(path))), checkpoint_dir.iterdir())\n",
    "    contain_meta = filter(lambda path_time: \"meta\" in str(path_time[0]), child_times)\n",
    "    newest_meta = sorted(contain_meta, reverse=True, key=lambda path_time: path_time[1])\n",
    "    return newest_meta[0][0]\n",
    "\n",
    "tf.add_to_collection(\"key_variables\", global_step)\n",
    "tf.add_to_collection(\"key_variables\", item_baseline)\n",
    "tf.add_to_collection(\"key_variables\", item_time_bin)\n",
    "tf.add_to_collection(\"key_variables\", item_log_freq_base)\n",
    "tf.add_to_collection(\"key_variables\", customer_baseline)\n",
    "tf.add_to_collection(\"key_variables\", customer_drift)\n",
    "tf.add_to_collection(\"key_variables\", customer_multiplier)\n",
    "\n",
    "\n",
    "def restore_model(sess, model_path, checkpoint_dir):\n",
    "    temp_saver = tf.train.import_meta_graph(model_path)\n",
    "    temp_saver.restore(sess, tf.train.latest_checkpoint(checkpoint_dir))\n",
    "    key_vars = tf.get_collection('key_variables')\n",
    "    for v in key_vars:\n",
    "        v_ = sess.run(v)"
   ]
  },
  {
   "cell_type": "markdown",
   "metadata": {},
   "source": [
    "Main Training Loop\n",
    "=====================\n",
    "\n",
    "The main training loop runs the training operation that triggers the gradient descent and update of all the parameters. The training RMSE and the validation RMSE are also calculated and saved for later display. Every 100 iterations the display RMSE is updated from the most recent validation RMSE, and every 2000 steps the model is saved to disk. After the loop is finished or interrupted the model is saved and the test set RMSE is printed out."
   ]
  },
  {
   "cell_type": "code",
   "execution_count": null,
   "metadata": {
    "collapsed": false
   },
   "outputs": [],
   "source": [
    "# Main training loop. This is where the most time is spent\n",
    "\n",
    "runner = tf.train.QueueRunner(input_queue, [enqueue_op] * NUM_INPUT_JOBS)\n",
    "init_op = tf.global_variables_initializer()\n",
    "\n",
    "training_values = list()\n",
    "validation_values = list()\n",
    "with tf.Session() as sess:\n",
    "    try:\n",
    "        coord = tf.train.Coordinator()\n",
    "        enqueue_threads = runner.create_threads(sess, coord=coord, start=True)\n",
    "    \n",
    "        sess.run(init_op)\n",
    "#         if len(list(save_path.iterdir())) > 0:\n",
    "#             restore_model(sess, str(get_newest_model(save_path)), str(save_path))\n",
    "\n",
    "        display(progress, rmse_display)\n",
    "        with coord.stop_on_exception():\n",
    "            for step in range(TOTAL_STEPS):\n",
    "                _, train_rmse_value = sess.run([train_step, train_rmse])\n",
    "                training_values.append((step, train_rmse_value))\n",
    "                validation_values.append((step, sess.run(val_rmse)))\n",
    "\n",
    "                progress.value = tf.train.global_step(sess, global_step)\n",
    "                if step % 100 == 0:\n",
    "                    rmse_display.value = \"RMSE: {:.10}\".format(validation_values[-1][1])\n",
    "                if step % 2000 == 0:\n",
    "                    graph_saver.save(sess, str(save_path / 'netflix_prize_model'), global_step=step)\n",
    "                if coord.should_stop():\n",
    "                    break\n",
    "\n",
    "        coord.request_stop()\n",
    "        coord.join(enqueue_threads)\n",
    "    except KeyboardInterrupt:\n",
    "        pass\n",
    "    print(\"Test RMSE:\", test_rmse.eval())\n",
    "    graph_saver.save(sess, str(save_path / 'netflix_prize_model'), global_step=TOTAL_STEPS)\n",
    "    \n",
    "    for idx, var in enumerate(VARIABLES):\n",
    "       np.save(TRAINING_DIR / 'variable_save' / VAR_NAMES[idx], var.eval())"
   ]
  },
  {
   "cell_type": "code",
   "execution_count": 23,
   "metadata": {
    "collapsed": false
   },
   "outputs": [],
   "source": [
    "import matplotlib.pyplot as plt\n",
    "%matplotlib inline\n",
    "\n",
    "def average(arr, n):\n",
    "    end = n * int(len(arr)/n)\n",
    "    return np.mean(arr[:end].reshape(-1, n), 1)"
   ]
  },
  {
   "cell_type": "markdown",
   "metadata": {},
   "source": [
    "# Training and Validation Error Plot"
   ]
  },
  {
   "cell_type": "code",
   "execution_count": 24,
   "metadata": {
    "collapsed": false
   },
   "outputs": [
    {
     "data": {
      "image/png": "[encoded data removed]",
      "text/plain": [
       "<matplotlib.figure.Figure at 0x7f2c844300f0>"
      ]
     },
     "metadata": {},
     "output_type": "display_data"
    }
   ],
   "source": [
    "# Display training and validation error\n",
    "\n",
    "_, t_values = list(map(np.asarray, zip(*training_values)))\n",
    "_, v_values = list(map(np.asarray, zip(*validation_values)))\n",
    "\n",
    "figure = plt.figure(figsize=(15, 4))\n",
    "plt.plot(average(t_values, 64))\n",
    "plt.plot(average(v_values, 64))\n",
    "plt.grid(axis='y')\n",
    "plt.legend([\"Test RMSE\", \"Validation RMSE\"])\n",
    "plt.xlabel(\"Step\")\n",
    "plt.ylabel('RMSE');"
   ]
  }
 ],
 "metadata": {
  "kernelspec": {
   "display_name": "Python 3",
   "language": "python",
   "name": "python3"
  },
  "language_info": {
   "codemirror_mode": {
    "name": "ipython",
    "version": 3
   },
   "file_extension": ".py",
   "mimetype": "text/x-python",
   "name": "python",
   "nbconvert_exporter": "python",
   "pygments_lexer": "ipython3",
   "version": "3.5.2"
  }
 },
 "nbformat": 4,
 "nbformat_minor": 2
}
