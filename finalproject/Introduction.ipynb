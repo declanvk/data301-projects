{
 "cells": [
  {
   "cell_type": "markdown",
   "metadata": {},
   "source": [
    "# Analysis and Baseline Modeling of the Netflix Prize Dataset\n",
    "\n",
    "by Declan Kelly\n",
    "\n",
    "### Abstract\n",
    "\n",
    "Recommendation algorithms are a commonplace occurance for people browsing the internet, swamped by too many choices. From music to shopping to movies, algorithms takes what historical preverences we display and use those to try to recommend products or items that we might like. Some algorithms leverage external data about the products, while some algorithms use their vast collections of users to build a collaborative recommendation system. The Netflix Prize dataset represents one of the largest disclosure of proprietary data for public analysis and use. This series of notebooks provides an example of working with this data, analyzing some features, and extracting a baseline model for ratings. The size of this dataset was definitely a challenge, and harnessing the correct tools for the job took some extra effort. \n",
    "\n",
    "### Dataset\n",
    "\n",
    "The Netflix prize dataset was created for the purpose of improving the Netflix recommendation algorithm by 10% from the previous algorithm. The competition ran from 2006 to 2009, when the prize of $1,000,000 was awarded. The dataset itself consisted of a set of files, one file per movie or tv show in the dataset. Each line of the file contained a rating by a user at a specified time for the movie or tv shows whose file it was in. A separate file contained a mapping of item titles and year of release to the IDs used in the rating files. The [Import/Tidy](Import-Tidy.ipynb) notebook contains the full details of the structure and encoding of the dataset.\n",
    "\n",
    "### Index\n",
    "\n",
    " + [Import/Tidy](Import-Tidy.ipynb) - In-depth description of the dataset and how it was cleaned and tidied.\n",
    " + [Exploratory Data Analysis](EDA.ipynb) - Visualizations of common features in the dataset.\n",
    " + [Baseline Modeling](Model.ipynb) - Baseline modeling of ratings\n",
    " + [Presentation](Presentation.ipynb) - Project presentation\n",
    "\n",
    "### Citations\n",
    "\n",
    " 1. Wikipedia contributors. \"Netflix Prize.\" Wikipedia, The Free Encyclopedia. Wikipedia, The Free Encyclopedia, 10 Mar. 2017. Web. 23 Mar. 2017.\n",
    " 2. Koren, Yehuda. \"The bellkor solution to the netflix grand prize.\" Netflix prize documentation 81 (2009): 1-10."
   ]
  }
 ],
 "metadata": {
  "kernelspec": {
   "display_name": "Python 3",
   "language": "python",
   "name": "python3"
  },
  "language_info": {
   "codemirror_mode": {
    "name": "ipython",
    "version": 3
   },
   "file_extension": ".py",
   "mimetype": "text/x-python",
   "name": "python",
   "nbconvert_exporter": "python",
   "pygments_lexer": "ipython3",
   "version": "3.5.2"
  }
 },
 "nbformat": 4,
 "nbformat_minor": 2
}
