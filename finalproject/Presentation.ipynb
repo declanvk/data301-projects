{
 "cells": [
  {
   "cell_type": "markdown",
   "metadata": {
    "collapsed": true
   },
   "source": [
    "Final Project Presentation\n",
    "==============="
   ]
  },
  {
   "cell_type": "code",
   "execution_count": 1,
   "metadata": {
    "collapsed": true
   },
   "outputs": [],
   "source": [
    "import sqlite3\n",
    "import pathlib\n",
    "from contextlib import closing\n",
    "\n",
    "import numpy as np\n",
    "import pandas as pd\n",
    "import scipy.stats as stats\n",
    "\n",
    "import matplotlib.pyplot as plt\n",
    "\n",
    "%matplotlib inline"
   ]
  },
  {
   "cell_type": "code",
   "execution_count": 2,
   "metadata": {
    "collapsed": true
   },
   "outputs": [],
   "source": [
    "DATA_DIR = pathlib.Path('/') / 'data' / 'declanvk'\n",
    "VARIABLE_DIR = DATA_DIR / 'training_log' / 'variable_save'\n",
    "DB_PATH = DATA_DIR / 'netflix_prize.sqlite'\n",
    "\n",
    "DB_RATING_QUERY = \"\"\"\n",
    "SELECT\n",
    "  rating.item_id AS ItemID,\n",
    "  rating.customer_id AS CustomerID,\n",
    "  rating.value AS Rating,\n",
    "  rating.day AS Day,\n",
    "  freq AS Freq\n",
    "FROM rating\n",
    "  INNER JOIN customer_time_freq\n",
    "    ON (\n",
    "    customer_time_freq.customer_id = rating.customer_id AND\n",
    "    customer_time_freq.day = rating.day)\n",
    "WHERE model_group_id IN ({});\n",
    "\"\"\"\n",
    "\n",
    "NUM_BINS = 30\n",
    "DRIFT_BETA = 0.4\n",
    "\n",
    "NUM_MODEL_GROUPS = 1000000\n",
    "\n",
    "COLUMN_TYPES = [np.int32, np.int32, np.float32, np.int32, np.int32]"
   ]
  },
  {
   "cell_type": "code",
   "execution_count": 3,
   "metadata": {
    "collapsed": false
   },
   "outputs": [],
   "source": [
    "with sqlite3.connect(str(DB_PATH)) as connection, closing(connection.cursor()) as curs:\n",
    "    curs.execute('SELECT count(*) FROM item')\n",
    "    num_items, = curs.fetchone()\n",
    "    curs.execute('SELECT count(*) FROM rating')\n",
    "    num_ratings, = curs.fetchone()\n",
    "    curs.execute('SELECT count(*) FROM customer')\n",
    "    num_customers, = curs.fetchone()\n",
    "    curs.execute('SELECT avg(value) FROM rating')\n",
    "    avg_rating, = curs.fetchone()\n",
    "    curs.execute('SELECT mean_day FROM customer ORDER BY customer_id ASC')\n",
    "    mean_days = np.fromiter(map(lambda row: row[0], curs.fetchall()), dtype=np.float32)\n",
    "    curs.execute('SELECT min(day), max(day) FROM rating')\n",
    "    min_day, max_day = curs.fetchone()\n",
    "    curs.execute('SELECT min(freq), max(freq) FROM customer_time_freq')\n",
    "    min_freq, max_freq = curs.fetchone()\n",
    "    min_log_freq, max_log_freq = list(map(lambda x: int(np.floor(np.log(x))), [min_freq, max_freq]))"
   ]
  },
  {
   "cell_type": "code",
   "execution_count": 4,
   "metadata": {
    "collapsed": false
   },
   "outputs": [],
   "source": [
    "item_time_binned_baseline = np.load(VARIABLE_DIR / 'item_time_binned_baseline.npy')\n",
    "item_log_frequency_baseline = np.load(VARIABLE_DIR / 'item_log_frequency_baseline.npy')\n",
    "item_baseline = np.load(VARIABLE_DIR / 'item_baseline.npy')\n",
    "customer_multiplier = np.load(VARIABLE_DIR / 'customer_multiplier.npy')\n",
    "customer_drift = np.load(VARIABLE_DIR / 'customer_drift.npy')\n",
    "customer_baseline = np.load(VARIABLE_DIR / 'customer_baseline.npy')"
   ]
  },
  {
   "cell_type": "code",
   "execution_count": 5,
   "metadata": {
    "collapsed": true
   },
   "outputs": [],
   "source": [
    "def get_ratings(model_groups):\n",
    "    query = DB_RATING_QUERY.format(\",\".join(map(str, model_groups)))\n",
    "    with sqlite3.connect(str(DB_PATH)) as connection:\n",
    "        data = pd.read_sql(query, connection)\n",
    "        convert_pair = lambda pair: data[pair[1]].as_matrix().astype(COLUMN_TYPES[pair[0]])\n",
    "        return list(map(convert_pair, enumerate(data)))"
   ]
  },
  {
   "cell_type": "code",
   "execution_count": 6,
   "metadata": {
    "collapsed": true
   },
   "outputs": [],
   "source": [
    "def predict_baseline_rating(item_ids, customer_ids, days, frequencies):\n",
    "    assert item_ids.size == customer_ids.size == days.size == frequencies.size\n",
    "    \n",
    "    # Item binned time term\n",
    "    binned_day_idx = (NUM_BINS * (days - min_day) / (max_day - min_day)).astype(np.int32)\n",
    "    item_time_binned_baseline_subset = item_time_binned_baseline[item_ids, binned_day_idx]\n",
    "    \n",
    "    # Item frequency term\n",
    "    floor_log_freq = np.floor(np.log(frequencies)).astype(np.int32)\n",
    "    item_log_freq_baseline_subset = item_log_frequency_baseline[item_ids, floor_log_freq]\n",
    "    \n",
    "    # Item baseline term\n",
    "    item_baseline_subset = item_baseline[item_ids]\n",
    "    \n",
    "    # Item term\n",
    "    item_term = item_baseline_subset + item_time_binned_baseline_subset\n",
    "    \n",
    "    # Customer item multiplier term\n",
    "    customer_multiplier_subset = customer_multiplier[customer_ids]\n",
    "    \n",
    "    # Customer drift term\n",
    "    time_diff = days.astype(np.float32) - mean_days[customer_ids]\n",
    "    customer_deviation = customer_drift[customer_ids] * np.sign(time_diff) * np.power(np.abs(time_diff), DRIFT_BETA)\n",
    "    \n",
    "    # Customer baseline term\n",
    "    customer_baseline_subset = customer_baseline[customer_ids]\n",
    "    \n",
    "    # Customer term\n",
    "    customer_term = customer_baseline_subset + customer_deviation\n",
    "    \n",
    "    return avg_rating + customer_term + item_term * customer_multiplier_subset + item_log_freq_baseline_subset"
   ]
  },
  {
   "cell_type": "code",
   "execution_count": 7,
   "metadata": {
    "collapsed": false
   },
   "outputs": [],
   "source": [
    "# Get rating data\n",
    "\n",
    "model_group_ids = np.random.choice(NUM_MODEL_GROUPS, size=int(NUM_MODEL_GROUPS * 0.005), replace=False)\n",
    "\n",
    "item_ids, customer_ids, ratings, days, frequencies = get_ratings(model_group_ids)"
   ]
  },
  {
   "cell_type": "code",
   "execution_count": 8,
   "metadata": {
    "collapsed": false
   },
   "outputs": [],
   "source": [
    "predicted_ratings = predict_baseline_rating(item_ids, customer_ids, days, frequencies)"
   ]
  },
  {
   "cell_type": "code",
   "execution_count": 9,
   "metadata": {
    "collapsed": false
   },
   "outputs": [
    {
     "data": {
      "text/plain": [
       "(array([  9.89000000e+02,   1.27160000e+04,   2.52960000e+04,\n",
       "          5.86620000e+04,   1.28288000e+05,   1.52139000e+05,\n",
       "          1.00675000e+05,   2.51980000e+04,   2.50000000e+02,\n",
       "          6.00000000e+00]),\n",
       " array([-3.75911903, -3.01806226, -2.27700548, -1.53594871, -0.79489193,\n",
       "        -0.05383515,  0.68722162,  1.4282784 ,  2.16933517,  2.91039195,\n",
       "         3.65144873]),\n",
       " <a list of 10 Patch objects>)"
      ]
     },
     "execution_count": 9,
     "metadata": {},
     "output_type": "execute_result"
    },
    {
     "data": {
      "image/png": "[encoded data removed]",
      "text/plain": [
       "<matplotlib.figure.Figure at 0x7f6bdd118128>"
      ]
     },
     "metadata": {},
     "output_type": "display_data"
    }
   ],
   "source": [
    "plt.hist(ratings - predicted_ratings)"
   ]
  },
  {
   "cell_type": "code",
   "execution_count": null,
   "metadata": {
    "collapsed": true
   },
   "outputs": [],
   "source": [
    "CONNECTION = sqlite3.connect(str(DB_PATH))"
   ]
  }
 ],
 "metadata": {
  "kernelspec": {
   "display_name": "Python 3",
   "language": "python",
   "name": "python3"
  },
  "language_info": {
   "codemirror_mode": {
    "name": "ipython",
    "version": 3
   },
   "file_extension": ".py",
   "mimetype": "text/x-python",
   "name": "python",
   "nbconvert_exporter": "python",
   "pygments_lexer": "ipython3",
   "version": "3.5.2"
  }
 },
 "nbformat": 4,
 "nbformat_minor": 2
}
